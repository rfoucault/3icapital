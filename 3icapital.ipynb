{
  "cells": [
    {
      "cell_type": "markdown",
      "metadata": {},
      "source": [
        "# AUTOMATIC TRENDLINES DETECTION"
      ]
    },
    {
      "cell_type": "code",
      "execution_count": null,
      "metadata": {},
      "outputs": [],
      "source": [
        "!git clone https://github.com/rfoucault/3icapital.git\n",
        "%cd 3icapital"
      ]
    },
    {
      "cell_type": "code",
      "execution_count": 1,
      "metadata": {
        "id": "3-jzpC8Lyj9O"
      },
      "outputs": [],
      "source": [
        "import numpy as np\n",
        "import pandas as pd\n",
        "import warnings\n",
        "from functions import plot_candles, get_best_fit_slope_intercept, fit_trendlines, compute_trendline_scores_parallel, candles_close_to_trendline_numba, dist_from_trendline_numba, compute_canal_score, is_wedge\n",
        "\n",
        "pd.set_option('display.max_columns', None)\n",
        "warnings.filterwarnings('ignore')\n"
      ]
    },
    {
      "cell_type": "markdown",
      "metadata": {},
      "source": [
        "## 1. Choose a stock "
      ]
    },
    {
      "cell_type": "code",
      "execution_count": 2,
      "metadata": {},
      "outputs": [],
      "source": [
        "data = pd.read_csv('data/BTC.csv')"
      ]
    },
    {
      "cell_type": "code",
      "execution_count": 3,
      "metadata": {},
      "outputs": [
        {
          "data": {
            "text/html": [
              "<div>\n",
              "<style scoped>\n",
              "    .dataframe tbody tr th:only-of-type {\n",
              "        vertical-align: middle;\n",
              "    }\n",
              "\n",
              "    .dataframe tbody tr th {\n",
              "        vertical-align: top;\n",
              "    }\n",
              "\n",
              "    .dataframe thead th {\n",
              "        text-align: right;\n",
              "    }\n",
              "</style>\n",
              "<table border=\"1\" class=\"dataframe\">\n",
              "  <thead>\n",
              "    <tr style=\"text-align: right;\">\n",
              "      <th></th>\n",
              "      <th>open_time</th>\n",
              "      <th>open</th>\n",
              "      <th>high</th>\n",
              "      <th>low</th>\n",
              "      <th>close</th>\n",
              "      <th>volume</th>\n",
              "      <th>close_time</th>\n",
              "      <th>quote_asset_volume</th>\n",
              "      <th>trades</th>\n",
              "      <th>taker_buy_base_asset_volume</th>\n",
              "      <th>taker_buy_quote_asset_volume</th>\n",
              "      <th>symbol</th>\n",
              "    </tr>\n",
              "  </thead>\n",
              "  <tbody>\n",
              "    <tr>\n",
              "      <th>0</th>\n",
              "      <td>2017-08-17 04:00:00</td>\n",
              "      <td>4261.48</td>\n",
              "      <td>4313.62</td>\n",
              "      <td>4261.32</td>\n",
              "      <td>4308.83</td>\n",
              "      <td>47.181009</td>\n",
              "      <td>2017-08-17 04:59:59</td>\n",
              "      <td>202366.138393</td>\n",
              "      <td>171</td>\n",
              "      <td>35.160503</td>\n",
              "      <td>150952.477943</td>\n",
              "      <td>BTCUSDT</td>\n",
              "    </tr>\n",
              "    <tr>\n",
              "      <th>1</th>\n",
              "      <td>2017-08-17 05:00:00</td>\n",
              "      <td>4308.83</td>\n",
              "      <td>4328.69</td>\n",
              "      <td>4291.37</td>\n",
              "      <td>4315.32</td>\n",
              "      <td>23.234916</td>\n",
              "      <td>2017-08-17 05:59:59</td>\n",
              "      <td>100304.823567</td>\n",
              "      <td>102</td>\n",
              "      <td>21.448071</td>\n",
              "      <td>92608.279728</td>\n",
              "      <td>BTCUSDT</td>\n",
              "    </tr>\n",
              "    <tr>\n",
              "      <th>2</th>\n",
              "      <td>2017-08-17 06:00:00</td>\n",
              "      <td>4330.29</td>\n",
              "      <td>4345.45</td>\n",
              "      <td>4309.37</td>\n",
              "      <td>4324.35</td>\n",
              "      <td>7.229691</td>\n",
              "      <td>2017-08-17 06:59:59</td>\n",
              "      <td>31282.312670</td>\n",
              "      <td>36</td>\n",
              "      <td>4.802861</td>\n",
              "      <td>20795.317224</td>\n",
              "      <td>BTCUSDT</td>\n",
              "    </tr>\n",
              "    <tr>\n",
              "      <th>3</th>\n",
              "      <td>2017-08-17 07:00:00</td>\n",
              "      <td>4316.62</td>\n",
              "      <td>4349.99</td>\n",
              "      <td>4287.41</td>\n",
              "      <td>4349.99</td>\n",
              "      <td>4.443249</td>\n",
              "      <td>2017-08-17 07:59:59</td>\n",
              "      <td>19241.058300</td>\n",
              "      <td>25</td>\n",
              "      <td>2.602292</td>\n",
              "      <td>11291.347015</td>\n",
              "      <td>BTCUSDT</td>\n",
              "    </tr>\n",
              "    <tr>\n",
              "      <th>4</th>\n",
              "      <td>2017-08-17 08:00:00</td>\n",
              "      <td>4333.32</td>\n",
              "      <td>4377.85</td>\n",
              "      <td>4333.32</td>\n",
              "      <td>4360.69</td>\n",
              "      <td>0.972807</td>\n",
              "      <td>2017-08-17 08:59:59</td>\n",
              "      <td>4239.503586</td>\n",
              "      <td>28</td>\n",
              "      <td>0.814655</td>\n",
              "      <td>3552.746817</td>\n",
              "      <td>BTCUSDT</td>\n",
              "    </tr>\n",
              "  </tbody>\n",
              "</table>\n",
              "</div>"
            ],
            "text/plain": [
              "             open_time     open     high      low    close     volume  \\\n",
              "0  2017-08-17 04:00:00  4261.48  4313.62  4261.32  4308.83  47.181009   \n",
              "1  2017-08-17 05:00:00  4308.83  4328.69  4291.37  4315.32  23.234916   \n",
              "2  2017-08-17 06:00:00  4330.29  4345.45  4309.37  4324.35   7.229691   \n",
              "3  2017-08-17 07:00:00  4316.62  4349.99  4287.41  4349.99   4.443249   \n",
              "4  2017-08-17 08:00:00  4333.32  4377.85  4333.32  4360.69   0.972807   \n",
              "\n",
              "            close_time  quote_asset_volume  trades  \\\n",
              "0  2017-08-17 04:59:59       202366.138393     171   \n",
              "1  2017-08-17 05:59:59       100304.823567     102   \n",
              "2  2017-08-17 06:59:59        31282.312670      36   \n",
              "3  2017-08-17 07:59:59        19241.058300      25   \n",
              "4  2017-08-17 08:59:59         4239.503586      28   \n",
              "\n",
              "   taker_buy_base_asset_volume  taker_buy_quote_asset_volume   symbol  \n",
              "0                    35.160503                 150952.477943  BTCUSDT  \n",
              "1                    21.448071                  92608.279728  BTCUSDT  \n",
              "2                     4.802861                  20795.317224  BTCUSDT  \n",
              "3                     2.602292                  11291.347015  BTCUSDT  \n",
              "4                     0.814655                   3552.746817  BTCUSDT  "
            ]
          },
          "execution_count": 3,
          "metadata": {},
          "output_type": "execute_result"
        }
      ],
      "source": [
        "data.head()"
      ]
    },
    {
      "cell_type": "markdown",
      "metadata": {},
      "source": [
        "- Choose an interval, recommended maximum 4 days.\n",
        "- With an hour timeframe, 4 days get nearly 100 candles. Better for computations "
      ]
    },
    {
      "cell_type": "code",
      "execution_count": 4,
      "metadata": {},
      "outputs": [],
      "source": [
        "start = '2025-02-18'\n",
        "end =  '2025-02-22'"
      ]
    },
    {
      "cell_type": "code",
      "execution_count": 5,
      "metadata": {},
      "outputs": [
        {
          "name": "stdout",
          "output_type": "stream",
          "text": [
            "candles number : 95\n"
          ]
        }
      ],
      "source": [
        "data['date'] = data['open_time'].astype('datetime64[s]')\n",
        "data = data.set_index('date')\n",
        "\n",
        "data = data[['open', 'high', 'low', 'close']]\n",
        "df = data[(data.index > start) & (data.index < end)]\n",
        "df['time'] = pd.to_datetime(df.index)\n",
        "print(f\"candles number : {df.shape[0]}\")"
      ]
    },
    {
      "cell_type": "code",
      "execution_count": 6,
      "metadata": {
        "colab": {
          "base_uri": "https://localhost:8080/",
          "height": 238
        },
        "id": "mkwGyLuIz0Wv",
        "outputId": "0d7ff9ef-f13a-45ff-ce05-2a0d2f77423e"
      },
      "outputs": [
        {
          "data": {
            "text/html": [
              "<div>\n",
              "<style scoped>\n",
              "    .dataframe tbody tr th:only-of-type {\n",
              "        vertical-align: middle;\n",
              "    }\n",
              "\n",
              "    .dataframe tbody tr th {\n",
              "        vertical-align: top;\n",
              "    }\n",
              "\n",
              "    .dataframe thead th {\n",
              "        text-align: right;\n",
              "    }\n",
              "</style>\n",
              "<table border=\"1\" class=\"dataframe\">\n",
              "  <thead>\n",
              "    <tr style=\"text-align: right;\">\n",
              "      <th></th>\n",
              "      <th>open</th>\n",
              "      <th>high</th>\n",
              "      <th>low</th>\n",
              "      <th>close</th>\n",
              "      <th>time</th>\n",
              "    </tr>\n",
              "    <tr>\n",
              "      <th>date</th>\n",
              "      <th></th>\n",
              "      <th></th>\n",
              "      <th></th>\n",
              "      <th></th>\n",
              "      <th></th>\n",
              "    </tr>\n",
              "  </thead>\n",
              "  <tbody>\n",
              "    <tr>\n",
              "      <th>2025-02-18 01:00:00</th>\n",
              "      <td>95637.93</td>\n",
              "      <td>96300.00</td>\n",
              "      <td>95606.46</td>\n",
              "      <td>96266.24</td>\n",
              "      <td>2025-02-18 01:00:00</td>\n",
              "    </tr>\n",
              "    <tr>\n",
              "      <th>2025-02-18 02:00:00</th>\n",
              "      <td>96266.24</td>\n",
              "      <td>96322.97</td>\n",
              "      <td>96015.00</td>\n",
              "      <td>96064.47</td>\n",
              "      <td>2025-02-18 02:00:00</td>\n",
              "    </tr>\n",
              "    <tr>\n",
              "      <th>2025-02-18 03:00:00</th>\n",
              "      <td>96064.47</td>\n",
              "      <td>96290.00</td>\n",
              "      <td>96000.00</td>\n",
              "      <td>96200.00</td>\n",
              "      <td>2025-02-18 03:00:00</td>\n",
              "    </tr>\n",
              "    <tr>\n",
              "      <th>2025-02-18 04:00:00</th>\n",
              "      <td>96200.00</td>\n",
              "      <td>96300.73</td>\n",
              "      <td>95968.10</td>\n",
              "      <td>96070.81</td>\n",
              "      <td>2025-02-18 04:00:00</td>\n",
              "    </tr>\n",
              "    <tr>\n",
              "      <th>2025-02-18 05:00:00</th>\n",
              "      <td>96070.81</td>\n",
              "      <td>96110.63</td>\n",
              "      <td>95539.14</td>\n",
              "      <td>95609.49</td>\n",
              "      <td>2025-02-18 05:00:00</td>\n",
              "    </tr>\n",
              "  </tbody>\n",
              "</table>\n",
              "</div>"
            ],
            "text/plain": [
              "                         open      high       low     close  \\\n",
              "date                                                          \n",
              "2025-02-18 01:00:00  95637.93  96300.00  95606.46  96266.24   \n",
              "2025-02-18 02:00:00  96266.24  96322.97  96015.00  96064.47   \n",
              "2025-02-18 03:00:00  96064.47  96290.00  96000.00  96200.00   \n",
              "2025-02-18 04:00:00  96200.00  96300.73  95968.10  96070.81   \n",
              "2025-02-18 05:00:00  96070.81  96110.63  95539.14  95609.49   \n",
              "\n",
              "                                   time  \n",
              "date                                     \n",
              "2025-02-18 01:00:00 2025-02-18 01:00:00  \n",
              "2025-02-18 02:00:00 2025-02-18 02:00:00  \n",
              "2025-02-18 03:00:00 2025-02-18 03:00:00  \n",
              "2025-02-18 04:00:00 2025-02-18 04:00:00  \n",
              "2025-02-18 05:00:00 2025-02-18 05:00:00  "
            ]
          },
          "execution_count": 6,
          "metadata": {},
          "output_type": "execute_result"
        }
      ],
      "source": [
        "df.head()"
      ]
    },
    {
      "cell_type": "code",
      "execution_count": 7,
      "metadata": {},
      "outputs": [
        {
          "data": {
            "application/vnd.plotly.v1+json": {
              "config": {
                "plotlyServerURL": "https://plot.ly"
              },
              "data": [
                {
                  "close": {
                    "bdata": "cT0K16OA90BSuB6FB3T3QAAAAACAfPdAXI/C9Wx090BxPQrXl1f3QAAAAABsSfdAFK5H4Q5O90DXo3A9bkD3QDMzMzP/YfdAAAAAAOhf90AK16NwhVn3QAAAAAAgfPdAAAAAAGB+90B7FK5HDVP3QOF6FK6nU/dA4XoUrv8a90D2KFyPYvn2QK5H4XpA7vZA16NwPYL59kAfhetRQP/2QMP1KFyXNfdAFK5H4YZE90BxPQrXe1v3QGZmZmYiRvdAcT0K139P90CPwvUofGX3QI/C9SjkXfdAmpmZmd0+90B7FK5HlUP3QFyPwvUEWPdAw/UoXHtc90BxPQrX31j3QGZmZmYWbPdA7FG4HqWE90CamZmZaYr3QKRwPQpnevdAPQrXo1iB90B7FK5HZWH3QHE9Ctd7bPdAAAAAAMCC90DsUbgeWYj3QD0K16NoW/dAPQrXo+h890BSuB6FS3v3QNejcD26g/dAmpmZmb2R90C4HoXrRZj3QOF6FK5fpfdAhetRuPqf90AfhetR6Lb3QAAAAAD0sfdAw/UoXIe890BxPQrX36j3QHE9Cte/qPdAhetRuD6m90CPwvUo4Lf3QEjhehQKuvdA4XoUrt/F90CF61G4frv3QClcj8JFyfdApHA9CqPR90D2KFyPbqz3QB+F61F8qPdA4XoUruvQ90AzMzMzL+r3QHsUrkdx//dAzczMzGwH+EApXI/CWQn4QMP1KFyX8vdAMzMzM2/190AAAAAAEAD4QOxRuB7F+/dAAAAAAIAA+EC4HoXr8fP3QHE9Ctff9fdAj8L1KMD590B7FK5H2QH4QHE9CtefBvhAj8L1KDz490D2KFyPVvr3QDMzMzMbAvhAAAAAAEAT+EDNzMzMVBT4QAAAAACAJfhAFK5H4W5A+EAfhetRnB34QD0K16OA8/dAXI/C9Xz690BmZmZmvqz3QB+F61H4kfdAKVyPwlFD90AAAAAApDX3QK5H4XowSvdArkfhevhk90DhehSuX3v3QA==",
                    "dtype": "f8"
                  },
                  "decreasing": {
                    "line": {
                      "color": "red"
                    }
                  },
                  "high": {
                    "bdata": "AAAAAMCC90BSuB6FL4T3QAAAAAAggvdA4XoUrsuC90BI4XoU6nb3QD0K16OcWfdApHA9ChNe90ApXI/C4VX3QAAAAABIYvdAhetRuAJo90CamZmZYWL3QM3MzMyQgfdA9ihcjy6O90D2KFyPHp/3QB+F61EsX/dAZmZmZhJZ90BxPQrX6yn3QLgehevtCPdASOF6FD4M90BmZmZmpg/3QGZmZmZ2R/dAAAAAAORS90AAAAAAUFz3QFyPwvWQZvdAAAAAAIBP90A9CtejmG33QOxRuB7dZfdAMzMzM49h90DNzMzMwEb3QAAAAABAWvdAZmZmZmJm90AAAAAAoGf3QAAAAACEcfdAcT0K10+N90B7FK5HcYr3QAAAAADwjvdAmpmZmRmO90AAAAAAwJv3QDMzMzNXifdA16NwPXaH90AAAAAAAI73QFK4HoXrifdAzczMzCx/90BxPQrX/433QLgeheuljvdAKVyPwt2W90BxPQrXP6j3QHE9CtdfpfdAAAAAAICu90A9CtejuL/3QHsUrkctxfdAKVyPwrHD90DD9Shch7z3QM3MzMx0rvdAuB6F6w2090BxPQrX27r3QAAAAABAwPdAAAAAAODF90CuR+F6gMb3QEjhehTe0PdAj8L1KOTR90BmZmZm4vD3QOxRuB7hwvdAAAAAAADr90BxPQrX/+z3QAAAAABACPhAAAAAAGAN+EApXI/CdRn4QBSuR+EmDPhA9ihcjzoE+EDXo3A97gz4QAAAAACQDPhAAAAAAOAC+EBSuB6FWwT4QI/C9Sik//dAZmZmZvL990Bcj8L1VAX4QJqZmZlVB/hAhetRuCIT+ED2KFyPXv33QFyPwvUMJfhAexSuR30X+EApXI/CESH4QBSuR+HeKPhAAAAAADBJ+ECF61G4QkP4QArXo3BVQPhAAAAAAFAc+EB7FK5H6Qf4QGZmZmZ2vPdAAAAAANCj90BmZmZmflv3QAAAAACAT/dAmpmZmalr90AUrkfhqnz3QA==",
                    "dtype": "f8"
                  },
                  "increasing": {
                    "line": {
                      "color": "green"
                    }
                  },
                  "low": {
                    "bdata": "w/UoXGdX90AAAAAA8HD3QAAAAAAAcPdAmpmZmQFu90DXo3A9MlP3QLgehethQfdAXI/C9SBE90AAAAAAoDT3QD0K16PQOvdAzczMzCBZ90AK16Nw7VT3QIXrUbgCV/dAH4XrUbx290C4HoXr8Uj3QAAAAAAAPvdAMzMzM5cZ90BmZmZmYvn2QAAAAAAA2vZACtejcMHM9kBSuB6FK+L2QM3MzMxs+vZAhetRuHoo90BmZmZmkkH3QKRwPQr/QvdAAAAAAPA090CuR+F6IE73QOxRuB7ZVPdAmpmZmd0+90BxPQrXXzP3QGZmZmYaQfdAAAAAAEBW90CamZmZCVj3QDMzMzPbWPdA16NwPRZs90BmZmZm1nz3QGZmZmamePdApHA9Cmd690AAAAAAwFz3QClcj8IFU/dAPQrXo6hr90AAAAAAoHf3QK5H4XqAWfdA9ihcj/ZK90DXo3A9Xnb3QEjhehSmc/dAmpmZmRWD90DNzMzMqJD3QArXo3DxifdACtejcDGX90DhehSuN573QD0K16M0rfdACtejcKmw90BSuB6Ft6f3QOxRuB7ZoPdAAAAAAECi90ApXI/CGaL3QAAAAADgt/dAAAAAAHy090CkcD0KQ7j3QIXrUbh+u/dAj8L1KEi/90CPwvUo2Kb3QIXrUbj2ofdAAAAAAICn90BmZmZmVtD3QArXo3B16fdAcT0K1x/890DhehSumwD4QAAAAAAA7fdAexSuR+Hw90AAAAAAMPT3QFyPwvVA8vdAMzMzMxP090ApXI/C8fP3QGZmZmZS8vdA4XoUrlv090CkcD0Kz/b3QEjhehRK//dAAAAAAMD390AAAAAAYPb3QClcj8Lx8/dASOF6FAr890DsUbgeqQv4QD0K16M0DvhAAAAAAAAf+ECkcD0KmwL4QFyPwvWUufdAhetRuN7a90CPwvUoAKT3QHE9Ctc3kPdAZmZmZvJA90AzMzMzfyn3QEjhehTiMfdAcT0K19dA90BI4XoULlv3QA==",
                    "dtype": "f8"
                  },
                  "name": "Candles",
                  "open": {
                    "bdata": "FK5H4V5Z90BxPQrXo4D3QFK4HoUHdPdAAAAAAIB890Bcj8L1bHT3QAAAAACYV/dAcT0K12tJ90CF61G4Dk73QNejcD1uQPdApHA9Cv9h90AAAAAA6F/3QJqZmZmFWfdAAAAAACB890AAAAAAYH73QHsUrkcNU/dAcT0K16dT90DhehSu/xr3QPYoXI9i+fZArkfhekDu9kBmZmZmgvn2QB+F61FM//ZAw/UoXJc190CF61G4hkT3QHE9Ctd7W/dAZmZmZiJG90AAAAAAgE/3QI/C9Sh8ZfdAAAAAAORd90AK16Nw3T73QArXo3CVQ/dAXI/C9QRY90DD9Shce1z3QHE9CtffWPdAZmZmZhZs90Bcj8L1pIT3QJqZmZlpivdAMzMzM2d690A9CtejWIH3QHsUrkdlYfdAcT0K13ts90AAAAAAwIL3QOxRuB5ZiPdArkfhemhb90A9Ctej6Hz3QFK4HoVLe/dAZmZmZrqD90AK16NwvZH3QLgehetFmPdA4XoUrl+l90CF61G4+p/3QB+F61HotvdAcT0K1/Ox90DD9Shch7z3QHE9CtffqPdAAAAAAMCo90CF61G4Pqb3QI/C9Sjgt/dASOF6FAq690DhehSu38X3QBSuR+F+u/dAuB6F60XJ90AzMzMzo9H3QIXrUbhurPdAj8L1KHyo90DhehSu69D3QDMzMzMv6vdACtejcHH/90DNzMzMbAf4QClcj8JZCfhAMzMzM5fy90AzMzMzb/X3QI/C9SgQAPhA7FG4HsX790AAAAAAgAD4QEjhehTy8/dAcT0K19/190AfhetRwPn3QArXo3DZAfhAAAAAAKAG+EAfhetRPPj3QPYoXI9W+vdAMzMzMxsC+EAAAAAAQBP4QFyPwvVUFPhAcT0K138l+ECF61G4bkD4QK5H4XqcHfhAPQrXo4Dz90Bcj8L1fPr3QPYoXI++rPdAH4XrUfiR90ApXI/CUUP3QHE9CtejNfdArkfhejBK90CuR+F6+GT3QA==",
                    "dtype": "f8"
                  },
                  "type": "candlestick",
                  "x": [
                    "2025-02-18T01:00:00",
                    "2025-02-18T02:00:00",
                    "2025-02-18T03:00:00",
                    "2025-02-18T04:00:00",
                    "2025-02-18T05:00:00",
                    "2025-02-18T06:00:00",
                    "2025-02-18T07:00:00",
                    "2025-02-18T08:00:00",
                    "2025-02-18T09:00:00",
                    "2025-02-18T10:00:00",
                    "2025-02-18T11:00:00",
                    "2025-02-18T12:00:00",
                    "2025-02-18T13:00:00",
                    "2025-02-18T14:00:00",
                    "2025-02-18T15:00:00",
                    "2025-02-18T16:00:00",
                    "2025-02-18T17:00:00",
                    "2025-02-18T18:00:00",
                    "2025-02-18T19:00:00",
                    "2025-02-18T20:00:00",
                    "2025-02-18T21:00:00",
                    "2025-02-18T22:00:00",
                    "2025-02-18T23:00:00",
                    "2025-02-19T00:00:00",
                    "2025-02-19T01:00:00",
                    "2025-02-19T02:00:00",
                    "2025-02-19T03:00:00",
                    "2025-02-19T04:00:00",
                    "2025-02-19T05:00:00",
                    "2025-02-19T06:00:00",
                    "2025-02-19T07:00:00",
                    "2025-02-19T08:00:00",
                    "2025-02-19T09:00:00",
                    "2025-02-19T10:00:00",
                    "2025-02-19T11:00:00",
                    "2025-02-19T12:00:00",
                    "2025-02-19T13:00:00",
                    "2025-02-19T14:00:00",
                    "2025-02-19T15:00:00",
                    "2025-02-19T16:00:00",
                    "2025-02-19T17:00:00",
                    "2025-02-19T18:00:00",
                    "2025-02-19T19:00:00",
                    "2025-02-19T20:00:00",
                    "2025-02-19T21:00:00",
                    "2025-02-19T22:00:00",
                    "2025-02-19T23:00:00",
                    "2025-02-20T00:00:00",
                    "2025-02-20T01:00:00",
                    "2025-02-20T02:00:00",
                    "2025-02-20T03:00:00",
                    "2025-02-20T04:00:00",
                    "2025-02-20T05:00:00",
                    "2025-02-20T06:00:00",
                    "2025-02-20T07:00:00",
                    "2025-02-20T08:00:00",
                    "2025-02-20T09:00:00",
                    "2025-02-20T10:00:00",
                    "2025-02-20T11:00:00",
                    "2025-02-20T12:00:00",
                    "2025-02-20T13:00:00",
                    "2025-02-20T14:00:00",
                    "2025-02-20T15:00:00",
                    "2025-02-20T16:00:00",
                    "2025-02-20T17:00:00",
                    "2025-02-20T18:00:00",
                    "2025-02-20T19:00:00",
                    "2025-02-20T20:00:00",
                    "2025-02-20T21:00:00",
                    "2025-02-20T22:00:00",
                    "2025-02-20T23:00:00",
                    "2025-02-21T00:00:00",
                    "2025-02-21T01:00:00",
                    "2025-02-21T02:00:00",
                    "2025-02-21T03:00:00",
                    "2025-02-21T04:00:00",
                    "2025-02-21T05:00:00",
                    "2025-02-21T06:00:00",
                    "2025-02-21T07:00:00",
                    "2025-02-21T08:00:00",
                    "2025-02-21T09:00:00",
                    "2025-02-21T10:00:00",
                    "2025-02-21T11:00:00",
                    "2025-02-21T12:00:00",
                    "2025-02-21T13:00:00",
                    "2025-02-21T14:00:00",
                    "2025-02-21T15:00:00",
                    "2025-02-21T16:00:00",
                    "2025-02-21T17:00:00",
                    "2025-02-21T18:00:00",
                    "2025-02-21T19:00:00",
                    "2025-02-21T20:00:00",
                    "2025-02-21T21:00:00",
                    "2025-02-21T22:00:00",
                    "2025-02-21T23:00:00"
                  ]
                }
              ],
              "layout": {
                "height": 600,
                "template": {
                  "data": {
                    "bar": [
                      {
                        "error_x": {
                          "color": "#2a3f5f"
                        },
                        "error_y": {
                          "color": "#2a3f5f"
                        },
                        "marker": {
                          "line": {
                            "color": "white",
                            "width": 0.5
                          },
                          "pattern": {
                            "fillmode": "overlay",
                            "size": 10,
                            "solidity": 0.2
                          }
                        },
                        "type": "bar"
                      }
                    ],
                    "barpolar": [
                      {
                        "marker": {
                          "line": {
                            "color": "white",
                            "width": 0.5
                          },
                          "pattern": {
                            "fillmode": "overlay",
                            "size": 10,
                            "solidity": 0.2
                          }
                        },
                        "type": "barpolar"
                      }
                    ],
                    "carpet": [
                      {
                        "aaxis": {
                          "endlinecolor": "#2a3f5f",
                          "gridcolor": "#C8D4E3",
                          "linecolor": "#C8D4E3",
                          "minorgridcolor": "#C8D4E3",
                          "startlinecolor": "#2a3f5f"
                        },
                        "baxis": {
                          "endlinecolor": "#2a3f5f",
                          "gridcolor": "#C8D4E3",
                          "linecolor": "#C8D4E3",
                          "minorgridcolor": "#C8D4E3",
                          "startlinecolor": "#2a3f5f"
                        },
                        "type": "carpet"
                      }
                    ],
                    "choropleth": [
                      {
                        "colorbar": {
                          "outlinewidth": 0,
                          "ticks": ""
                        },
                        "type": "choropleth"
                      }
                    ],
                    "contour": [
                      {
                        "colorbar": {
                          "outlinewidth": 0,
                          "ticks": ""
                        },
                        "colorscale": [
                          [
                            0,
                            "#0d0887"
                          ],
                          [
                            0.1111111111111111,
                            "#46039f"
                          ],
                          [
                            0.2222222222222222,
                            "#7201a8"
                          ],
                          [
                            0.3333333333333333,
                            "#9c179e"
                          ],
                          [
                            0.4444444444444444,
                            "#bd3786"
                          ],
                          [
                            0.5555555555555556,
                            "#d8576b"
                          ],
                          [
                            0.6666666666666666,
                            "#ed7953"
                          ],
                          [
                            0.7777777777777778,
                            "#fb9f3a"
                          ],
                          [
                            0.8888888888888888,
                            "#fdca26"
                          ],
                          [
                            1,
                            "#f0f921"
                          ]
                        ],
                        "type": "contour"
                      }
                    ],
                    "contourcarpet": [
                      {
                        "colorbar": {
                          "outlinewidth": 0,
                          "ticks": ""
                        },
                        "type": "contourcarpet"
                      }
                    ],
                    "heatmap": [
                      {
                        "colorbar": {
                          "outlinewidth": 0,
                          "ticks": ""
                        },
                        "colorscale": [
                          [
                            0,
                            "#0d0887"
                          ],
                          [
                            0.1111111111111111,
                            "#46039f"
                          ],
                          [
                            0.2222222222222222,
                            "#7201a8"
                          ],
                          [
                            0.3333333333333333,
                            "#9c179e"
                          ],
                          [
                            0.4444444444444444,
                            "#bd3786"
                          ],
                          [
                            0.5555555555555556,
                            "#d8576b"
                          ],
                          [
                            0.6666666666666666,
                            "#ed7953"
                          ],
                          [
                            0.7777777777777778,
                            "#fb9f3a"
                          ],
                          [
                            0.8888888888888888,
                            "#fdca26"
                          ],
                          [
                            1,
                            "#f0f921"
                          ]
                        ],
                        "type": "heatmap"
                      }
                    ],
                    "histogram": [
                      {
                        "marker": {
                          "pattern": {
                            "fillmode": "overlay",
                            "size": 10,
                            "solidity": 0.2
                          }
                        },
                        "type": "histogram"
                      }
                    ],
                    "histogram2d": [
                      {
                        "colorbar": {
                          "outlinewidth": 0,
                          "ticks": ""
                        },
                        "colorscale": [
                          [
                            0,
                            "#0d0887"
                          ],
                          [
                            0.1111111111111111,
                            "#46039f"
                          ],
                          [
                            0.2222222222222222,
                            "#7201a8"
                          ],
                          [
                            0.3333333333333333,
                            "#9c179e"
                          ],
                          [
                            0.4444444444444444,
                            "#bd3786"
                          ],
                          [
                            0.5555555555555556,
                            "#d8576b"
                          ],
                          [
                            0.6666666666666666,
                            "#ed7953"
                          ],
                          [
                            0.7777777777777778,
                            "#fb9f3a"
                          ],
                          [
                            0.8888888888888888,
                            "#fdca26"
                          ],
                          [
                            1,
                            "#f0f921"
                          ]
                        ],
                        "type": "histogram2d"
                      }
                    ],
                    "histogram2dcontour": [
                      {
                        "colorbar": {
                          "outlinewidth": 0,
                          "ticks": ""
                        },
                        "colorscale": [
                          [
                            0,
                            "#0d0887"
                          ],
                          [
                            0.1111111111111111,
                            "#46039f"
                          ],
                          [
                            0.2222222222222222,
                            "#7201a8"
                          ],
                          [
                            0.3333333333333333,
                            "#9c179e"
                          ],
                          [
                            0.4444444444444444,
                            "#bd3786"
                          ],
                          [
                            0.5555555555555556,
                            "#d8576b"
                          ],
                          [
                            0.6666666666666666,
                            "#ed7953"
                          ],
                          [
                            0.7777777777777778,
                            "#fb9f3a"
                          ],
                          [
                            0.8888888888888888,
                            "#fdca26"
                          ],
                          [
                            1,
                            "#f0f921"
                          ]
                        ],
                        "type": "histogram2dcontour"
                      }
                    ],
                    "mesh3d": [
                      {
                        "colorbar": {
                          "outlinewidth": 0,
                          "ticks": ""
                        },
                        "type": "mesh3d"
                      }
                    ],
                    "parcoords": [
                      {
                        "line": {
                          "colorbar": {
                            "outlinewidth": 0,
                            "ticks": ""
                          }
                        },
                        "type": "parcoords"
                      }
                    ],
                    "pie": [
                      {
                        "automargin": true,
                        "type": "pie"
                      }
                    ],
                    "scatter": [
                      {
                        "fillpattern": {
                          "fillmode": "overlay",
                          "size": 10,
                          "solidity": 0.2
                        },
                        "type": "scatter"
                      }
                    ],
                    "scatter3d": [
                      {
                        "line": {
                          "colorbar": {
                            "outlinewidth": 0,
                            "ticks": ""
                          }
                        },
                        "marker": {
                          "colorbar": {
                            "outlinewidth": 0,
                            "ticks": ""
                          }
                        },
                        "type": "scatter3d"
                      }
                    ],
                    "scattercarpet": [
                      {
                        "marker": {
                          "colorbar": {
                            "outlinewidth": 0,
                            "ticks": ""
                          }
                        },
                        "type": "scattercarpet"
                      }
                    ],
                    "scattergeo": [
                      {
                        "marker": {
                          "colorbar": {
                            "outlinewidth": 0,
                            "ticks": ""
                          }
                        },
                        "type": "scattergeo"
                      }
                    ],
                    "scattergl": [
                      {
                        "marker": {
                          "colorbar": {
                            "outlinewidth": 0,
                            "ticks": ""
                          }
                        },
                        "type": "scattergl"
                      }
                    ],
                    "scattermap": [
                      {
                        "marker": {
                          "colorbar": {
                            "outlinewidth": 0,
                            "ticks": ""
                          }
                        },
                        "type": "scattermap"
                      }
                    ],
                    "scattermapbox": [
                      {
                        "marker": {
                          "colorbar": {
                            "outlinewidth": 0,
                            "ticks": ""
                          }
                        },
                        "type": "scattermapbox"
                      }
                    ],
                    "scatterpolar": [
                      {
                        "marker": {
                          "colorbar": {
                            "outlinewidth": 0,
                            "ticks": ""
                          }
                        },
                        "type": "scatterpolar"
                      }
                    ],
                    "scatterpolargl": [
                      {
                        "marker": {
                          "colorbar": {
                            "outlinewidth": 0,
                            "ticks": ""
                          }
                        },
                        "type": "scatterpolargl"
                      }
                    ],
                    "scatterternary": [
                      {
                        "marker": {
                          "colorbar": {
                            "outlinewidth": 0,
                            "ticks": ""
                          }
                        },
                        "type": "scatterternary"
                      }
                    ],
                    "surface": [
                      {
                        "colorbar": {
                          "outlinewidth": 0,
                          "ticks": ""
                        },
                        "colorscale": [
                          [
                            0,
                            "#0d0887"
                          ],
                          [
                            0.1111111111111111,
                            "#46039f"
                          ],
                          [
                            0.2222222222222222,
                            "#7201a8"
                          ],
                          [
                            0.3333333333333333,
                            "#9c179e"
                          ],
                          [
                            0.4444444444444444,
                            "#bd3786"
                          ],
                          [
                            0.5555555555555556,
                            "#d8576b"
                          ],
                          [
                            0.6666666666666666,
                            "#ed7953"
                          ],
                          [
                            0.7777777777777778,
                            "#fb9f3a"
                          ],
                          [
                            0.8888888888888888,
                            "#fdca26"
                          ],
                          [
                            1,
                            "#f0f921"
                          ]
                        ],
                        "type": "surface"
                      }
                    ],
                    "table": [
                      {
                        "cells": {
                          "fill": {
                            "color": "#EBF0F8"
                          },
                          "line": {
                            "color": "white"
                          }
                        },
                        "header": {
                          "fill": {
                            "color": "#C8D4E3"
                          },
                          "line": {
                            "color": "white"
                          }
                        },
                        "type": "table"
                      }
                    ]
                  },
                  "layout": {
                    "annotationdefaults": {
                      "arrowcolor": "#2a3f5f",
                      "arrowhead": 0,
                      "arrowwidth": 1
                    },
                    "autotypenumbers": "strict",
                    "coloraxis": {
                      "colorbar": {
                        "outlinewidth": 0,
                        "ticks": ""
                      }
                    },
                    "colorscale": {
                      "diverging": [
                        [
                          0,
                          "#8e0152"
                        ],
                        [
                          0.1,
                          "#c51b7d"
                        ],
                        [
                          0.2,
                          "#de77ae"
                        ],
                        [
                          0.3,
                          "#f1b6da"
                        ],
                        [
                          0.4,
                          "#fde0ef"
                        ],
                        [
                          0.5,
                          "#f7f7f7"
                        ],
                        [
                          0.6,
                          "#e6f5d0"
                        ],
                        [
                          0.7,
                          "#b8e186"
                        ],
                        [
                          0.8,
                          "#7fbc41"
                        ],
                        [
                          0.9,
                          "#4d9221"
                        ],
                        [
                          1,
                          "#276419"
                        ]
                      ],
                      "sequential": [
                        [
                          0,
                          "#0d0887"
                        ],
                        [
                          0.1111111111111111,
                          "#46039f"
                        ],
                        [
                          0.2222222222222222,
                          "#7201a8"
                        ],
                        [
                          0.3333333333333333,
                          "#9c179e"
                        ],
                        [
                          0.4444444444444444,
                          "#bd3786"
                        ],
                        [
                          0.5555555555555556,
                          "#d8576b"
                        ],
                        [
                          0.6666666666666666,
                          "#ed7953"
                        ],
                        [
                          0.7777777777777778,
                          "#fb9f3a"
                        ],
                        [
                          0.8888888888888888,
                          "#fdca26"
                        ],
                        [
                          1,
                          "#f0f921"
                        ]
                      ],
                      "sequentialminus": [
                        [
                          0,
                          "#0d0887"
                        ],
                        [
                          0.1111111111111111,
                          "#46039f"
                        ],
                        [
                          0.2222222222222222,
                          "#7201a8"
                        ],
                        [
                          0.3333333333333333,
                          "#9c179e"
                        ],
                        [
                          0.4444444444444444,
                          "#bd3786"
                        ],
                        [
                          0.5555555555555556,
                          "#d8576b"
                        ],
                        [
                          0.6666666666666666,
                          "#ed7953"
                        ],
                        [
                          0.7777777777777778,
                          "#fb9f3a"
                        ],
                        [
                          0.8888888888888888,
                          "#fdca26"
                        ],
                        [
                          1,
                          "#f0f921"
                        ]
                      ]
                    },
                    "colorway": [
                      "#636efa",
                      "#EF553B",
                      "#00cc96",
                      "#ab63fa",
                      "#FFA15A",
                      "#19d3f3",
                      "#FF6692",
                      "#B6E880",
                      "#FF97FF",
                      "#FECB52"
                    ],
                    "font": {
                      "color": "#2a3f5f"
                    },
                    "geo": {
                      "bgcolor": "white",
                      "lakecolor": "white",
                      "landcolor": "white",
                      "showlakes": true,
                      "showland": true,
                      "subunitcolor": "#C8D4E3"
                    },
                    "hoverlabel": {
                      "align": "left"
                    },
                    "hovermode": "closest",
                    "mapbox": {
                      "style": "light"
                    },
                    "paper_bgcolor": "white",
                    "plot_bgcolor": "white",
                    "polar": {
                      "angularaxis": {
                        "gridcolor": "#EBF0F8",
                        "linecolor": "#EBF0F8",
                        "ticks": ""
                      },
                      "bgcolor": "white",
                      "radialaxis": {
                        "gridcolor": "#EBF0F8",
                        "linecolor": "#EBF0F8",
                        "ticks": ""
                      }
                    },
                    "scene": {
                      "xaxis": {
                        "backgroundcolor": "white",
                        "gridcolor": "#DFE8F3",
                        "gridwidth": 2,
                        "linecolor": "#EBF0F8",
                        "showbackground": true,
                        "ticks": "",
                        "zerolinecolor": "#EBF0F8"
                      },
                      "yaxis": {
                        "backgroundcolor": "white",
                        "gridcolor": "#DFE8F3",
                        "gridwidth": 2,
                        "linecolor": "#EBF0F8",
                        "showbackground": true,
                        "ticks": "",
                        "zerolinecolor": "#EBF0F8"
                      },
                      "zaxis": {
                        "backgroundcolor": "white",
                        "gridcolor": "#DFE8F3",
                        "gridwidth": 2,
                        "linecolor": "#EBF0F8",
                        "showbackground": true,
                        "ticks": "",
                        "zerolinecolor": "#EBF0F8"
                      }
                    },
                    "shapedefaults": {
                      "line": {
                        "color": "#2a3f5f"
                      }
                    },
                    "ternary": {
                      "aaxis": {
                        "gridcolor": "#DFE8F3",
                        "linecolor": "#A2B1C6",
                        "ticks": ""
                      },
                      "baxis": {
                        "gridcolor": "#DFE8F3",
                        "linecolor": "#A2B1C6",
                        "ticks": ""
                      },
                      "bgcolor": "white",
                      "caxis": {
                        "gridcolor": "#DFE8F3",
                        "linecolor": "#A2B1C6",
                        "ticks": ""
                      }
                    },
                    "title": {
                      "x": 0.05
                    },
                    "xaxis": {
                      "automargin": true,
                      "gridcolor": "#EBF0F8",
                      "linecolor": "#EBF0F8",
                      "ticks": "",
                      "title": {
                        "standoff": 15
                      },
                      "zerolinecolor": "#EBF0F8",
                      "zerolinewidth": 2
                    },
                    "yaxis": {
                      "automargin": true,
                      "gridcolor": "#EBF0F8",
                      "linecolor": "#EBF0F8",
                      "ticks": "",
                      "title": {
                        "standoff": 15
                      },
                      "zerolinecolor": "#EBF0F8",
                      "zerolinewidth": 2
                    }
                  }
                },
                "title": {
                  "text": "Trendlines"
                },
                "width": 1000,
                "xaxis": {
                  "rangeslider": {
                    "visible": false
                  },
                  "title": {
                    "text": "Date"
                  }
                },
                "yaxis": {
                  "title": {
                    "text": "Prix"
                  }
                }
              }
            }
          },
          "metadata": {},
          "output_type": "display_data"
        }
      ],
      "source": [
        "fig = plot_candles(df)"
      ]
    },
    {
      "cell_type": "markdown",
      "metadata": {},
      "source": [
        "---\n",
        "## 2. Find the best Support and resist on all your data "
      ]
    },
    {
      "cell_type": "markdown",
      "metadata": {
        "id": "6IvvsiX_h68t"
      },
      "source": [
        "- Find best Linear Fit\n",
        "- Shift down best linear fit, to be below all candles (adjust intercept)\n",
        "- Solve constrained optimization problem (adjust slope and intercept)\n",
        "    - Least squares fit\n",
        "    - Line below all candles"
      ]
    },
    {
      "cell_type": "markdown",
      "metadata": {
        "id": "vDD5BxVDYWxp"
      },
      "source": [
        "### STEP 1 : Simple Linear Regression "
      ]
    },
    {
      "cell_type": "code",
      "execution_count": 8,
      "metadata": {},
      "outputs": [],
      "source": [
        "X = np.arange(len(df))\n",
        "y = df['close']"
      ]
    },
    {
      "cell_type": "code",
      "execution_count": 9,
      "metadata": {},
      "outputs": [],
      "source": [
        "slope_0, intercept_0 = get_best_fit_slope_intercept(y)\n",
        "init_trendline = slope_0 * X + intercept_0"
      ]
    },
    {
      "cell_type": "code",
      "execution_count": 10,
      "metadata": {},
      "outputs": [
        {
          "data": {
            "application/vnd.plotly.v1+json": {
              "config": {
                "plotlyServerURL": "https://plot.ly"
              },
              "data": [
                {
                  "close": {
                    "bdata": "cT0K16OA90BSuB6FB3T3QAAAAACAfPdAXI/C9Wx090BxPQrXl1f3QAAAAABsSfdAFK5H4Q5O90DXo3A9bkD3QDMzMzP/YfdAAAAAAOhf90AK16NwhVn3QAAAAAAgfPdAAAAAAGB+90B7FK5HDVP3QOF6FK6nU/dA4XoUrv8a90D2KFyPYvn2QK5H4XpA7vZA16NwPYL59kAfhetRQP/2QMP1KFyXNfdAFK5H4YZE90BxPQrXe1v3QGZmZmYiRvdAcT0K139P90CPwvUofGX3QI/C9SjkXfdAmpmZmd0+90B7FK5HlUP3QFyPwvUEWPdAw/UoXHtc90BxPQrX31j3QGZmZmYWbPdA7FG4HqWE90CamZmZaYr3QKRwPQpnevdAPQrXo1iB90B7FK5HZWH3QHE9Ctd7bPdAAAAAAMCC90DsUbgeWYj3QD0K16NoW/dAPQrXo+h890BSuB6FS3v3QNejcD26g/dAmpmZmb2R90C4HoXrRZj3QOF6FK5fpfdAhetRuPqf90AfhetR6Lb3QAAAAAD0sfdAw/UoXIe890BxPQrX36j3QHE9Cte/qPdAhetRuD6m90CPwvUo4Lf3QEjhehQKuvdA4XoUrt/F90CF61G4frv3QClcj8JFyfdApHA9CqPR90D2KFyPbqz3QB+F61F8qPdA4XoUruvQ90AzMzMzL+r3QHsUrkdx//dAzczMzGwH+EApXI/CWQn4QMP1KFyX8vdAMzMzM2/190AAAAAAEAD4QOxRuB7F+/dAAAAAAIAA+EC4HoXr8fP3QHE9Ctff9fdAj8L1KMD590B7FK5H2QH4QHE9CtefBvhAj8L1KDz490D2KFyPVvr3QDMzMzMbAvhAAAAAAEAT+EDNzMzMVBT4QAAAAACAJfhAFK5H4W5A+EAfhetRnB34QD0K16OA8/dAXI/C9Xz690BmZmZmvqz3QB+F61H4kfdAKVyPwlFD90AAAAAApDX3QK5H4XowSvdArkfhevhk90DhehSuX3v3QA==",
                    "dtype": "f8"
                  },
                  "decreasing": {
                    "line": {
                      "color": "red"
                    }
                  },
                  "high": {
                    "bdata": "AAAAAMCC90BSuB6FL4T3QAAAAAAggvdA4XoUrsuC90BI4XoU6nb3QD0K16OcWfdApHA9ChNe90ApXI/C4VX3QAAAAABIYvdAhetRuAJo90CamZmZYWL3QM3MzMyQgfdA9ihcjy6O90D2KFyPHp/3QB+F61EsX/dAZmZmZhJZ90BxPQrX6yn3QLgehevtCPdASOF6FD4M90BmZmZmpg/3QGZmZmZ2R/dAAAAAAORS90AAAAAAUFz3QFyPwvWQZvdAAAAAAIBP90A9CtejmG33QOxRuB7dZfdAMzMzM49h90DNzMzMwEb3QAAAAABAWvdAZmZmZmJm90AAAAAAoGf3QAAAAACEcfdAcT0K10+N90B7FK5HcYr3QAAAAADwjvdAmpmZmRmO90AAAAAAwJv3QDMzMzNXifdA16NwPXaH90AAAAAAAI73QFK4HoXrifdAzczMzCx/90BxPQrX/433QLgeheuljvdAKVyPwt2W90BxPQrXP6j3QHE9CtdfpfdAAAAAAICu90A9CtejuL/3QHsUrkctxfdAKVyPwrHD90DD9Shch7z3QM3MzMx0rvdAuB6F6w2090BxPQrX27r3QAAAAABAwPdAAAAAAODF90CuR+F6gMb3QEjhehTe0PdAj8L1KOTR90BmZmZm4vD3QOxRuB7hwvdAAAAAAADr90BxPQrX/+z3QAAAAABACPhAAAAAAGAN+EApXI/CdRn4QBSuR+EmDPhA9ihcjzoE+EDXo3A97gz4QAAAAACQDPhAAAAAAOAC+EBSuB6FWwT4QI/C9Sik//dAZmZmZvL990Bcj8L1VAX4QJqZmZlVB/hAhetRuCIT+ED2KFyPXv33QFyPwvUMJfhAexSuR30X+EApXI/CESH4QBSuR+HeKPhAAAAAADBJ+ECF61G4QkP4QArXo3BVQPhAAAAAAFAc+EB7FK5H6Qf4QGZmZmZ2vPdAAAAAANCj90BmZmZmflv3QAAAAACAT/dAmpmZmalr90AUrkfhqnz3QA==",
                    "dtype": "f8"
                  },
                  "increasing": {
                    "line": {
                      "color": "green"
                    }
                  },
                  "low": {
                    "bdata": "w/UoXGdX90AAAAAA8HD3QAAAAAAAcPdAmpmZmQFu90DXo3A9MlP3QLgehethQfdAXI/C9SBE90AAAAAAoDT3QD0K16PQOvdAzczMzCBZ90AK16Nw7VT3QIXrUbgCV/dAH4XrUbx290C4HoXr8Uj3QAAAAAAAPvdAMzMzM5cZ90BmZmZmYvn2QAAAAAAA2vZACtejcMHM9kBSuB6FK+L2QM3MzMxs+vZAhetRuHoo90BmZmZmkkH3QKRwPQr/QvdAAAAAAPA090CuR+F6IE73QOxRuB7ZVPdAmpmZmd0+90BxPQrXXzP3QGZmZmYaQfdAAAAAAEBW90CamZmZCVj3QDMzMzPbWPdA16NwPRZs90BmZmZm1nz3QGZmZmamePdApHA9Cmd690AAAAAAwFz3QClcj8IFU/dAPQrXo6hr90AAAAAAoHf3QK5H4XqAWfdA9ihcj/ZK90DXo3A9Xnb3QEjhehSmc/dAmpmZmRWD90DNzMzMqJD3QArXo3DxifdACtejcDGX90DhehSuN573QD0K16M0rfdACtejcKmw90BSuB6Ft6f3QOxRuB7ZoPdAAAAAAECi90ApXI/CGaL3QAAAAADgt/dAAAAAAHy090CkcD0KQ7j3QIXrUbh+u/dAj8L1KEi/90CPwvUo2Kb3QIXrUbj2ofdAAAAAAICn90BmZmZmVtD3QArXo3B16fdAcT0K1x/890DhehSumwD4QAAAAAAA7fdAexSuR+Hw90AAAAAAMPT3QFyPwvVA8vdAMzMzMxP090ApXI/C8fP3QGZmZmZS8vdA4XoUrlv090CkcD0Kz/b3QEjhehRK//dAAAAAAMD390AAAAAAYPb3QClcj8Lx8/dASOF6FAr890DsUbgeqQv4QD0K16M0DvhAAAAAAAAf+ECkcD0KmwL4QFyPwvWUufdAhetRuN7a90CPwvUoAKT3QHE9Ctc3kPdAZmZmZvJA90AzMzMzfyn3QEjhehTiMfdAcT0K19dA90BI4XoULlv3QA==",
                    "dtype": "f8"
                  },
                  "name": "Candles",
                  "open": {
                    "bdata": "FK5H4V5Z90BxPQrXo4D3QFK4HoUHdPdAAAAAAIB890Bcj8L1bHT3QAAAAACYV/dAcT0K12tJ90CF61G4Dk73QNejcD1uQPdApHA9Cv9h90AAAAAA6F/3QJqZmZmFWfdAAAAAACB890AAAAAAYH73QHsUrkcNU/dAcT0K16dT90DhehSu/xr3QPYoXI9i+fZArkfhekDu9kBmZmZmgvn2QB+F61FM//ZAw/UoXJc190CF61G4hkT3QHE9Ctd7W/dAZmZmZiJG90AAAAAAgE/3QI/C9Sh8ZfdAAAAAAORd90AK16Nw3T73QArXo3CVQ/dAXI/C9QRY90DD9Shce1z3QHE9CtffWPdAZmZmZhZs90Bcj8L1pIT3QJqZmZlpivdAMzMzM2d690A9CtejWIH3QHsUrkdlYfdAcT0K13ts90AAAAAAwIL3QOxRuB5ZiPdArkfhemhb90A9Ctej6Hz3QFK4HoVLe/dAZmZmZrqD90AK16NwvZH3QLgehetFmPdA4XoUrl+l90CF61G4+p/3QB+F61HotvdAcT0K1/Ox90DD9Shch7z3QHE9CtffqPdAAAAAAMCo90CF61G4Pqb3QI/C9Sjgt/dASOF6FAq690DhehSu38X3QBSuR+F+u/dAuB6F60XJ90AzMzMzo9H3QIXrUbhurPdAj8L1KHyo90DhehSu69D3QDMzMzMv6vdACtejcHH/90DNzMzMbAf4QClcj8JZCfhAMzMzM5fy90AzMzMzb/X3QI/C9SgQAPhA7FG4HsX790AAAAAAgAD4QEjhehTy8/dAcT0K19/190AfhetRwPn3QArXo3DZAfhAAAAAAKAG+EAfhetRPPj3QPYoXI9W+vdAMzMzMxsC+EAAAAAAQBP4QFyPwvVUFPhAcT0K138l+ECF61G4bkD4QK5H4XqcHfhAPQrXo4Dz90Bcj8L1fPr3QPYoXI++rPdAH4XrUfiR90ApXI/CUUP3QHE9CtejNfdArkfhejBK90CuR+F6+GT3QA==",
                    "dtype": "f8"
                  },
                  "type": "candlestick",
                  "x": [
                    "2025-02-18T01:00:00",
                    "2025-02-18T02:00:00",
                    "2025-02-18T03:00:00",
                    "2025-02-18T04:00:00",
                    "2025-02-18T05:00:00",
                    "2025-02-18T06:00:00",
                    "2025-02-18T07:00:00",
                    "2025-02-18T08:00:00",
                    "2025-02-18T09:00:00",
                    "2025-02-18T10:00:00",
                    "2025-02-18T11:00:00",
                    "2025-02-18T12:00:00",
                    "2025-02-18T13:00:00",
                    "2025-02-18T14:00:00",
                    "2025-02-18T15:00:00",
                    "2025-02-18T16:00:00",
                    "2025-02-18T17:00:00",
                    "2025-02-18T18:00:00",
                    "2025-02-18T19:00:00",
                    "2025-02-18T20:00:00",
                    "2025-02-18T21:00:00",
                    "2025-02-18T22:00:00",
                    "2025-02-18T23:00:00",
                    "2025-02-19T00:00:00",
                    "2025-02-19T01:00:00",
                    "2025-02-19T02:00:00",
                    "2025-02-19T03:00:00",
                    "2025-02-19T04:00:00",
                    "2025-02-19T05:00:00",
                    "2025-02-19T06:00:00",
                    "2025-02-19T07:00:00",
                    "2025-02-19T08:00:00",
                    "2025-02-19T09:00:00",
                    "2025-02-19T10:00:00",
                    "2025-02-19T11:00:00",
                    "2025-02-19T12:00:00",
                    "2025-02-19T13:00:00",
                    "2025-02-19T14:00:00",
                    "2025-02-19T15:00:00",
                    "2025-02-19T16:00:00",
                    "2025-02-19T17:00:00",
                    "2025-02-19T18:00:00",
                    "2025-02-19T19:00:00",
                    "2025-02-19T20:00:00",
                    "2025-02-19T21:00:00",
                    "2025-02-19T22:00:00",
                    "2025-02-19T23:00:00",
                    "2025-02-20T00:00:00",
                    "2025-02-20T01:00:00",
                    "2025-02-20T02:00:00",
                    "2025-02-20T03:00:00",
                    "2025-02-20T04:00:00",
                    "2025-02-20T05:00:00",
                    "2025-02-20T06:00:00",
                    "2025-02-20T07:00:00",
                    "2025-02-20T08:00:00",
                    "2025-02-20T09:00:00",
                    "2025-02-20T10:00:00",
                    "2025-02-20T11:00:00",
                    "2025-02-20T12:00:00",
                    "2025-02-20T13:00:00",
                    "2025-02-20T14:00:00",
                    "2025-02-20T15:00:00",
                    "2025-02-20T16:00:00",
                    "2025-02-20T17:00:00",
                    "2025-02-20T18:00:00",
                    "2025-02-20T19:00:00",
                    "2025-02-20T20:00:00",
                    "2025-02-20T21:00:00",
                    "2025-02-20T22:00:00",
                    "2025-02-20T23:00:00",
                    "2025-02-21T00:00:00",
                    "2025-02-21T01:00:00",
                    "2025-02-21T02:00:00",
                    "2025-02-21T03:00:00",
                    "2025-02-21T04:00:00",
                    "2025-02-21T05:00:00",
                    "2025-02-21T06:00:00",
                    "2025-02-21T07:00:00",
                    "2025-02-21T08:00:00",
                    "2025-02-21T09:00:00",
                    "2025-02-21T10:00:00",
                    "2025-02-21T11:00:00",
                    "2025-02-21T12:00:00",
                    "2025-02-21T13:00:00",
                    "2025-02-21T14:00:00",
                    "2025-02-21T15:00:00",
                    "2025-02-21T16:00:00",
                    "2025-02-21T17:00:00",
                    "2025-02-21T18:00:00",
                    "2025-02-21T19:00:00",
                    "2025-02-21T20:00:00",
                    "2025-02-21T21:00:00",
                    "2025-02-21T22:00:00",
                    "2025-02-21T23:00:00"
                  ]
                },
                {
                  "line": {
                    "color": "blue",
                    "dash": "dash",
                    "width": 2
                  },
                  "mode": "lines",
                  "name": "Support",
                  "type": "scatter",
                  "x": [
                    "2025-02-18T01:00:00",
                    "2025-02-18T02:00:00",
                    "2025-02-18T03:00:00",
                    "2025-02-18T04:00:00",
                    "2025-02-18T05:00:00",
                    "2025-02-18T06:00:00",
                    "2025-02-18T07:00:00",
                    "2025-02-18T08:00:00",
                    "2025-02-18T09:00:00",
                    "2025-02-18T10:00:00",
                    "2025-02-18T11:00:00",
                    "2025-02-18T12:00:00",
                    "2025-02-18T13:00:00",
                    "2025-02-18T14:00:00",
                    "2025-02-18T15:00:00",
                    "2025-02-18T16:00:00",
                    "2025-02-18T17:00:00",
                    "2025-02-18T18:00:00",
                    "2025-02-18T19:00:00",
                    "2025-02-18T20:00:00",
                    "2025-02-18T21:00:00",
                    "2025-02-18T22:00:00",
                    "2025-02-18T23:00:00",
                    "2025-02-19T00:00:00",
                    "2025-02-19T01:00:00",
                    "2025-02-19T02:00:00",
                    "2025-02-19T03:00:00",
                    "2025-02-19T04:00:00",
                    "2025-02-19T05:00:00",
                    "2025-02-19T06:00:00",
                    "2025-02-19T07:00:00",
                    "2025-02-19T08:00:00",
                    "2025-02-19T09:00:00",
                    "2025-02-19T10:00:00",
                    "2025-02-19T11:00:00",
                    "2025-02-19T12:00:00",
                    "2025-02-19T13:00:00",
                    "2025-02-19T14:00:00",
                    "2025-02-19T15:00:00",
                    "2025-02-19T16:00:00",
                    "2025-02-19T17:00:00",
                    "2025-02-19T18:00:00",
                    "2025-02-19T19:00:00",
                    "2025-02-19T20:00:00",
                    "2025-02-19T21:00:00",
                    "2025-02-19T22:00:00",
                    "2025-02-19T23:00:00",
                    "2025-02-20T00:00:00",
                    "2025-02-20T01:00:00",
                    "2025-02-20T02:00:00",
                    "2025-02-20T03:00:00",
                    "2025-02-20T04:00:00",
                    "2025-02-20T05:00:00",
                    "2025-02-20T06:00:00",
                    "2025-02-20T07:00:00",
                    "2025-02-20T08:00:00",
                    "2025-02-20T09:00:00",
                    "2025-02-20T10:00:00",
                    "2025-02-20T11:00:00",
                    "2025-02-20T12:00:00",
                    "2025-02-20T13:00:00",
                    "2025-02-20T14:00:00",
                    "2025-02-20T15:00:00",
                    "2025-02-20T16:00:00",
                    "2025-02-20T17:00:00",
                    "2025-02-20T18:00:00",
                    "2025-02-20T19:00:00",
                    "2025-02-20T20:00:00",
                    "2025-02-20T21:00:00",
                    "2025-02-20T22:00:00",
                    "2025-02-20T23:00:00",
                    "2025-02-21T00:00:00",
                    "2025-02-21T01:00:00",
                    "2025-02-21T02:00:00",
                    "2025-02-21T03:00:00",
                    "2025-02-21T04:00:00",
                    "2025-02-21T05:00:00",
                    "2025-02-21T06:00:00",
                    "2025-02-21T07:00:00",
                    "2025-02-21T08:00:00",
                    "2025-02-21T09:00:00",
                    "2025-02-21T10:00:00",
                    "2025-02-21T11:00:00",
                    "2025-02-21T12:00:00",
                    "2025-02-21T13:00:00",
                    "2025-02-21T14:00:00",
                    "2025-02-21T15:00:00",
                    "2025-02-21T16:00:00",
                    "2025-02-21T17:00:00",
                    "2025-02-21T18:00:00",
                    "2025-02-21T19:00:00",
                    "2025-02-21T20:00:00",
                    "2025-02-21T21:00:00",
                    "2025-02-21T22:00:00",
                    "2025-02-21T23:00:00"
                  ],
                  "y": {
                    "bdata": "6/fc0gY690BFx9hdAzz3QJ+W1Oj/PfdA+mXQc/w/90BUNcz++EH3QK4EyIn1Q/dACNTDFPJF90Bjo7+f7kf3QL1yuyrrSfdAF0K3tedL90BxEbNA5E33QMvgrsvgT/dAJrCqVt1R90CAf6bh2VP3QNpOomzWVfdANB6e99JX90CP7ZmCz1n3QOm8lQ3MW/dAQ4yRmMhd90CdW40jxV/3QPcqia7BYfdAUvqEOb5j90CsyYDEumX3QAaZfE+3Z/dAYGh42rNp90C7N3RlsGv3QBUHcPCsbfdAb9Zre6lv90DJpWcGpnH3QCN1Y5Gic/dAfkRfHJ9190DYE1unm3f3QDLjVjKYefdAjLJSvZR790DmgU5IkX33QEFRStONf/dAmyBGXoqB90D170HphoP3QE+/PXSDhfdAqo45/3+H90AEXjWKfIn3QF4tMRV5i/dAuPwsoHWN90ASzCgrco/3QG2bJLZukfdAx2ogQWuT90AhOhzMZ5X3QHsJGFdkl/dA1tgT4mCZ90AwqA9tXZv3QIp3C/hZnfdA5EYHg1af90A+FgMOU6H3QJnl/phPo/dA87T6I0yl90BNhPauSKf3QKdT8jlFqfdAAiPuxEGr90Bc8ulPPq33QLbB5do6r/dAEJHhZTex90BqYN3wM7P3QMUv2XswtfdAH//UBi2390B5ztCRKbn3QNOdzBwmu/dALm3IpyK990CIPMQyH7/3QOILwL0bwfdAPNu7SBjD90CWqrfTFMX3QPF5s14Rx/dAS0mv6Q3J90ClGKt0Csv3QP/npv8GzfdAWreiigPP90C0hp4VANH3QA5WmqD80vdAaCWWK/nU90DC9JG29db3QB3EjUHy2PdAd5OJzO7a90DRYoVX69z3QCsygeLn3vdAhgF9beTg90Dg0Hj44OL3QDqgdIPd5PdAlG9wDtrm90DuPmyZ1uj3QEkOaCTT6vdAo91jr8/s90D9rF86zO73QFd8W8XI8PdAsktXUMXy90AMG1PbwfT3QA==",
                    "dtype": "f8"
                  }
                }
              ],
              "layout": {
                "height": 600,
                "template": {
                  "data": {
                    "bar": [
                      {
                        "error_x": {
                          "color": "#2a3f5f"
                        },
                        "error_y": {
                          "color": "#2a3f5f"
                        },
                        "marker": {
                          "line": {
                            "color": "white",
                            "width": 0.5
                          },
                          "pattern": {
                            "fillmode": "overlay",
                            "size": 10,
                            "solidity": 0.2
                          }
                        },
                        "type": "bar"
                      }
                    ],
                    "barpolar": [
                      {
                        "marker": {
                          "line": {
                            "color": "white",
                            "width": 0.5
                          },
                          "pattern": {
                            "fillmode": "overlay",
                            "size": 10,
                            "solidity": 0.2
                          }
                        },
                        "type": "barpolar"
                      }
                    ],
                    "carpet": [
                      {
                        "aaxis": {
                          "endlinecolor": "#2a3f5f",
                          "gridcolor": "#C8D4E3",
                          "linecolor": "#C8D4E3",
                          "minorgridcolor": "#C8D4E3",
                          "startlinecolor": "#2a3f5f"
                        },
                        "baxis": {
                          "endlinecolor": "#2a3f5f",
                          "gridcolor": "#C8D4E3",
                          "linecolor": "#C8D4E3",
                          "minorgridcolor": "#C8D4E3",
                          "startlinecolor": "#2a3f5f"
                        },
                        "type": "carpet"
                      }
                    ],
                    "choropleth": [
                      {
                        "colorbar": {
                          "outlinewidth": 0,
                          "ticks": ""
                        },
                        "type": "choropleth"
                      }
                    ],
                    "contour": [
                      {
                        "colorbar": {
                          "outlinewidth": 0,
                          "ticks": ""
                        },
                        "colorscale": [
                          [
                            0,
                            "#0d0887"
                          ],
                          [
                            0.1111111111111111,
                            "#46039f"
                          ],
                          [
                            0.2222222222222222,
                            "#7201a8"
                          ],
                          [
                            0.3333333333333333,
                            "#9c179e"
                          ],
                          [
                            0.4444444444444444,
                            "#bd3786"
                          ],
                          [
                            0.5555555555555556,
                            "#d8576b"
                          ],
                          [
                            0.6666666666666666,
                            "#ed7953"
                          ],
                          [
                            0.7777777777777778,
                            "#fb9f3a"
                          ],
                          [
                            0.8888888888888888,
                            "#fdca26"
                          ],
                          [
                            1,
                            "#f0f921"
                          ]
                        ],
                        "type": "contour"
                      }
                    ],
                    "contourcarpet": [
                      {
                        "colorbar": {
                          "outlinewidth": 0,
                          "ticks": ""
                        },
                        "type": "contourcarpet"
                      }
                    ],
                    "heatmap": [
                      {
                        "colorbar": {
                          "outlinewidth": 0,
                          "ticks": ""
                        },
                        "colorscale": [
                          [
                            0,
                            "#0d0887"
                          ],
                          [
                            0.1111111111111111,
                            "#46039f"
                          ],
                          [
                            0.2222222222222222,
                            "#7201a8"
                          ],
                          [
                            0.3333333333333333,
                            "#9c179e"
                          ],
                          [
                            0.4444444444444444,
                            "#bd3786"
                          ],
                          [
                            0.5555555555555556,
                            "#d8576b"
                          ],
                          [
                            0.6666666666666666,
                            "#ed7953"
                          ],
                          [
                            0.7777777777777778,
                            "#fb9f3a"
                          ],
                          [
                            0.8888888888888888,
                            "#fdca26"
                          ],
                          [
                            1,
                            "#f0f921"
                          ]
                        ],
                        "type": "heatmap"
                      }
                    ],
                    "histogram": [
                      {
                        "marker": {
                          "pattern": {
                            "fillmode": "overlay",
                            "size": 10,
                            "solidity": 0.2
                          }
                        },
                        "type": "histogram"
                      }
                    ],
                    "histogram2d": [
                      {
                        "colorbar": {
                          "outlinewidth": 0,
                          "ticks": ""
                        },
                        "colorscale": [
                          [
                            0,
                            "#0d0887"
                          ],
                          [
                            0.1111111111111111,
                            "#46039f"
                          ],
                          [
                            0.2222222222222222,
                            "#7201a8"
                          ],
                          [
                            0.3333333333333333,
                            "#9c179e"
                          ],
                          [
                            0.4444444444444444,
                            "#bd3786"
                          ],
                          [
                            0.5555555555555556,
                            "#d8576b"
                          ],
                          [
                            0.6666666666666666,
                            "#ed7953"
                          ],
                          [
                            0.7777777777777778,
                            "#fb9f3a"
                          ],
                          [
                            0.8888888888888888,
                            "#fdca26"
                          ],
                          [
                            1,
                            "#f0f921"
                          ]
                        ],
                        "type": "histogram2d"
                      }
                    ],
                    "histogram2dcontour": [
                      {
                        "colorbar": {
                          "outlinewidth": 0,
                          "ticks": ""
                        },
                        "colorscale": [
                          [
                            0,
                            "#0d0887"
                          ],
                          [
                            0.1111111111111111,
                            "#46039f"
                          ],
                          [
                            0.2222222222222222,
                            "#7201a8"
                          ],
                          [
                            0.3333333333333333,
                            "#9c179e"
                          ],
                          [
                            0.4444444444444444,
                            "#bd3786"
                          ],
                          [
                            0.5555555555555556,
                            "#d8576b"
                          ],
                          [
                            0.6666666666666666,
                            "#ed7953"
                          ],
                          [
                            0.7777777777777778,
                            "#fb9f3a"
                          ],
                          [
                            0.8888888888888888,
                            "#fdca26"
                          ],
                          [
                            1,
                            "#f0f921"
                          ]
                        ],
                        "type": "histogram2dcontour"
                      }
                    ],
                    "mesh3d": [
                      {
                        "colorbar": {
                          "outlinewidth": 0,
                          "ticks": ""
                        },
                        "type": "mesh3d"
                      }
                    ],
                    "parcoords": [
                      {
                        "line": {
                          "colorbar": {
                            "outlinewidth": 0,
                            "ticks": ""
                          }
                        },
                        "type": "parcoords"
                      }
                    ],
                    "pie": [
                      {
                        "automargin": true,
                        "type": "pie"
                      }
                    ],
                    "scatter": [
                      {
                        "fillpattern": {
                          "fillmode": "overlay",
                          "size": 10,
                          "solidity": 0.2
                        },
                        "type": "scatter"
                      }
                    ],
                    "scatter3d": [
                      {
                        "line": {
                          "colorbar": {
                            "outlinewidth": 0,
                            "ticks": ""
                          }
                        },
                        "marker": {
                          "colorbar": {
                            "outlinewidth": 0,
                            "ticks": ""
                          }
                        },
                        "type": "scatter3d"
                      }
                    ],
                    "scattercarpet": [
                      {
                        "marker": {
                          "colorbar": {
                            "outlinewidth": 0,
                            "ticks": ""
                          }
                        },
                        "type": "scattercarpet"
                      }
                    ],
                    "scattergeo": [
                      {
                        "marker": {
                          "colorbar": {
                            "outlinewidth": 0,
                            "ticks": ""
                          }
                        },
                        "type": "scattergeo"
                      }
                    ],
                    "scattergl": [
                      {
                        "marker": {
                          "colorbar": {
                            "outlinewidth": 0,
                            "ticks": ""
                          }
                        },
                        "type": "scattergl"
                      }
                    ],
                    "scattermap": [
                      {
                        "marker": {
                          "colorbar": {
                            "outlinewidth": 0,
                            "ticks": ""
                          }
                        },
                        "type": "scattermap"
                      }
                    ],
                    "scattermapbox": [
                      {
                        "marker": {
                          "colorbar": {
                            "outlinewidth": 0,
                            "ticks": ""
                          }
                        },
                        "type": "scattermapbox"
                      }
                    ],
                    "scatterpolar": [
                      {
                        "marker": {
                          "colorbar": {
                            "outlinewidth": 0,
                            "ticks": ""
                          }
                        },
                        "type": "scatterpolar"
                      }
                    ],
                    "scatterpolargl": [
                      {
                        "marker": {
                          "colorbar": {
                            "outlinewidth": 0,
                            "ticks": ""
                          }
                        },
                        "type": "scatterpolargl"
                      }
                    ],
                    "scatterternary": [
                      {
                        "marker": {
                          "colorbar": {
                            "outlinewidth": 0,
                            "ticks": ""
                          }
                        },
                        "type": "scatterternary"
                      }
                    ],
                    "surface": [
                      {
                        "colorbar": {
                          "outlinewidth": 0,
                          "ticks": ""
                        },
                        "colorscale": [
                          [
                            0,
                            "#0d0887"
                          ],
                          [
                            0.1111111111111111,
                            "#46039f"
                          ],
                          [
                            0.2222222222222222,
                            "#7201a8"
                          ],
                          [
                            0.3333333333333333,
                            "#9c179e"
                          ],
                          [
                            0.4444444444444444,
                            "#bd3786"
                          ],
                          [
                            0.5555555555555556,
                            "#d8576b"
                          ],
                          [
                            0.6666666666666666,
                            "#ed7953"
                          ],
                          [
                            0.7777777777777778,
                            "#fb9f3a"
                          ],
                          [
                            0.8888888888888888,
                            "#fdca26"
                          ],
                          [
                            1,
                            "#f0f921"
                          ]
                        ],
                        "type": "surface"
                      }
                    ],
                    "table": [
                      {
                        "cells": {
                          "fill": {
                            "color": "#EBF0F8"
                          },
                          "line": {
                            "color": "white"
                          }
                        },
                        "header": {
                          "fill": {
                            "color": "#C8D4E3"
                          },
                          "line": {
                            "color": "white"
                          }
                        },
                        "type": "table"
                      }
                    ]
                  },
                  "layout": {
                    "annotationdefaults": {
                      "arrowcolor": "#2a3f5f",
                      "arrowhead": 0,
                      "arrowwidth": 1
                    },
                    "autotypenumbers": "strict",
                    "coloraxis": {
                      "colorbar": {
                        "outlinewidth": 0,
                        "ticks": ""
                      }
                    },
                    "colorscale": {
                      "diverging": [
                        [
                          0,
                          "#8e0152"
                        ],
                        [
                          0.1,
                          "#c51b7d"
                        ],
                        [
                          0.2,
                          "#de77ae"
                        ],
                        [
                          0.3,
                          "#f1b6da"
                        ],
                        [
                          0.4,
                          "#fde0ef"
                        ],
                        [
                          0.5,
                          "#f7f7f7"
                        ],
                        [
                          0.6,
                          "#e6f5d0"
                        ],
                        [
                          0.7,
                          "#b8e186"
                        ],
                        [
                          0.8,
                          "#7fbc41"
                        ],
                        [
                          0.9,
                          "#4d9221"
                        ],
                        [
                          1,
                          "#276419"
                        ]
                      ],
                      "sequential": [
                        [
                          0,
                          "#0d0887"
                        ],
                        [
                          0.1111111111111111,
                          "#46039f"
                        ],
                        [
                          0.2222222222222222,
                          "#7201a8"
                        ],
                        [
                          0.3333333333333333,
                          "#9c179e"
                        ],
                        [
                          0.4444444444444444,
                          "#bd3786"
                        ],
                        [
                          0.5555555555555556,
                          "#d8576b"
                        ],
                        [
                          0.6666666666666666,
                          "#ed7953"
                        ],
                        [
                          0.7777777777777778,
                          "#fb9f3a"
                        ],
                        [
                          0.8888888888888888,
                          "#fdca26"
                        ],
                        [
                          1,
                          "#f0f921"
                        ]
                      ],
                      "sequentialminus": [
                        [
                          0,
                          "#0d0887"
                        ],
                        [
                          0.1111111111111111,
                          "#46039f"
                        ],
                        [
                          0.2222222222222222,
                          "#7201a8"
                        ],
                        [
                          0.3333333333333333,
                          "#9c179e"
                        ],
                        [
                          0.4444444444444444,
                          "#bd3786"
                        ],
                        [
                          0.5555555555555556,
                          "#d8576b"
                        ],
                        [
                          0.6666666666666666,
                          "#ed7953"
                        ],
                        [
                          0.7777777777777778,
                          "#fb9f3a"
                        ],
                        [
                          0.8888888888888888,
                          "#fdca26"
                        ],
                        [
                          1,
                          "#f0f921"
                        ]
                      ]
                    },
                    "colorway": [
                      "#636efa",
                      "#EF553B",
                      "#00cc96",
                      "#ab63fa",
                      "#FFA15A",
                      "#19d3f3",
                      "#FF6692",
                      "#B6E880",
                      "#FF97FF",
                      "#FECB52"
                    ],
                    "font": {
                      "color": "#2a3f5f"
                    },
                    "geo": {
                      "bgcolor": "white",
                      "lakecolor": "white",
                      "landcolor": "white",
                      "showlakes": true,
                      "showland": true,
                      "subunitcolor": "#C8D4E3"
                    },
                    "hoverlabel": {
                      "align": "left"
                    },
                    "hovermode": "closest",
                    "mapbox": {
                      "style": "light"
                    },
                    "paper_bgcolor": "white",
                    "plot_bgcolor": "white",
                    "polar": {
                      "angularaxis": {
                        "gridcolor": "#EBF0F8",
                        "linecolor": "#EBF0F8",
                        "ticks": ""
                      },
                      "bgcolor": "white",
                      "radialaxis": {
                        "gridcolor": "#EBF0F8",
                        "linecolor": "#EBF0F8",
                        "ticks": ""
                      }
                    },
                    "scene": {
                      "xaxis": {
                        "backgroundcolor": "white",
                        "gridcolor": "#DFE8F3",
                        "gridwidth": 2,
                        "linecolor": "#EBF0F8",
                        "showbackground": true,
                        "ticks": "",
                        "zerolinecolor": "#EBF0F8"
                      },
                      "yaxis": {
                        "backgroundcolor": "white",
                        "gridcolor": "#DFE8F3",
                        "gridwidth": 2,
                        "linecolor": "#EBF0F8",
                        "showbackground": true,
                        "ticks": "",
                        "zerolinecolor": "#EBF0F8"
                      },
                      "zaxis": {
                        "backgroundcolor": "white",
                        "gridcolor": "#DFE8F3",
                        "gridwidth": 2,
                        "linecolor": "#EBF0F8",
                        "showbackground": true,
                        "ticks": "",
                        "zerolinecolor": "#EBF0F8"
                      }
                    },
                    "shapedefaults": {
                      "line": {
                        "color": "#2a3f5f"
                      }
                    },
                    "ternary": {
                      "aaxis": {
                        "gridcolor": "#DFE8F3",
                        "linecolor": "#A2B1C6",
                        "ticks": ""
                      },
                      "baxis": {
                        "gridcolor": "#DFE8F3",
                        "linecolor": "#A2B1C6",
                        "ticks": ""
                      },
                      "bgcolor": "white",
                      "caxis": {
                        "gridcolor": "#DFE8F3",
                        "linecolor": "#A2B1C6",
                        "ticks": ""
                      }
                    },
                    "title": {
                      "x": 0.05
                    },
                    "xaxis": {
                      "automargin": true,
                      "gridcolor": "#EBF0F8",
                      "linecolor": "#EBF0F8",
                      "ticks": "",
                      "title": {
                        "standoff": 15
                      },
                      "zerolinecolor": "#EBF0F8",
                      "zerolinewidth": 2
                    },
                    "yaxis": {
                      "automargin": true,
                      "gridcolor": "#EBF0F8",
                      "linecolor": "#EBF0F8",
                      "ticks": "",
                      "title": {
                        "standoff": 15
                      },
                      "zerolinecolor": "#EBF0F8",
                      "zerolinewidth": 2
                    }
                  }
                },
                "title": {
                  "text": "Trendlines"
                },
                "width": 1000,
                "xaxis": {
                  "rangeslider": {
                    "visible": false
                  },
                  "title": {
                    "text": "Date"
                  }
                },
                "yaxis": {
                  "title": {
                    "text": "Prix"
                  }
                }
              }
            }
          },
          "metadata": {},
          "output_type": "display_data"
        }
      ],
      "source": [
        "fig = plot_candles(df, trendlines=[\n",
        "    {\n",
        "        'slope': slope_0,\n",
        "        'intercept': intercept_0,\n",
        "        'start_time': df.index[0],\n",
        "        'end_time': df.index[-1],\n",
        "        'name': 'Support',\n",
        "        'color': 'blue'\n",
        "    },\n",
        "])"
      ]
    },
    {
      "cell_type": "markdown",
      "metadata": {
        "id": "ZczBdnTIYaQ3"
      },
      "source": [
        "### STEP 2 : Shift the line below the minimum pivot and upper the maximum pivot"
      ]
    },
    {
      "cell_type": "code",
      "execution_count": 11,
      "metadata": {},
      "outputs": [],
      "source": [
        "upper_pivot = (y - init_trendline).argmax() \n",
        "lower_pivot = (y - init_trendline).argmin() \n",
        "\n",
        "intercept_resistance_0 = -slope_0 * upper_pivot + y[upper_pivot]\n",
        "intercept_support_0 = -slope_0 * lower_pivot + y[lower_pivot]"
      ]
    },
    {
      "cell_type": "code",
      "execution_count": 12,
      "metadata": {},
      "outputs": [
        {
          "data": {
            "application/vnd.plotly.v1+json": {
              "config": {
                "plotlyServerURL": "https://plot.ly"
              },
              "data": [
                {
                  "close": {
                    "bdata": "cT0K16OA90BSuB6FB3T3QAAAAACAfPdAXI/C9Wx090BxPQrXl1f3QAAAAABsSfdAFK5H4Q5O90DXo3A9bkD3QDMzMzP/YfdAAAAAAOhf90AK16NwhVn3QAAAAAAgfPdAAAAAAGB+90B7FK5HDVP3QOF6FK6nU/dA4XoUrv8a90D2KFyPYvn2QK5H4XpA7vZA16NwPYL59kAfhetRQP/2QMP1KFyXNfdAFK5H4YZE90BxPQrXe1v3QGZmZmYiRvdAcT0K139P90CPwvUofGX3QI/C9SjkXfdAmpmZmd0+90B7FK5HlUP3QFyPwvUEWPdAw/UoXHtc90BxPQrX31j3QGZmZmYWbPdA7FG4HqWE90CamZmZaYr3QKRwPQpnevdAPQrXo1iB90B7FK5HZWH3QHE9Ctd7bPdAAAAAAMCC90DsUbgeWYj3QD0K16NoW/dAPQrXo+h890BSuB6FS3v3QNejcD26g/dAmpmZmb2R90C4HoXrRZj3QOF6FK5fpfdAhetRuPqf90AfhetR6Lb3QAAAAAD0sfdAw/UoXIe890BxPQrX36j3QHE9Cte/qPdAhetRuD6m90CPwvUo4Lf3QEjhehQKuvdA4XoUrt/F90CF61G4frv3QClcj8JFyfdApHA9CqPR90D2KFyPbqz3QB+F61F8qPdA4XoUruvQ90AzMzMzL+r3QHsUrkdx//dAzczMzGwH+EApXI/CWQn4QMP1KFyX8vdAMzMzM2/190AAAAAAEAD4QOxRuB7F+/dAAAAAAIAA+EC4HoXr8fP3QHE9Ctff9fdAj8L1KMD590B7FK5H2QH4QHE9CtefBvhAj8L1KDz490D2KFyPVvr3QDMzMzMbAvhAAAAAAEAT+EDNzMzMVBT4QAAAAACAJfhAFK5H4W5A+EAfhetRnB34QD0K16OA8/dAXI/C9Xz690BmZmZmvqz3QB+F61H4kfdAKVyPwlFD90AAAAAApDX3QK5H4XowSvdArkfhevhk90DhehSuX3v3QA==",
                    "dtype": "f8"
                  },
                  "decreasing": {
                    "line": {
                      "color": "red"
                    }
                  },
                  "high": {
                    "bdata": "AAAAAMCC90BSuB6FL4T3QAAAAAAggvdA4XoUrsuC90BI4XoU6nb3QD0K16OcWfdApHA9ChNe90ApXI/C4VX3QAAAAABIYvdAhetRuAJo90CamZmZYWL3QM3MzMyQgfdA9ihcjy6O90D2KFyPHp/3QB+F61EsX/dAZmZmZhJZ90BxPQrX6yn3QLgehevtCPdASOF6FD4M90BmZmZmpg/3QGZmZmZ2R/dAAAAAAORS90AAAAAAUFz3QFyPwvWQZvdAAAAAAIBP90A9CtejmG33QOxRuB7dZfdAMzMzM49h90DNzMzMwEb3QAAAAABAWvdAZmZmZmJm90AAAAAAoGf3QAAAAACEcfdAcT0K10+N90B7FK5HcYr3QAAAAADwjvdAmpmZmRmO90AAAAAAwJv3QDMzMzNXifdA16NwPXaH90AAAAAAAI73QFK4HoXrifdAzczMzCx/90BxPQrX/433QLgeheuljvdAKVyPwt2W90BxPQrXP6j3QHE9CtdfpfdAAAAAAICu90A9CtejuL/3QHsUrkctxfdAKVyPwrHD90DD9Shch7z3QM3MzMx0rvdAuB6F6w2090BxPQrX27r3QAAAAABAwPdAAAAAAODF90CuR+F6gMb3QEjhehTe0PdAj8L1KOTR90BmZmZm4vD3QOxRuB7hwvdAAAAAAADr90BxPQrX/+z3QAAAAABACPhAAAAAAGAN+EApXI/CdRn4QBSuR+EmDPhA9ihcjzoE+EDXo3A97gz4QAAAAACQDPhAAAAAAOAC+EBSuB6FWwT4QI/C9Sik//dAZmZmZvL990Bcj8L1VAX4QJqZmZlVB/hAhetRuCIT+ED2KFyPXv33QFyPwvUMJfhAexSuR30X+EApXI/CESH4QBSuR+HeKPhAAAAAADBJ+ECF61G4QkP4QArXo3BVQPhAAAAAAFAc+EB7FK5H6Qf4QGZmZmZ2vPdAAAAAANCj90BmZmZmflv3QAAAAACAT/dAmpmZmalr90AUrkfhqnz3QA==",
                    "dtype": "f8"
                  },
                  "increasing": {
                    "line": {
                      "color": "green"
                    }
                  },
                  "low": {
                    "bdata": "w/UoXGdX90AAAAAA8HD3QAAAAAAAcPdAmpmZmQFu90DXo3A9MlP3QLgehethQfdAXI/C9SBE90AAAAAAoDT3QD0K16PQOvdAzczMzCBZ90AK16Nw7VT3QIXrUbgCV/dAH4XrUbx290C4HoXr8Uj3QAAAAAAAPvdAMzMzM5cZ90BmZmZmYvn2QAAAAAAA2vZACtejcMHM9kBSuB6FK+L2QM3MzMxs+vZAhetRuHoo90BmZmZmkkH3QKRwPQr/QvdAAAAAAPA090CuR+F6IE73QOxRuB7ZVPdAmpmZmd0+90BxPQrXXzP3QGZmZmYaQfdAAAAAAEBW90CamZmZCVj3QDMzMzPbWPdA16NwPRZs90BmZmZm1nz3QGZmZmamePdApHA9Cmd690AAAAAAwFz3QClcj8IFU/dAPQrXo6hr90AAAAAAoHf3QK5H4XqAWfdA9ihcj/ZK90DXo3A9Xnb3QEjhehSmc/dAmpmZmRWD90DNzMzMqJD3QArXo3DxifdACtejcDGX90DhehSuN573QD0K16M0rfdACtejcKmw90BSuB6Ft6f3QOxRuB7ZoPdAAAAAAECi90ApXI/CGaL3QAAAAADgt/dAAAAAAHy090CkcD0KQ7j3QIXrUbh+u/dAj8L1KEi/90CPwvUo2Kb3QIXrUbj2ofdAAAAAAICn90BmZmZmVtD3QArXo3B16fdAcT0K1x/890DhehSumwD4QAAAAAAA7fdAexSuR+Hw90AAAAAAMPT3QFyPwvVA8vdAMzMzMxP090ApXI/C8fP3QGZmZmZS8vdA4XoUrlv090CkcD0Kz/b3QEjhehRK//dAAAAAAMD390AAAAAAYPb3QClcj8Lx8/dASOF6FAr890DsUbgeqQv4QD0K16M0DvhAAAAAAAAf+ECkcD0KmwL4QFyPwvWUufdAhetRuN7a90CPwvUoAKT3QHE9Ctc3kPdAZmZmZvJA90AzMzMzfyn3QEjhehTiMfdAcT0K19dA90BI4XoULlv3QA==",
                    "dtype": "f8"
                  },
                  "name": "Candles",
                  "open": {
                    "bdata": "FK5H4V5Z90BxPQrXo4D3QFK4HoUHdPdAAAAAAIB890Bcj8L1bHT3QAAAAACYV/dAcT0K12tJ90CF61G4Dk73QNejcD1uQPdApHA9Cv9h90AAAAAA6F/3QJqZmZmFWfdAAAAAACB890AAAAAAYH73QHsUrkcNU/dAcT0K16dT90DhehSu/xr3QPYoXI9i+fZArkfhekDu9kBmZmZmgvn2QB+F61FM//ZAw/UoXJc190CF61G4hkT3QHE9Ctd7W/dAZmZmZiJG90AAAAAAgE/3QI/C9Sh8ZfdAAAAAAORd90AK16Nw3T73QArXo3CVQ/dAXI/C9QRY90DD9Shce1z3QHE9CtffWPdAZmZmZhZs90Bcj8L1pIT3QJqZmZlpivdAMzMzM2d690A9CtejWIH3QHsUrkdlYfdAcT0K13ts90AAAAAAwIL3QOxRuB5ZiPdArkfhemhb90A9Ctej6Hz3QFK4HoVLe/dAZmZmZrqD90AK16NwvZH3QLgehetFmPdA4XoUrl+l90CF61G4+p/3QB+F61HotvdAcT0K1/Ox90DD9Shch7z3QHE9CtffqPdAAAAAAMCo90CF61G4Pqb3QI/C9Sjgt/dASOF6FAq690DhehSu38X3QBSuR+F+u/dAuB6F60XJ90AzMzMzo9H3QIXrUbhurPdAj8L1KHyo90DhehSu69D3QDMzMzMv6vdACtejcHH/90DNzMzMbAf4QClcj8JZCfhAMzMzM5fy90AzMzMzb/X3QI/C9SgQAPhA7FG4HsX790AAAAAAgAD4QEjhehTy8/dAcT0K19/190AfhetRwPn3QArXo3DZAfhAAAAAAKAG+EAfhetRPPj3QPYoXI9W+vdAMzMzMxsC+EAAAAAAQBP4QFyPwvVUFPhAcT0K138l+ECF61G4bkD4QK5H4XqcHfhAPQrXo4Dz90Bcj8L1fPr3QPYoXI++rPdAH4XrUfiR90ApXI/CUUP3QHE9CtejNfdArkfhejBK90CuR+F6+GT3QA==",
                    "dtype": "f8"
                  },
                  "type": "candlestick",
                  "x": [
                    "2025-02-18T01:00:00",
                    "2025-02-18T02:00:00",
                    "2025-02-18T03:00:00",
                    "2025-02-18T04:00:00",
                    "2025-02-18T05:00:00",
                    "2025-02-18T06:00:00",
                    "2025-02-18T07:00:00",
                    "2025-02-18T08:00:00",
                    "2025-02-18T09:00:00",
                    "2025-02-18T10:00:00",
                    "2025-02-18T11:00:00",
                    "2025-02-18T12:00:00",
                    "2025-02-18T13:00:00",
                    "2025-02-18T14:00:00",
                    "2025-02-18T15:00:00",
                    "2025-02-18T16:00:00",
                    "2025-02-18T17:00:00",
                    "2025-02-18T18:00:00",
                    "2025-02-18T19:00:00",
                    "2025-02-18T20:00:00",
                    "2025-02-18T21:00:00",
                    "2025-02-18T22:00:00",
                    "2025-02-18T23:00:00",
                    "2025-02-19T00:00:00",
                    "2025-02-19T01:00:00",
                    "2025-02-19T02:00:00",
                    "2025-02-19T03:00:00",
                    "2025-02-19T04:00:00",
                    "2025-02-19T05:00:00",
                    "2025-02-19T06:00:00",
                    "2025-02-19T07:00:00",
                    "2025-02-19T08:00:00",
                    "2025-02-19T09:00:00",
                    "2025-02-19T10:00:00",
                    "2025-02-19T11:00:00",
                    "2025-02-19T12:00:00",
                    "2025-02-19T13:00:00",
                    "2025-02-19T14:00:00",
                    "2025-02-19T15:00:00",
                    "2025-02-19T16:00:00",
                    "2025-02-19T17:00:00",
                    "2025-02-19T18:00:00",
                    "2025-02-19T19:00:00",
                    "2025-02-19T20:00:00",
                    "2025-02-19T21:00:00",
                    "2025-02-19T22:00:00",
                    "2025-02-19T23:00:00",
                    "2025-02-20T00:00:00",
                    "2025-02-20T01:00:00",
                    "2025-02-20T02:00:00",
                    "2025-02-20T03:00:00",
                    "2025-02-20T04:00:00",
                    "2025-02-20T05:00:00",
                    "2025-02-20T06:00:00",
                    "2025-02-20T07:00:00",
                    "2025-02-20T08:00:00",
                    "2025-02-20T09:00:00",
                    "2025-02-20T10:00:00",
                    "2025-02-20T11:00:00",
                    "2025-02-20T12:00:00",
                    "2025-02-20T13:00:00",
                    "2025-02-20T14:00:00",
                    "2025-02-20T15:00:00",
                    "2025-02-20T16:00:00",
                    "2025-02-20T17:00:00",
                    "2025-02-20T18:00:00",
                    "2025-02-20T19:00:00",
                    "2025-02-20T20:00:00",
                    "2025-02-20T21:00:00",
                    "2025-02-20T22:00:00",
                    "2025-02-20T23:00:00",
                    "2025-02-21T00:00:00",
                    "2025-02-21T01:00:00",
                    "2025-02-21T02:00:00",
                    "2025-02-21T03:00:00",
                    "2025-02-21T04:00:00",
                    "2025-02-21T05:00:00",
                    "2025-02-21T06:00:00",
                    "2025-02-21T07:00:00",
                    "2025-02-21T08:00:00",
                    "2025-02-21T09:00:00",
                    "2025-02-21T10:00:00",
                    "2025-02-21T11:00:00",
                    "2025-02-21T12:00:00",
                    "2025-02-21T13:00:00",
                    "2025-02-21T14:00:00",
                    "2025-02-21T15:00:00",
                    "2025-02-21T16:00:00",
                    "2025-02-21T17:00:00",
                    "2025-02-21T18:00:00",
                    "2025-02-21T19:00:00",
                    "2025-02-21T20:00:00",
                    "2025-02-21T21:00:00",
                    "2025-02-21T22:00:00",
                    "2025-02-21T23:00:00"
                  ]
                },
                {
                  "line": {
                    "color": "blue",
                    "dash": "dash",
                    "width": 2
                  },
                  "mode": "lines",
                  "name": "Support",
                  "type": "scatter",
                  "x": [
                    "2025-02-18T01:00:00",
                    "2025-02-18T02:00:00",
                    "2025-02-18T03:00:00",
                    "2025-02-18T04:00:00",
                    "2025-02-18T05:00:00",
                    "2025-02-18T06:00:00",
                    "2025-02-18T07:00:00",
                    "2025-02-18T08:00:00",
                    "2025-02-18T09:00:00",
                    "2025-02-18T10:00:00",
                    "2025-02-18T11:00:00",
                    "2025-02-18T12:00:00",
                    "2025-02-18T13:00:00",
                    "2025-02-18T14:00:00",
                    "2025-02-18T15:00:00",
                    "2025-02-18T16:00:00",
                    "2025-02-18T17:00:00",
                    "2025-02-18T18:00:00",
                    "2025-02-18T19:00:00",
                    "2025-02-18T20:00:00",
                    "2025-02-18T21:00:00",
                    "2025-02-18T22:00:00",
                    "2025-02-18T23:00:00",
                    "2025-02-19T00:00:00",
                    "2025-02-19T01:00:00",
                    "2025-02-19T02:00:00",
                    "2025-02-19T03:00:00",
                    "2025-02-19T04:00:00",
                    "2025-02-19T05:00:00",
                    "2025-02-19T06:00:00",
                    "2025-02-19T07:00:00",
                    "2025-02-19T08:00:00",
                    "2025-02-19T09:00:00",
                    "2025-02-19T10:00:00",
                    "2025-02-19T11:00:00",
                    "2025-02-19T12:00:00",
                    "2025-02-19T13:00:00",
                    "2025-02-19T14:00:00",
                    "2025-02-19T15:00:00",
                    "2025-02-19T16:00:00",
                    "2025-02-19T17:00:00",
                    "2025-02-19T18:00:00",
                    "2025-02-19T19:00:00",
                    "2025-02-19T20:00:00",
                    "2025-02-19T21:00:00",
                    "2025-02-19T22:00:00",
                    "2025-02-19T23:00:00",
                    "2025-02-20T00:00:00",
                    "2025-02-20T01:00:00",
                    "2025-02-20T02:00:00",
                    "2025-02-20T03:00:00",
                    "2025-02-20T04:00:00",
                    "2025-02-20T05:00:00",
                    "2025-02-20T06:00:00",
                    "2025-02-20T07:00:00",
                    "2025-02-20T08:00:00",
                    "2025-02-20T09:00:00",
                    "2025-02-20T10:00:00",
                    "2025-02-20T11:00:00",
                    "2025-02-20T12:00:00",
                    "2025-02-20T13:00:00",
                    "2025-02-20T14:00:00",
                    "2025-02-20T15:00:00",
                    "2025-02-20T16:00:00",
                    "2025-02-20T17:00:00",
                    "2025-02-20T18:00:00",
                    "2025-02-20T19:00:00",
                    "2025-02-20T20:00:00",
                    "2025-02-20T21:00:00",
                    "2025-02-20T22:00:00",
                    "2025-02-20T23:00:00",
                    "2025-02-21T00:00:00",
                    "2025-02-21T01:00:00",
                    "2025-02-21T02:00:00",
                    "2025-02-21T03:00:00",
                    "2025-02-21T04:00:00",
                    "2025-02-21T05:00:00",
                    "2025-02-21T06:00:00",
                    "2025-02-21T07:00:00",
                    "2025-02-21T08:00:00",
                    "2025-02-21T09:00:00",
                    "2025-02-21T10:00:00",
                    "2025-02-21T11:00:00",
                    "2025-02-21T12:00:00",
                    "2025-02-21T13:00:00",
                    "2025-02-21T14:00:00",
                    "2025-02-21T15:00:00",
                    "2025-02-21T16:00:00",
                    "2025-02-21T17:00:00",
                    "2025-02-21T18:00:00",
                    "2025-02-21T19:00:00",
                    "2025-02-21T20:00:00",
                    "2025-02-21T21:00:00",
                    "2025-02-21T22:00:00",
                    "2025-02-21T23:00:00"
                  ],
                  "y": {
                    "bdata": "eaSnRpGZ90DTc6PRjZv3QC1Dn1yKnfdAiBKb54af90Di4ZZyg6H3QDyxkv1/o/dAloCOiHyl90DxT4oTeaf3QEsfhp51qfdApe6BKXKr90D/vX20bq33QFmNeT9rr/dAtFx1ymex90AOLHFVZLP3QGj7bOBgtfdAwspoa12390AdmmT2Wbn3QHdpYIFWu/dA0ThcDFO990ArCFiXT7/3QIXXUyJMwfdA4KZPrUjD90A6dks4RcX3QJRFR8NBx/dA7hRDTj7J90BJ5D7ZOsv3QKOzOmQ3zfdA/YI27zPP90BXUjJ6MNH3QLEhLgUt0/dADPEpkCnV90BmwCUbJtf3QMCPIaYi2fdAGl8dMR/b90B0Lhm8G933QM/9FEcY3/dAKc0Q0hTh90CDnAxdEeP3QN1rCOgN5fdAODsEcwrn90CSCgD+Bun3QOzZ+4gD6/dARqn3EwDt90CgePOe/O73QPtH7yn58PdAVRfrtPXy90Cv5uY/8vT3QAm24sru9vdAZIXeVev490C+VNrg5/r3QBgk1mvk/PdAcvPR9uD+90DMws2B3QD4QCeSyQzaAvhAgWHFl9YE+EDbMMEi0wb4QDUAva3PCPhAkM+4OMwK+EDqnrTDyAz4QERusE7FDvhAnj2s2cEQ+ED4DKhkvhL4QFPco++6FPhAraufercW+EAHe5sFtBj4QGFKl5CwGvhAvBmTG60c+EAW6Y6mqR74QHC4ijGmIPhAyoeGvKIi+EAkV4JHnyT4QH8mftKbJvhA2fV5XZgo+EAzxXXolCr4QI2UcXORLPhA6GNt/o0u+EBCM2mJijD4QJwCZRSHMvhA9tFgn4M0+EBQoVwqgDb4QKtwWLV8OPhABUBUQHk6+EBfD1DLdTz4QLneS1ZyPvhAFK5H4W5A+EBufUNsa0L4QMhMP/dnRPhAIhw7gmRG+EB86zYNYUj4QNe6MphdSvhAMYouI1pM+ECLWSquVk74QOUoJjlTUPhAQPghxE9S+ECaxx1PTFT4QA==",
                    "dtype": "f8"
                  }
                },
                {
                  "line": {
                    "color": "blue",
                    "dash": "dash",
                    "width": 2
                  },
                  "mode": "lines",
                  "name": "Support",
                  "type": "scatter",
                  "x": [
                    "2025-02-18T01:00:00",
                    "2025-02-18T02:00:00",
                    "2025-02-18T03:00:00",
                    "2025-02-18T04:00:00",
                    "2025-02-18T05:00:00",
                    "2025-02-18T06:00:00",
                    "2025-02-18T07:00:00",
                    "2025-02-18T08:00:00",
                    "2025-02-18T09:00:00",
                    "2025-02-18T10:00:00",
                    "2025-02-18T11:00:00",
                    "2025-02-18T12:00:00",
                    "2025-02-18T13:00:00",
                    "2025-02-18T14:00:00",
                    "2025-02-18T15:00:00",
                    "2025-02-18T16:00:00",
                    "2025-02-18T17:00:00",
                    "2025-02-18T18:00:00",
                    "2025-02-18T19:00:00",
                    "2025-02-18T20:00:00",
                    "2025-02-18T21:00:00",
                    "2025-02-18T22:00:00",
                    "2025-02-18T23:00:00",
                    "2025-02-19T00:00:00",
                    "2025-02-19T01:00:00",
                    "2025-02-19T02:00:00",
                    "2025-02-19T03:00:00",
                    "2025-02-19T04:00:00",
                    "2025-02-19T05:00:00",
                    "2025-02-19T06:00:00",
                    "2025-02-19T07:00:00",
                    "2025-02-19T08:00:00",
                    "2025-02-19T09:00:00",
                    "2025-02-19T10:00:00",
                    "2025-02-19T11:00:00",
                    "2025-02-19T12:00:00",
                    "2025-02-19T13:00:00",
                    "2025-02-19T14:00:00",
                    "2025-02-19T15:00:00",
                    "2025-02-19T16:00:00",
                    "2025-02-19T17:00:00",
                    "2025-02-19T18:00:00",
                    "2025-02-19T19:00:00",
                    "2025-02-19T20:00:00",
                    "2025-02-19T21:00:00",
                    "2025-02-19T22:00:00",
                    "2025-02-19T23:00:00",
                    "2025-02-20T00:00:00",
                    "2025-02-20T01:00:00",
                    "2025-02-20T02:00:00",
                    "2025-02-20T03:00:00",
                    "2025-02-20T04:00:00",
                    "2025-02-20T05:00:00",
                    "2025-02-20T06:00:00",
                    "2025-02-20T07:00:00",
                    "2025-02-20T08:00:00",
                    "2025-02-20T09:00:00",
                    "2025-02-20T10:00:00",
                    "2025-02-20T11:00:00",
                    "2025-02-20T12:00:00",
                    "2025-02-20T13:00:00",
                    "2025-02-20T14:00:00",
                    "2025-02-20T15:00:00",
                    "2025-02-20T16:00:00",
                    "2025-02-20T17:00:00",
                    "2025-02-20T18:00:00",
                    "2025-02-20T19:00:00",
                    "2025-02-20T20:00:00",
                    "2025-02-20T21:00:00",
                    "2025-02-20T22:00:00",
                    "2025-02-20T23:00:00",
                    "2025-02-21T00:00:00",
                    "2025-02-21T01:00:00",
                    "2025-02-21T02:00:00",
                    "2025-02-21T03:00:00",
                    "2025-02-21T04:00:00",
                    "2025-02-21T05:00:00",
                    "2025-02-21T06:00:00",
                    "2025-02-21T07:00:00",
                    "2025-02-21T08:00:00",
                    "2025-02-21T09:00:00",
                    "2025-02-21T10:00:00",
                    "2025-02-21T11:00:00",
                    "2025-02-21T12:00:00",
                    "2025-02-21T13:00:00",
                    "2025-02-21T14:00:00",
                    "2025-02-21T15:00:00",
                    "2025-02-21T16:00:00",
                    "2025-02-21T17:00:00",
                    "2025-02-21T18:00:00",
                    "2025-02-21T19:00:00",
                    "2025-02-21T20:00:00",
                    "2025-02-21T21:00:00",
                    "2025-02-21T22:00:00",
                    "2025-02-21T23:00:00"
                  ],
                  "y": {
                    "bdata": "7kp9mN6A9kBIGnkj24L2QKLpdK7XhPZA/bhwOdSG9kBXiGzE0Ij2QLFXaE/NivZACydk2smM9kBm9l9lxo72QMDFW/DCkPZAGpVXe7+S9kB0ZFMGvJT2QM4zT5G4lvZAKQNLHLWY9kCD0kansZr2QN2hQjKunPZAN3E+vaqe9kCSQDpIp6D2QOwPNtOjovZARt8xXqCk9kCgri3pnKb2QPp9KXSZqPZAVU0l/5Wq9kCvHCGKkqz2QAnsHBWPrvZAY7sYoIuw9kC+ihQriLL2QBhaELaEtPZAcikMQYG29kDM+AfMfbj2QCbIA1d6uvZAgZf/4Xa89kDbZvtsc772QDU29/dvwPZAjwXzgmzC9kDq1O4NacT2QESk6phlxvZAnnPmI2LI9kD4QuKuXsr2QFIS3jlbzPZAreHZxFfO9kAHsdVPVND2QGGA0dpQ0vZAu0/NZU3U9kAVH8nwSdb2QHDuxHtG2PZAyr3ABkPa9kAkjbyRP9z2QH5cuBw83vZA2Su0pzjg9kAz+68yNeL2QI3Kq70x5PZA55mnSC7m9kBBaaPTKuj2QJw4n14n6vZA9geb6SPs9kBQ15Z0IO72QKqmkv8c8PZABXaOihny9kBfRYoVFvT2QLkUhqAS9vZAE+SBKw/49kBts322C/r2QMiCeUEI/PZAIlJ1zAT+9kB8IXFXAQD3QNbwbOL9AfdAMcBobfoD90CLj2T49gX3QOVeYIPzB/dAPy5cDvAJ90CZ/VeZ7Av3QPTMUyTpDfdATpxPr+UP90Coa0s64hH3QAI7R8XeE/dAXQpDUNsV90C32T7b1xf3QBGpOmbUGfdAa3g28dAb90DFRzJ8zR33QCAXLgfKH/dAeuYpksYh90DUtSUdwyP3QC6FIai/JfdAiVQdM7wn90DjIxm+uCn3QD3zFEm1K/dAl8IQ1LEt90DxkQxfri/3QExhCOqqMfdApjAEdacz90AAAAAApDX3QFrP+4qgN/dAtZ73FZ0590APbvOgmTv3QA==",
                    "dtype": "f8"
                  }
                }
              ],
              "layout": {
                "height": 600,
                "template": {
                  "data": {
                    "bar": [
                      {
                        "error_x": {
                          "color": "#2a3f5f"
                        },
                        "error_y": {
                          "color": "#2a3f5f"
                        },
                        "marker": {
                          "line": {
                            "color": "white",
                            "width": 0.5
                          },
                          "pattern": {
                            "fillmode": "overlay",
                            "size": 10,
                            "solidity": 0.2
                          }
                        },
                        "type": "bar"
                      }
                    ],
                    "barpolar": [
                      {
                        "marker": {
                          "line": {
                            "color": "white",
                            "width": 0.5
                          },
                          "pattern": {
                            "fillmode": "overlay",
                            "size": 10,
                            "solidity": 0.2
                          }
                        },
                        "type": "barpolar"
                      }
                    ],
                    "carpet": [
                      {
                        "aaxis": {
                          "endlinecolor": "#2a3f5f",
                          "gridcolor": "#C8D4E3",
                          "linecolor": "#C8D4E3",
                          "minorgridcolor": "#C8D4E3",
                          "startlinecolor": "#2a3f5f"
                        },
                        "baxis": {
                          "endlinecolor": "#2a3f5f",
                          "gridcolor": "#C8D4E3",
                          "linecolor": "#C8D4E3",
                          "minorgridcolor": "#C8D4E3",
                          "startlinecolor": "#2a3f5f"
                        },
                        "type": "carpet"
                      }
                    ],
                    "choropleth": [
                      {
                        "colorbar": {
                          "outlinewidth": 0,
                          "ticks": ""
                        },
                        "type": "choropleth"
                      }
                    ],
                    "contour": [
                      {
                        "colorbar": {
                          "outlinewidth": 0,
                          "ticks": ""
                        },
                        "colorscale": [
                          [
                            0,
                            "#0d0887"
                          ],
                          [
                            0.1111111111111111,
                            "#46039f"
                          ],
                          [
                            0.2222222222222222,
                            "#7201a8"
                          ],
                          [
                            0.3333333333333333,
                            "#9c179e"
                          ],
                          [
                            0.4444444444444444,
                            "#bd3786"
                          ],
                          [
                            0.5555555555555556,
                            "#d8576b"
                          ],
                          [
                            0.6666666666666666,
                            "#ed7953"
                          ],
                          [
                            0.7777777777777778,
                            "#fb9f3a"
                          ],
                          [
                            0.8888888888888888,
                            "#fdca26"
                          ],
                          [
                            1,
                            "#f0f921"
                          ]
                        ],
                        "type": "contour"
                      }
                    ],
                    "contourcarpet": [
                      {
                        "colorbar": {
                          "outlinewidth": 0,
                          "ticks": ""
                        },
                        "type": "contourcarpet"
                      }
                    ],
                    "heatmap": [
                      {
                        "colorbar": {
                          "outlinewidth": 0,
                          "ticks": ""
                        },
                        "colorscale": [
                          [
                            0,
                            "#0d0887"
                          ],
                          [
                            0.1111111111111111,
                            "#46039f"
                          ],
                          [
                            0.2222222222222222,
                            "#7201a8"
                          ],
                          [
                            0.3333333333333333,
                            "#9c179e"
                          ],
                          [
                            0.4444444444444444,
                            "#bd3786"
                          ],
                          [
                            0.5555555555555556,
                            "#d8576b"
                          ],
                          [
                            0.6666666666666666,
                            "#ed7953"
                          ],
                          [
                            0.7777777777777778,
                            "#fb9f3a"
                          ],
                          [
                            0.8888888888888888,
                            "#fdca26"
                          ],
                          [
                            1,
                            "#f0f921"
                          ]
                        ],
                        "type": "heatmap"
                      }
                    ],
                    "histogram": [
                      {
                        "marker": {
                          "pattern": {
                            "fillmode": "overlay",
                            "size": 10,
                            "solidity": 0.2
                          }
                        },
                        "type": "histogram"
                      }
                    ],
                    "histogram2d": [
                      {
                        "colorbar": {
                          "outlinewidth": 0,
                          "ticks": ""
                        },
                        "colorscale": [
                          [
                            0,
                            "#0d0887"
                          ],
                          [
                            0.1111111111111111,
                            "#46039f"
                          ],
                          [
                            0.2222222222222222,
                            "#7201a8"
                          ],
                          [
                            0.3333333333333333,
                            "#9c179e"
                          ],
                          [
                            0.4444444444444444,
                            "#bd3786"
                          ],
                          [
                            0.5555555555555556,
                            "#d8576b"
                          ],
                          [
                            0.6666666666666666,
                            "#ed7953"
                          ],
                          [
                            0.7777777777777778,
                            "#fb9f3a"
                          ],
                          [
                            0.8888888888888888,
                            "#fdca26"
                          ],
                          [
                            1,
                            "#f0f921"
                          ]
                        ],
                        "type": "histogram2d"
                      }
                    ],
                    "histogram2dcontour": [
                      {
                        "colorbar": {
                          "outlinewidth": 0,
                          "ticks": ""
                        },
                        "colorscale": [
                          [
                            0,
                            "#0d0887"
                          ],
                          [
                            0.1111111111111111,
                            "#46039f"
                          ],
                          [
                            0.2222222222222222,
                            "#7201a8"
                          ],
                          [
                            0.3333333333333333,
                            "#9c179e"
                          ],
                          [
                            0.4444444444444444,
                            "#bd3786"
                          ],
                          [
                            0.5555555555555556,
                            "#d8576b"
                          ],
                          [
                            0.6666666666666666,
                            "#ed7953"
                          ],
                          [
                            0.7777777777777778,
                            "#fb9f3a"
                          ],
                          [
                            0.8888888888888888,
                            "#fdca26"
                          ],
                          [
                            1,
                            "#f0f921"
                          ]
                        ],
                        "type": "histogram2dcontour"
                      }
                    ],
                    "mesh3d": [
                      {
                        "colorbar": {
                          "outlinewidth": 0,
                          "ticks": ""
                        },
                        "type": "mesh3d"
                      }
                    ],
                    "parcoords": [
                      {
                        "line": {
                          "colorbar": {
                            "outlinewidth": 0,
                            "ticks": ""
                          }
                        },
                        "type": "parcoords"
                      }
                    ],
                    "pie": [
                      {
                        "automargin": true,
                        "type": "pie"
                      }
                    ],
                    "scatter": [
                      {
                        "fillpattern": {
                          "fillmode": "overlay",
                          "size": 10,
                          "solidity": 0.2
                        },
                        "type": "scatter"
                      }
                    ],
                    "scatter3d": [
                      {
                        "line": {
                          "colorbar": {
                            "outlinewidth": 0,
                            "ticks": ""
                          }
                        },
                        "marker": {
                          "colorbar": {
                            "outlinewidth": 0,
                            "ticks": ""
                          }
                        },
                        "type": "scatter3d"
                      }
                    ],
                    "scattercarpet": [
                      {
                        "marker": {
                          "colorbar": {
                            "outlinewidth": 0,
                            "ticks": ""
                          }
                        },
                        "type": "scattercarpet"
                      }
                    ],
                    "scattergeo": [
                      {
                        "marker": {
                          "colorbar": {
                            "outlinewidth": 0,
                            "ticks": ""
                          }
                        },
                        "type": "scattergeo"
                      }
                    ],
                    "scattergl": [
                      {
                        "marker": {
                          "colorbar": {
                            "outlinewidth": 0,
                            "ticks": ""
                          }
                        },
                        "type": "scattergl"
                      }
                    ],
                    "scattermap": [
                      {
                        "marker": {
                          "colorbar": {
                            "outlinewidth": 0,
                            "ticks": ""
                          }
                        },
                        "type": "scattermap"
                      }
                    ],
                    "scattermapbox": [
                      {
                        "marker": {
                          "colorbar": {
                            "outlinewidth": 0,
                            "ticks": ""
                          }
                        },
                        "type": "scattermapbox"
                      }
                    ],
                    "scatterpolar": [
                      {
                        "marker": {
                          "colorbar": {
                            "outlinewidth": 0,
                            "ticks": ""
                          }
                        },
                        "type": "scatterpolar"
                      }
                    ],
                    "scatterpolargl": [
                      {
                        "marker": {
                          "colorbar": {
                            "outlinewidth": 0,
                            "ticks": ""
                          }
                        },
                        "type": "scatterpolargl"
                      }
                    ],
                    "scatterternary": [
                      {
                        "marker": {
                          "colorbar": {
                            "outlinewidth": 0,
                            "ticks": ""
                          }
                        },
                        "type": "scatterternary"
                      }
                    ],
                    "surface": [
                      {
                        "colorbar": {
                          "outlinewidth": 0,
                          "ticks": ""
                        },
                        "colorscale": [
                          [
                            0,
                            "#0d0887"
                          ],
                          [
                            0.1111111111111111,
                            "#46039f"
                          ],
                          [
                            0.2222222222222222,
                            "#7201a8"
                          ],
                          [
                            0.3333333333333333,
                            "#9c179e"
                          ],
                          [
                            0.4444444444444444,
                            "#bd3786"
                          ],
                          [
                            0.5555555555555556,
                            "#d8576b"
                          ],
                          [
                            0.6666666666666666,
                            "#ed7953"
                          ],
                          [
                            0.7777777777777778,
                            "#fb9f3a"
                          ],
                          [
                            0.8888888888888888,
                            "#fdca26"
                          ],
                          [
                            1,
                            "#f0f921"
                          ]
                        ],
                        "type": "surface"
                      }
                    ],
                    "table": [
                      {
                        "cells": {
                          "fill": {
                            "color": "#EBF0F8"
                          },
                          "line": {
                            "color": "white"
                          }
                        },
                        "header": {
                          "fill": {
                            "color": "#C8D4E3"
                          },
                          "line": {
                            "color": "white"
                          }
                        },
                        "type": "table"
                      }
                    ]
                  },
                  "layout": {
                    "annotationdefaults": {
                      "arrowcolor": "#2a3f5f",
                      "arrowhead": 0,
                      "arrowwidth": 1
                    },
                    "autotypenumbers": "strict",
                    "coloraxis": {
                      "colorbar": {
                        "outlinewidth": 0,
                        "ticks": ""
                      }
                    },
                    "colorscale": {
                      "diverging": [
                        [
                          0,
                          "#8e0152"
                        ],
                        [
                          0.1,
                          "#c51b7d"
                        ],
                        [
                          0.2,
                          "#de77ae"
                        ],
                        [
                          0.3,
                          "#f1b6da"
                        ],
                        [
                          0.4,
                          "#fde0ef"
                        ],
                        [
                          0.5,
                          "#f7f7f7"
                        ],
                        [
                          0.6,
                          "#e6f5d0"
                        ],
                        [
                          0.7,
                          "#b8e186"
                        ],
                        [
                          0.8,
                          "#7fbc41"
                        ],
                        [
                          0.9,
                          "#4d9221"
                        ],
                        [
                          1,
                          "#276419"
                        ]
                      ],
                      "sequential": [
                        [
                          0,
                          "#0d0887"
                        ],
                        [
                          0.1111111111111111,
                          "#46039f"
                        ],
                        [
                          0.2222222222222222,
                          "#7201a8"
                        ],
                        [
                          0.3333333333333333,
                          "#9c179e"
                        ],
                        [
                          0.4444444444444444,
                          "#bd3786"
                        ],
                        [
                          0.5555555555555556,
                          "#d8576b"
                        ],
                        [
                          0.6666666666666666,
                          "#ed7953"
                        ],
                        [
                          0.7777777777777778,
                          "#fb9f3a"
                        ],
                        [
                          0.8888888888888888,
                          "#fdca26"
                        ],
                        [
                          1,
                          "#f0f921"
                        ]
                      ],
                      "sequentialminus": [
                        [
                          0,
                          "#0d0887"
                        ],
                        [
                          0.1111111111111111,
                          "#46039f"
                        ],
                        [
                          0.2222222222222222,
                          "#7201a8"
                        ],
                        [
                          0.3333333333333333,
                          "#9c179e"
                        ],
                        [
                          0.4444444444444444,
                          "#bd3786"
                        ],
                        [
                          0.5555555555555556,
                          "#d8576b"
                        ],
                        [
                          0.6666666666666666,
                          "#ed7953"
                        ],
                        [
                          0.7777777777777778,
                          "#fb9f3a"
                        ],
                        [
                          0.8888888888888888,
                          "#fdca26"
                        ],
                        [
                          1,
                          "#f0f921"
                        ]
                      ]
                    },
                    "colorway": [
                      "#636efa",
                      "#EF553B",
                      "#00cc96",
                      "#ab63fa",
                      "#FFA15A",
                      "#19d3f3",
                      "#FF6692",
                      "#B6E880",
                      "#FF97FF",
                      "#FECB52"
                    ],
                    "font": {
                      "color": "#2a3f5f"
                    },
                    "geo": {
                      "bgcolor": "white",
                      "lakecolor": "white",
                      "landcolor": "white",
                      "showlakes": true,
                      "showland": true,
                      "subunitcolor": "#C8D4E3"
                    },
                    "hoverlabel": {
                      "align": "left"
                    },
                    "hovermode": "closest",
                    "mapbox": {
                      "style": "light"
                    },
                    "paper_bgcolor": "white",
                    "plot_bgcolor": "white",
                    "polar": {
                      "angularaxis": {
                        "gridcolor": "#EBF0F8",
                        "linecolor": "#EBF0F8",
                        "ticks": ""
                      },
                      "bgcolor": "white",
                      "radialaxis": {
                        "gridcolor": "#EBF0F8",
                        "linecolor": "#EBF0F8",
                        "ticks": ""
                      }
                    },
                    "scene": {
                      "xaxis": {
                        "backgroundcolor": "white",
                        "gridcolor": "#DFE8F3",
                        "gridwidth": 2,
                        "linecolor": "#EBF0F8",
                        "showbackground": true,
                        "ticks": "",
                        "zerolinecolor": "#EBF0F8"
                      },
                      "yaxis": {
                        "backgroundcolor": "white",
                        "gridcolor": "#DFE8F3",
                        "gridwidth": 2,
                        "linecolor": "#EBF0F8",
                        "showbackground": true,
                        "ticks": "",
                        "zerolinecolor": "#EBF0F8"
                      },
                      "zaxis": {
                        "backgroundcolor": "white",
                        "gridcolor": "#DFE8F3",
                        "gridwidth": 2,
                        "linecolor": "#EBF0F8",
                        "showbackground": true,
                        "ticks": "",
                        "zerolinecolor": "#EBF0F8"
                      }
                    },
                    "shapedefaults": {
                      "line": {
                        "color": "#2a3f5f"
                      }
                    },
                    "ternary": {
                      "aaxis": {
                        "gridcolor": "#DFE8F3",
                        "linecolor": "#A2B1C6",
                        "ticks": ""
                      },
                      "baxis": {
                        "gridcolor": "#DFE8F3",
                        "linecolor": "#A2B1C6",
                        "ticks": ""
                      },
                      "bgcolor": "white",
                      "caxis": {
                        "gridcolor": "#DFE8F3",
                        "linecolor": "#A2B1C6",
                        "ticks": ""
                      }
                    },
                    "title": {
                      "x": 0.05
                    },
                    "xaxis": {
                      "automargin": true,
                      "gridcolor": "#EBF0F8",
                      "linecolor": "#EBF0F8",
                      "ticks": "",
                      "title": {
                        "standoff": 15
                      },
                      "zerolinecolor": "#EBF0F8",
                      "zerolinewidth": 2
                    },
                    "yaxis": {
                      "automargin": true,
                      "gridcolor": "#EBF0F8",
                      "linecolor": "#EBF0F8",
                      "ticks": "",
                      "title": {
                        "standoff": 15
                      },
                      "zerolinecolor": "#EBF0F8",
                      "zerolinewidth": 2
                    }
                  }
                },
                "title": {
                  "text": "Trendlines"
                },
                "width": 1000,
                "xaxis": {
                  "rangeslider": {
                    "visible": false
                  },
                  "title": {
                    "text": "Date"
                  }
                },
                "yaxis": {
                  "title": {
                    "text": "Prix"
                  }
                }
              }
            }
          },
          "metadata": {},
          "output_type": "display_data"
        }
      ],
      "source": [
        "fig = plot_candles(df, trendlines=[\n",
        "    {\n",
        "        'slope': slope_0,\n",
        "        'intercept': intercept_resistance_0,\n",
        "        'start_time': df.index[0],\n",
        "        'end_time': df.index[-1],\n",
        "        'name': 'Support',\n",
        "        'color': 'blue'\n",
        "    },\n",
        "        {\n",
        "        'slope': slope_0,\n",
        "        'intercept': intercept_support_0,\n",
        "        'start_time': df.index[0],\n",
        "        'end_time': df.index[-1],\n",
        "        'name': 'Support',\n",
        "        'color': 'blue'\n",
        "    },\n",
        "])"
      ]
    },
    {
      "cell_type": "markdown",
      "metadata": {
        "id": "gLUlrq9VYeVb"
      },
      "source": [
        "### STEP 3: Do Constrained Optimization"
      ]
    },
    {
      "cell_type": "markdown",
      "metadata": {},
      "source": [
        "🔁 fit_trendlines : Finds the best slope that minimizes the SSE, while making sure all prices stay below (for resistance) or above (for support) the trendline : constraint optimization\n",
        "- This function fine-tunes the angle of each trendline\n",
        "    - It tries slightly different slopes to see which one fits best with the data, comparing the SSE\n",
        "    - It picks the one that keeps the line under (or over) the prices while staying as close as possible\n",
        "\n"
      ]
    },
    {
      "cell_type": "code",
      "execution_count": 13,
      "metadata": {},
      "outputs": [],
      "source": [
        "y_numpy = y.to_numpy()"
      ]
    },
    {
      "cell_type": "code",
      "execution_count": 14,
      "metadata": {},
      "outputs": [],
      "source": [
        "support_1_coefs, resistance_1_coefs = fit_trendlines(y_numpy)"
      ]
    },
    {
      "cell_type": "code",
      "execution_count": 15,
      "metadata": {},
      "outputs": [
        {
          "data": {
            "application/vnd.plotly.v1+json": {
              "config": {
                "plotlyServerURL": "https://plot.ly"
              },
              "data": [
                {
                  "close": {
                    "bdata": "cT0K16OA90BSuB6FB3T3QAAAAACAfPdAXI/C9Wx090BxPQrXl1f3QAAAAABsSfdAFK5H4Q5O90DXo3A9bkD3QDMzMzP/YfdAAAAAAOhf90AK16NwhVn3QAAAAAAgfPdAAAAAAGB+90B7FK5HDVP3QOF6FK6nU/dA4XoUrv8a90D2KFyPYvn2QK5H4XpA7vZA16NwPYL59kAfhetRQP/2QMP1KFyXNfdAFK5H4YZE90BxPQrXe1v3QGZmZmYiRvdAcT0K139P90CPwvUofGX3QI/C9SjkXfdAmpmZmd0+90B7FK5HlUP3QFyPwvUEWPdAw/UoXHtc90BxPQrX31j3QGZmZmYWbPdA7FG4HqWE90CamZmZaYr3QKRwPQpnevdAPQrXo1iB90B7FK5HZWH3QHE9Ctd7bPdAAAAAAMCC90DsUbgeWYj3QD0K16NoW/dAPQrXo+h890BSuB6FS3v3QNejcD26g/dAmpmZmb2R90C4HoXrRZj3QOF6FK5fpfdAhetRuPqf90AfhetR6Lb3QAAAAAD0sfdAw/UoXIe890BxPQrX36j3QHE9Cte/qPdAhetRuD6m90CPwvUo4Lf3QEjhehQKuvdA4XoUrt/F90CF61G4frv3QClcj8JFyfdApHA9CqPR90D2KFyPbqz3QB+F61F8qPdA4XoUruvQ90AzMzMzL+r3QHsUrkdx//dAzczMzGwH+EApXI/CWQn4QMP1KFyX8vdAMzMzM2/190AAAAAAEAD4QOxRuB7F+/dAAAAAAIAA+EC4HoXr8fP3QHE9Ctff9fdAj8L1KMD590B7FK5H2QH4QHE9CtefBvhAj8L1KDz490D2KFyPVvr3QDMzMzMbAvhAAAAAAEAT+EDNzMzMVBT4QAAAAACAJfhAFK5H4W5A+EAfhetRnB34QD0K16OA8/dAXI/C9Xz690BmZmZmvqz3QB+F61H4kfdAKVyPwlFD90AAAAAApDX3QK5H4XowSvdArkfhevhk90DhehSuX3v3QA==",
                    "dtype": "f8"
                  },
                  "decreasing": {
                    "line": {
                      "color": "red"
                    }
                  },
                  "high": {
                    "bdata": "AAAAAMCC90BSuB6FL4T3QAAAAAAggvdA4XoUrsuC90BI4XoU6nb3QD0K16OcWfdApHA9ChNe90ApXI/C4VX3QAAAAABIYvdAhetRuAJo90CamZmZYWL3QM3MzMyQgfdA9ihcjy6O90D2KFyPHp/3QB+F61EsX/dAZmZmZhJZ90BxPQrX6yn3QLgehevtCPdASOF6FD4M90BmZmZmpg/3QGZmZmZ2R/dAAAAAAORS90AAAAAAUFz3QFyPwvWQZvdAAAAAAIBP90A9CtejmG33QOxRuB7dZfdAMzMzM49h90DNzMzMwEb3QAAAAABAWvdAZmZmZmJm90AAAAAAoGf3QAAAAACEcfdAcT0K10+N90B7FK5HcYr3QAAAAADwjvdAmpmZmRmO90AAAAAAwJv3QDMzMzNXifdA16NwPXaH90AAAAAAAI73QFK4HoXrifdAzczMzCx/90BxPQrX/433QLgeheuljvdAKVyPwt2W90BxPQrXP6j3QHE9CtdfpfdAAAAAAICu90A9CtejuL/3QHsUrkctxfdAKVyPwrHD90DD9Shch7z3QM3MzMx0rvdAuB6F6w2090BxPQrX27r3QAAAAABAwPdAAAAAAODF90CuR+F6gMb3QEjhehTe0PdAj8L1KOTR90BmZmZm4vD3QOxRuB7hwvdAAAAAAADr90BxPQrX/+z3QAAAAABACPhAAAAAAGAN+EApXI/CdRn4QBSuR+EmDPhA9ihcjzoE+EDXo3A97gz4QAAAAACQDPhAAAAAAOAC+EBSuB6FWwT4QI/C9Sik//dAZmZmZvL990Bcj8L1VAX4QJqZmZlVB/hAhetRuCIT+ED2KFyPXv33QFyPwvUMJfhAexSuR30X+EApXI/CESH4QBSuR+HeKPhAAAAAADBJ+ECF61G4QkP4QArXo3BVQPhAAAAAAFAc+EB7FK5H6Qf4QGZmZmZ2vPdAAAAAANCj90BmZmZmflv3QAAAAACAT/dAmpmZmalr90AUrkfhqnz3QA==",
                    "dtype": "f8"
                  },
                  "increasing": {
                    "line": {
                      "color": "green"
                    }
                  },
                  "low": {
                    "bdata": "w/UoXGdX90AAAAAA8HD3QAAAAAAAcPdAmpmZmQFu90DXo3A9MlP3QLgehethQfdAXI/C9SBE90AAAAAAoDT3QD0K16PQOvdAzczMzCBZ90AK16Nw7VT3QIXrUbgCV/dAH4XrUbx290C4HoXr8Uj3QAAAAAAAPvdAMzMzM5cZ90BmZmZmYvn2QAAAAAAA2vZACtejcMHM9kBSuB6FK+L2QM3MzMxs+vZAhetRuHoo90BmZmZmkkH3QKRwPQr/QvdAAAAAAPA090CuR+F6IE73QOxRuB7ZVPdAmpmZmd0+90BxPQrXXzP3QGZmZmYaQfdAAAAAAEBW90CamZmZCVj3QDMzMzPbWPdA16NwPRZs90BmZmZm1nz3QGZmZmamePdApHA9Cmd690AAAAAAwFz3QClcj8IFU/dAPQrXo6hr90AAAAAAoHf3QK5H4XqAWfdA9ihcj/ZK90DXo3A9Xnb3QEjhehSmc/dAmpmZmRWD90DNzMzMqJD3QArXo3DxifdACtejcDGX90DhehSuN573QD0K16M0rfdACtejcKmw90BSuB6Ft6f3QOxRuB7ZoPdAAAAAAECi90ApXI/CGaL3QAAAAADgt/dAAAAAAHy090CkcD0KQ7j3QIXrUbh+u/dAj8L1KEi/90CPwvUo2Kb3QIXrUbj2ofdAAAAAAICn90BmZmZmVtD3QArXo3B16fdAcT0K1x/890DhehSumwD4QAAAAAAA7fdAexSuR+Hw90AAAAAAMPT3QFyPwvVA8vdAMzMzMxP090ApXI/C8fP3QGZmZmZS8vdA4XoUrlv090CkcD0Kz/b3QEjhehRK//dAAAAAAMD390AAAAAAYPb3QClcj8Lx8/dASOF6FAr890DsUbgeqQv4QD0K16M0DvhAAAAAAAAf+ECkcD0KmwL4QFyPwvWUufdAhetRuN7a90CPwvUoAKT3QHE9Ctc3kPdAZmZmZvJA90AzMzMzfyn3QEjhehTiMfdAcT0K19dA90BI4XoULlv3QA==",
                    "dtype": "f8"
                  },
                  "name": "Candles",
                  "open": {
                    "bdata": "FK5H4V5Z90BxPQrXo4D3QFK4HoUHdPdAAAAAAIB890Bcj8L1bHT3QAAAAACYV/dAcT0K12tJ90CF61G4Dk73QNejcD1uQPdApHA9Cv9h90AAAAAA6F/3QJqZmZmFWfdAAAAAACB890AAAAAAYH73QHsUrkcNU/dAcT0K16dT90DhehSu/xr3QPYoXI9i+fZArkfhekDu9kBmZmZmgvn2QB+F61FM//ZAw/UoXJc190CF61G4hkT3QHE9Ctd7W/dAZmZmZiJG90AAAAAAgE/3QI/C9Sh8ZfdAAAAAAORd90AK16Nw3T73QArXo3CVQ/dAXI/C9QRY90DD9Shce1z3QHE9CtffWPdAZmZmZhZs90Bcj8L1pIT3QJqZmZlpivdAMzMzM2d690A9CtejWIH3QHsUrkdlYfdAcT0K13ts90AAAAAAwIL3QOxRuB5ZiPdArkfhemhb90A9Ctej6Hz3QFK4HoVLe/dAZmZmZrqD90AK16NwvZH3QLgehetFmPdA4XoUrl+l90CF61G4+p/3QB+F61HotvdAcT0K1/Ox90DD9Shch7z3QHE9CtffqPdAAAAAAMCo90CF61G4Pqb3QI/C9Sjgt/dASOF6FAq690DhehSu38X3QBSuR+F+u/dAuB6F60XJ90AzMzMzo9H3QIXrUbhurPdAj8L1KHyo90DhehSu69D3QDMzMzMv6vdACtejcHH/90DNzMzMbAf4QClcj8JZCfhAMzMzM5fy90AzMzMzb/X3QI/C9SgQAPhA7FG4HsX790AAAAAAgAD4QEjhehTy8/dAcT0K19/190AfhetRwPn3QArXo3DZAfhAAAAAAKAG+EAfhetRPPj3QPYoXI9W+vdAMzMzMxsC+EAAAAAAQBP4QFyPwvVUFPhAcT0K138l+ECF61G4bkD4QK5H4XqcHfhAPQrXo4Dz90Bcj8L1fPr3QPYoXI++rPdAH4XrUfiR90ApXI/CUUP3QHE9CtejNfdArkfhejBK90CuR+F6+GT3QA==",
                    "dtype": "f8"
                  },
                  "type": "candlestick",
                  "x": [
                    "2025-02-18T01:00:00",
                    "2025-02-18T02:00:00",
                    "2025-02-18T03:00:00",
                    "2025-02-18T04:00:00",
                    "2025-02-18T05:00:00",
                    "2025-02-18T06:00:00",
                    "2025-02-18T07:00:00",
                    "2025-02-18T08:00:00",
                    "2025-02-18T09:00:00",
                    "2025-02-18T10:00:00",
                    "2025-02-18T11:00:00",
                    "2025-02-18T12:00:00",
                    "2025-02-18T13:00:00",
                    "2025-02-18T14:00:00",
                    "2025-02-18T15:00:00",
                    "2025-02-18T16:00:00",
                    "2025-02-18T17:00:00",
                    "2025-02-18T18:00:00",
                    "2025-02-18T19:00:00",
                    "2025-02-18T20:00:00",
                    "2025-02-18T21:00:00",
                    "2025-02-18T22:00:00",
                    "2025-02-18T23:00:00",
                    "2025-02-19T00:00:00",
                    "2025-02-19T01:00:00",
                    "2025-02-19T02:00:00",
                    "2025-02-19T03:00:00",
                    "2025-02-19T04:00:00",
                    "2025-02-19T05:00:00",
                    "2025-02-19T06:00:00",
                    "2025-02-19T07:00:00",
                    "2025-02-19T08:00:00",
                    "2025-02-19T09:00:00",
                    "2025-02-19T10:00:00",
                    "2025-02-19T11:00:00",
                    "2025-02-19T12:00:00",
                    "2025-02-19T13:00:00",
                    "2025-02-19T14:00:00",
                    "2025-02-19T15:00:00",
                    "2025-02-19T16:00:00",
                    "2025-02-19T17:00:00",
                    "2025-02-19T18:00:00",
                    "2025-02-19T19:00:00",
                    "2025-02-19T20:00:00",
                    "2025-02-19T21:00:00",
                    "2025-02-19T22:00:00",
                    "2025-02-19T23:00:00",
                    "2025-02-20T00:00:00",
                    "2025-02-20T01:00:00",
                    "2025-02-20T02:00:00",
                    "2025-02-20T03:00:00",
                    "2025-02-20T04:00:00",
                    "2025-02-20T05:00:00",
                    "2025-02-20T06:00:00",
                    "2025-02-20T07:00:00",
                    "2025-02-20T08:00:00",
                    "2025-02-20T09:00:00",
                    "2025-02-20T10:00:00",
                    "2025-02-20T11:00:00",
                    "2025-02-20T12:00:00",
                    "2025-02-20T13:00:00",
                    "2025-02-20T14:00:00",
                    "2025-02-20T15:00:00",
                    "2025-02-20T16:00:00",
                    "2025-02-20T17:00:00",
                    "2025-02-20T18:00:00",
                    "2025-02-20T19:00:00",
                    "2025-02-20T20:00:00",
                    "2025-02-20T21:00:00",
                    "2025-02-20T22:00:00",
                    "2025-02-20T23:00:00",
                    "2025-02-21T00:00:00",
                    "2025-02-21T01:00:00",
                    "2025-02-21T02:00:00",
                    "2025-02-21T03:00:00",
                    "2025-02-21T04:00:00",
                    "2025-02-21T05:00:00",
                    "2025-02-21T06:00:00",
                    "2025-02-21T07:00:00",
                    "2025-02-21T08:00:00",
                    "2025-02-21T09:00:00",
                    "2025-02-21T10:00:00",
                    "2025-02-21T11:00:00",
                    "2025-02-21T12:00:00",
                    "2025-02-21T13:00:00",
                    "2025-02-21T14:00:00",
                    "2025-02-21T15:00:00",
                    "2025-02-21T16:00:00",
                    "2025-02-21T17:00:00",
                    "2025-02-21T18:00:00",
                    "2025-02-21T19:00:00",
                    "2025-02-21T20:00:00",
                    "2025-02-21T21:00:00",
                    "2025-02-21T22:00:00",
                    "2025-02-21T23:00:00"
                  ]
                },
                {
                  "line": {
                    "color": "blue",
                    "dash": "dash",
                    "width": 2
                  },
                  "mode": "lines",
                  "name": "Support",
                  "type": "scatter",
                  "x": [
                    "2025-02-18T01:00:00",
                    "2025-02-18T02:00:00",
                    "2025-02-18T03:00:00",
                    "2025-02-18T04:00:00",
                    "2025-02-18T05:00:00",
                    "2025-02-18T06:00:00",
                    "2025-02-18T07:00:00",
                    "2025-02-18T08:00:00",
                    "2025-02-18T09:00:00",
                    "2025-02-18T10:00:00",
                    "2025-02-18T11:00:00",
                    "2025-02-18T12:00:00",
                    "2025-02-18T13:00:00",
                    "2025-02-18T14:00:00",
                    "2025-02-18T15:00:00",
                    "2025-02-18T16:00:00",
                    "2025-02-18T17:00:00",
                    "2025-02-18T18:00:00",
                    "2025-02-18T19:00:00",
                    "2025-02-18T20:00:00",
                    "2025-02-18T21:00:00",
                    "2025-02-18T22:00:00",
                    "2025-02-18T23:00:00",
                    "2025-02-19T00:00:00",
                    "2025-02-19T01:00:00",
                    "2025-02-19T02:00:00",
                    "2025-02-19T03:00:00",
                    "2025-02-19T04:00:00",
                    "2025-02-19T05:00:00",
                    "2025-02-19T06:00:00",
                    "2025-02-19T07:00:00",
                    "2025-02-19T08:00:00",
                    "2025-02-19T09:00:00",
                    "2025-02-19T10:00:00",
                    "2025-02-19T11:00:00",
                    "2025-02-19T12:00:00",
                    "2025-02-19T13:00:00",
                    "2025-02-19T14:00:00",
                    "2025-02-19T15:00:00",
                    "2025-02-19T16:00:00",
                    "2025-02-19T17:00:00",
                    "2025-02-19T18:00:00",
                    "2025-02-19T19:00:00",
                    "2025-02-19T20:00:00",
                    "2025-02-19T21:00:00",
                    "2025-02-19T22:00:00",
                    "2025-02-19T23:00:00",
                    "2025-02-20T00:00:00",
                    "2025-02-20T01:00:00",
                    "2025-02-20T02:00:00",
                    "2025-02-20T03:00:00",
                    "2025-02-20T04:00:00",
                    "2025-02-20T05:00:00",
                    "2025-02-20T06:00:00",
                    "2025-02-20T07:00:00",
                    "2025-02-20T08:00:00",
                    "2025-02-20T09:00:00",
                    "2025-02-20T10:00:00",
                    "2025-02-20T11:00:00",
                    "2025-02-20T12:00:00",
                    "2025-02-20T13:00:00",
                    "2025-02-20T14:00:00",
                    "2025-02-20T15:00:00",
                    "2025-02-20T16:00:00",
                    "2025-02-20T17:00:00",
                    "2025-02-20T18:00:00",
                    "2025-02-20T19:00:00",
                    "2025-02-20T20:00:00",
                    "2025-02-20T21:00:00",
                    "2025-02-20T22:00:00",
                    "2025-02-20T23:00:00",
                    "2025-02-21T00:00:00",
                    "2025-02-21T01:00:00",
                    "2025-02-21T02:00:00",
                    "2025-02-21T03:00:00",
                    "2025-02-21T04:00:00",
                    "2025-02-21T05:00:00",
                    "2025-02-21T06:00:00",
                    "2025-02-21T07:00:00",
                    "2025-02-21T08:00:00",
                    "2025-02-21T09:00:00",
                    "2025-02-21T10:00:00",
                    "2025-02-21T11:00:00",
                    "2025-02-21T12:00:00",
                    "2025-02-21T13:00:00",
                    "2025-02-21T14:00:00",
                    "2025-02-21T15:00:00",
                    "2025-02-21T16:00:00",
                    "2025-02-21T17:00:00",
                    "2025-02-21T18:00:00",
                    "2025-02-21T19:00:00",
                    "2025-02-21T20:00:00",
                    "2025-02-21T21:00:00",
                    "2025-02-21T22:00:00",
                    "2025-02-21T23:00:00"
                  ],
                  "y": {
                    "bdata": "HyteNtbd9kC5ZZU4zd72QFSgzDrE3/ZA7toDPbvg9kCJFTs/suH2QCNQckGp4vZAvYqpQ6Dj9kBYxeBFl+T2QPL/F0iO5fZAjDpPSoXm9kAndYZMfOf2QMGvvU5z6PZAXOr0UGrp9kD2JCxTYer2QJBfY1VY6/ZAK5qaV0/s9kDF1NFZRu32QGAPCVw97vZA+klAXjTv9kCUhHdgK/D2QC+/rmIi8fZAyfnlZBny9kBkNB1nEPP2QP5uVGkH9PZAmKmLa/709kAz5MJt9fX2QM0e+m/s9vZAZ1kxcuP39kAClGh02vj2QJzOn3bR+fZANwnXeMj69kDRQw57v/v2QGt+RX22/PZABrl8f6399kCg87OBpP72QDsu64Ob//ZA1WgihpIA90Bvo1mIiQH3QArekIqAAvdApBjIjHcD90A+U/+ObgT3QNmNNpFlBfdAc8htk1wG90AOA6WVUwf3QKg93JdKCPdAQngTmkEJ90DdskqcOAr3QHftgZ4vC/dAEii5oCYM90CsYvCiHQ33QEadJ6UUDvdA4ddepwsP90B7EpapAhD3QBZNzav5EPdAsIcErvAR90BKwjuw5xL3QOX8crLeE/dAfzeqtNUU90AZcuG2zBX3QLSsGLnDFvdATudPu7oX90DpIYe9sRj3QINcvr+oGfdAHZf1wZ8a90C40SzElhv3QFIMZMaNHPdA7UabyIQd90CHgdLKex73QCG8Cc1yH/dAvPZAz2kg90BWMXjRYCH3QPBrr9NXIvdAi6bm1U4j90Al4R3YRST3QMAbVdo8JfdAWlaM3DMm90D0kMPeKif3QI/L+uAhKPdAKQYy4xgp90DEQGnlDyr3QF57oOcGK/dA+LXX6f0r90CT8A7s9Cz3QC0rRu7rLfdAyGV98OIu90BioLTy2S/3QPza6/TQMPdAlxUj98cx90AxUFr5vjL3QMuKkfu1M/dAZsXI/aw090AAAAAApDX3QJs6NwKbNvdANXVuBJI390DPr6UGiTj3QA==",
                    "dtype": "f8"
                  }
                },
                {
                  "line": {
                    "color": "red",
                    "dash": "dash",
                    "width": 2
                  },
                  "mode": "lines",
                  "name": "resistance",
                  "type": "scatter",
                  "x": [
                    "2025-02-18T01:00:00",
                    "2025-02-18T02:00:00",
                    "2025-02-18T03:00:00",
                    "2025-02-18T04:00:00",
                    "2025-02-18T05:00:00",
                    "2025-02-18T06:00:00",
                    "2025-02-18T07:00:00",
                    "2025-02-18T08:00:00",
                    "2025-02-18T09:00:00",
                    "2025-02-18T10:00:00",
                    "2025-02-18T11:00:00",
                    "2025-02-18T12:00:00",
                    "2025-02-18T13:00:00",
                    "2025-02-18T14:00:00",
                    "2025-02-18T15:00:00",
                    "2025-02-18T16:00:00",
                    "2025-02-18T17:00:00",
                    "2025-02-18T18:00:00",
                    "2025-02-18T19:00:00",
                    "2025-02-18T20:00:00",
                    "2025-02-18T21:00:00",
                    "2025-02-18T22:00:00",
                    "2025-02-18T23:00:00",
                    "2025-02-19T00:00:00",
                    "2025-02-19T01:00:00",
                    "2025-02-19T02:00:00",
                    "2025-02-19T03:00:00",
                    "2025-02-19T04:00:00",
                    "2025-02-19T05:00:00",
                    "2025-02-19T06:00:00",
                    "2025-02-19T07:00:00",
                    "2025-02-19T08:00:00",
                    "2025-02-19T09:00:00",
                    "2025-02-19T10:00:00",
                    "2025-02-19T11:00:00",
                    "2025-02-19T12:00:00",
                    "2025-02-19T13:00:00",
                    "2025-02-19T14:00:00",
                    "2025-02-19T15:00:00",
                    "2025-02-19T16:00:00",
                    "2025-02-19T17:00:00",
                    "2025-02-19T18:00:00",
                    "2025-02-19T19:00:00",
                    "2025-02-19T20:00:00",
                    "2025-02-19T21:00:00",
                    "2025-02-19T22:00:00",
                    "2025-02-19T23:00:00",
                    "2025-02-20T00:00:00",
                    "2025-02-20T01:00:00",
                    "2025-02-20T02:00:00",
                    "2025-02-20T03:00:00",
                    "2025-02-20T04:00:00",
                    "2025-02-20T05:00:00",
                    "2025-02-20T06:00:00",
                    "2025-02-20T07:00:00",
                    "2025-02-20T08:00:00",
                    "2025-02-20T09:00:00",
                    "2025-02-20T10:00:00",
                    "2025-02-20T11:00:00",
                    "2025-02-20T12:00:00",
                    "2025-02-20T13:00:00",
                    "2025-02-20T14:00:00",
                    "2025-02-20T15:00:00",
                    "2025-02-20T16:00:00",
                    "2025-02-20T17:00:00",
                    "2025-02-20T18:00:00",
                    "2025-02-20T19:00:00",
                    "2025-02-20T20:00:00",
                    "2025-02-20T21:00:00",
                    "2025-02-20T22:00:00",
                    "2025-02-20T23:00:00",
                    "2025-02-21T00:00:00",
                    "2025-02-21T01:00:00",
                    "2025-02-21T02:00:00",
                    "2025-02-21T03:00:00",
                    "2025-02-21T04:00:00",
                    "2025-02-21T05:00:00",
                    "2025-02-21T06:00:00",
                    "2025-02-21T07:00:00",
                    "2025-02-21T08:00:00",
                    "2025-02-21T09:00:00",
                    "2025-02-21T10:00:00",
                    "2025-02-21T11:00:00",
                    "2025-02-21T12:00:00",
                    "2025-02-21T13:00:00",
                    "2025-02-21T14:00:00",
                    "2025-02-21T15:00:00",
                    "2025-02-21T16:00:00",
                    "2025-02-21T17:00:00",
                    "2025-02-21T18:00:00",
                    "2025-02-21T19:00:00",
                    "2025-02-21T20:00:00",
                    "2025-02-21T21:00:00",
                    "2025-02-21T22:00:00",
                    "2025-02-21T23:00:00"
                  ],
                  "y": {
                    "bdata": "dZ3eVqyA90DY6SLA9IL3QDw2Zyk9hfdAn4KrkoWH90ADz+/7zYn3QGYbNGUWjPdAyWd4zl6O90AttLw3p5D3QJAAAaHvkvdA9ExFCjiV90BXmYlzgJf3QLvlzdzImfdAHjISRhGc90CBflavWZ73QOXKmhiioPdASBffgeqi90CsYyPrMqX3QA+wZ1R7p/dAcvyrvcOp90DWSPAmDKz3QDmVNJBUrvdAneF4+Zyw90AALr1i5bL3QGN6AcwttfdAx8ZFNXa390AqE4qevrn3QI5fzgcHvPdA8asScU++90BV+Fbal8D3QLhEm0PgwvdAG5HfrCjF90B/3SMWccf3QOIpaH+5yfdARnas6AHM90CpwvBRSs73QAwPNbuS0PdAcFt5JNvS90DTp72NI9X3QDf0Afdr1/dAmkBGYLTZ90D+jIrJ/Nv3QGHZzjJF3vdAxCUTnI3g90AoclcF1uL3QIu+m24e5fdA7wrg12bn90BSVyRBr+n3QLWjaKr36/dAGfCsE0Du90B8PPF8iPD3QOCINebQ8vdAQ9V5Txn190CmIb64Yff3QApuAiKq+fdAbbpGi/L790DRBov0Ov73QDRTz12DAPhAmJ8Tx8sC+ED761cwFAX4QF44nJlcB/hAwoTgAqUJ+EAl0SRs7Qv4QIkdadU1DvhA7GmtPn4Q+EBPtvGnxhL4QLMCNhEPFfhAFk96elcX+EB6m77jnxn4QN3nAk3oG/hAQDRHtjAe+ECkgIsfeSD4QAfNz4jBIvhAaxkU8gkl+EDOZVhbUif4QDKynMSaKfhAlf7gLeMr+ED4SiWXKy74QFyXaQB0MPhAv+Otabwy+EAjMPLSBDX4QIZ8NjxNN/hA6ch6pZU5+EBNFb8O3jv4QLBhA3gmPvhAFK5H4W5A+EB3+otKt0L4QNpG0LP/RPhAPpMUHUhH+ECh31iGkEn4QAUsne/YS/hAaHjhWCFO+EDMxCXCaVD4QC8RaiuyUvhAkl2ulPpU+ED2qfL9Qlf4QA==",
                    "dtype": "f8"
                  }
                }
              ],
              "layout": {
                "height": 600,
                "template": {
                  "data": {
                    "bar": [
                      {
                        "error_x": {
                          "color": "#2a3f5f"
                        },
                        "error_y": {
                          "color": "#2a3f5f"
                        },
                        "marker": {
                          "line": {
                            "color": "white",
                            "width": 0.5
                          },
                          "pattern": {
                            "fillmode": "overlay",
                            "size": 10,
                            "solidity": 0.2
                          }
                        },
                        "type": "bar"
                      }
                    ],
                    "barpolar": [
                      {
                        "marker": {
                          "line": {
                            "color": "white",
                            "width": 0.5
                          },
                          "pattern": {
                            "fillmode": "overlay",
                            "size": 10,
                            "solidity": 0.2
                          }
                        },
                        "type": "barpolar"
                      }
                    ],
                    "carpet": [
                      {
                        "aaxis": {
                          "endlinecolor": "#2a3f5f",
                          "gridcolor": "#C8D4E3",
                          "linecolor": "#C8D4E3",
                          "minorgridcolor": "#C8D4E3",
                          "startlinecolor": "#2a3f5f"
                        },
                        "baxis": {
                          "endlinecolor": "#2a3f5f",
                          "gridcolor": "#C8D4E3",
                          "linecolor": "#C8D4E3",
                          "minorgridcolor": "#C8D4E3",
                          "startlinecolor": "#2a3f5f"
                        },
                        "type": "carpet"
                      }
                    ],
                    "choropleth": [
                      {
                        "colorbar": {
                          "outlinewidth": 0,
                          "ticks": ""
                        },
                        "type": "choropleth"
                      }
                    ],
                    "contour": [
                      {
                        "colorbar": {
                          "outlinewidth": 0,
                          "ticks": ""
                        },
                        "colorscale": [
                          [
                            0,
                            "#0d0887"
                          ],
                          [
                            0.1111111111111111,
                            "#46039f"
                          ],
                          [
                            0.2222222222222222,
                            "#7201a8"
                          ],
                          [
                            0.3333333333333333,
                            "#9c179e"
                          ],
                          [
                            0.4444444444444444,
                            "#bd3786"
                          ],
                          [
                            0.5555555555555556,
                            "#d8576b"
                          ],
                          [
                            0.6666666666666666,
                            "#ed7953"
                          ],
                          [
                            0.7777777777777778,
                            "#fb9f3a"
                          ],
                          [
                            0.8888888888888888,
                            "#fdca26"
                          ],
                          [
                            1,
                            "#f0f921"
                          ]
                        ],
                        "type": "contour"
                      }
                    ],
                    "contourcarpet": [
                      {
                        "colorbar": {
                          "outlinewidth": 0,
                          "ticks": ""
                        },
                        "type": "contourcarpet"
                      }
                    ],
                    "heatmap": [
                      {
                        "colorbar": {
                          "outlinewidth": 0,
                          "ticks": ""
                        },
                        "colorscale": [
                          [
                            0,
                            "#0d0887"
                          ],
                          [
                            0.1111111111111111,
                            "#46039f"
                          ],
                          [
                            0.2222222222222222,
                            "#7201a8"
                          ],
                          [
                            0.3333333333333333,
                            "#9c179e"
                          ],
                          [
                            0.4444444444444444,
                            "#bd3786"
                          ],
                          [
                            0.5555555555555556,
                            "#d8576b"
                          ],
                          [
                            0.6666666666666666,
                            "#ed7953"
                          ],
                          [
                            0.7777777777777778,
                            "#fb9f3a"
                          ],
                          [
                            0.8888888888888888,
                            "#fdca26"
                          ],
                          [
                            1,
                            "#f0f921"
                          ]
                        ],
                        "type": "heatmap"
                      }
                    ],
                    "histogram": [
                      {
                        "marker": {
                          "pattern": {
                            "fillmode": "overlay",
                            "size": 10,
                            "solidity": 0.2
                          }
                        },
                        "type": "histogram"
                      }
                    ],
                    "histogram2d": [
                      {
                        "colorbar": {
                          "outlinewidth": 0,
                          "ticks": ""
                        },
                        "colorscale": [
                          [
                            0,
                            "#0d0887"
                          ],
                          [
                            0.1111111111111111,
                            "#46039f"
                          ],
                          [
                            0.2222222222222222,
                            "#7201a8"
                          ],
                          [
                            0.3333333333333333,
                            "#9c179e"
                          ],
                          [
                            0.4444444444444444,
                            "#bd3786"
                          ],
                          [
                            0.5555555555555556,
                            "#d8576b"
                          ],
                          [
                            0.6666666666666666,
                            "#ed7953"
                          ],
                          [
                            0.7777777777777778,
                            "#fb9f3a"
                          ],
                          [
                            0.8888888888888888,
                            "#fdca26"
                          ],
                          [
                            1,
                            "#f0f921"
                          ]
                        ],
                        "type": "histogram2d"
                      }
                    ],
                    "histogram2dcontour": [
                      {
                        "colorbar": {
                          "outlinewidth": 0,
                          "ticks": ""
                        },
                        "colorscale": [
                          [
                            0,
                            "#0d0887"
                          ],
                          [
                            0.1111111111111111,
                            "#46039f"
                          ],
                          [
                            0.2222222222222222,
                            "#7201a8"
                          ],
                          [
                            0.3333333333333333,
                            "#9c179e"
                          ],
                          [
                            0.4444444444444444,
                            "#bd3786"
                          ],
                          [
                            0.5555555555555556,
                            "#d8576b"
                          ],
                          [
                            0.6666666666666666,
                            "#ed7953"
                          ],
                          [
                            0.7777777777777778,
                            "#fb9f3a"
                          ],
                          [
                            0.8888888888888888,
                            "#fdca26"
                          ],
                          [
                            1,
                            "#f0f921"
                          ]
                        ],
                        "type": "histogram2dcontour"
                      }
                    ],
                    "mesh3d": [
                      {
                        "colorbar": {
                          "outlinewidth": 0,
                          "ticks": ""
                        },
                        "type": "mesh3d"
                      }
                    ],
                    "parcoords": [
                      {
                        "line": {
                          "colorbar": {
                            "outlinewidth": 0,
                            "ticks": ""
                          }
                        },
                        "type": "parcoords"
                      }
                    ],
                    "pie": [
                      {
                        "automargin": true,
                        "type": "pie"
                      }
                    ],
                    "scatter": [
                      {
                        "fillpattern": {
                          "fillmode": "overlay",
                          "size": 10,
                          "solidity": 0.2
                        },
                        "type": "scatter"
                      }
                    ],
                    "scatter3d": [
                      {
                        "line": {
                          "colorbar": {
                            "outlinewidth": 0,
                            "ticks": ""
                          }
                        },
                        "marker": {
                          "colorbar": {
                            "outlinewidth": 0,
                            "ticks": ""
                          }
                        },
                        "type": "scatter3d"
                      }
                    ],
                    "scattercarpet": [
                      {
                        "marker": {
                          "colorbar": {
                            "outlinewidth": 0,
                            "ticks": ""
                          }
                        },
                        "type": "scattercarpet"
                      }
                    ],
                    "scattergeo": [
                      {
                        "marker": {
                          "colorbar": {
                            "outlinewidth": 0,
                            "ticks": ""
                          }
                        },
                        "type": "scattergeo"
                      }
                    ],
                    "scattergl": [
                      {
                        "marker": {
                          "colorbar": {
                            "outlinewidth": 0,
                            "ticks": ""
                          }
                        },
                        "type": "scattergl"
                      }
                    ],
                    "scattermap": [
                      {
                        "marker": {
                          "colorbar": {
                            "outlinewidth": 0,
                            "ticks": ""
                          }
                        },
                        "type": "scattermap"
                      }
                    ],
                    "scattermapbox": [
                      {
                        "marker": {
                          "colorbar": {
                            "outlinewidth": 0,
                            "ticks": ""
                          }
                        },
                        "type": "scattermapbox"
                      }
                    ],
                    "scatterpolar": [
                      {
                        "marker": {
                          "colorbar": {
                            "outlinewidth": 0,
                            "ticks": ""
                          }
                        },
                        "type": "scatterpolar"
                      }
                    ],
                    "scatterpolargl": [
                      {
                        "marker": {
                          "colorbar": {
                            "outlinewidth": 0,
                            "ticks": ""
                          }
                        },
                        "type": "scatterpolargl"
                      }
                    ],
                    "scatterternary": [
                      {
                        "marker": {
                          "colorbar": {
                            "outlinewidth": 0,
                            "ticks": ""
                          }
                        },
                        "type": "scatterternary"
                      }
                    ],
                    "surface": [
                      {
                        "colorbar": {
                          "outlinewidth": 0,
                          "ticks": ""
                        },
                        "colorscale": [
                          [
                            0,
                            "#0d0887"
                          ],
                          [
                            0.1111111111111111,
                            "#46039f"
                          ],
                          [
                            0.2222222222222222,
                            "#7201a8"
                          ],
                          [
                            0.3333333333333333,
                            "#9c179e"
                          ],
                          [
                            0.4444444444444444,
                            "#bd3786"
                          ],
                          [
                            0.5555555555555556,
                            "#d8576b"
                          ],
                          [
                            0.6666666666666666,
                            "#ed7953"
                          ],
                          [
                            0.7777777777777778,
                            "#fb9f3a"
                          ],
                          [
                            0.8888888888888888,
                            "#fdca26"
                          ],
                          [
                            1,
                            "#f0f921"
                          ]
                        ],
                        "type": "surface"
                      }
                    ],
                    "table": [
                      {
                        "cells": {
                          "fill": {
                            "color": "#EBF0F8"
                          },
                          "line": {
                            "color": "white"
                          }
                        },
                        "header": {
                          "fill": {
                            "color": "#C8D4E3"
                          },
                          "line": {
                            "color": "white"
                          }
                        },
                        "type": "table"
                      }
                    ]
                  },
                  "layout": {
                    "annotationdefaults": {
                      "arrowcolor": "#2a3f5f",
                      "arrowhead": 0,
                      "arrowwidth": 1
                    },
                    "autotypenumbers": "strict",
                    "coloraxis": {
                      "colorbar": {
                        "outlinewidth": 0,
                        "ticks": ""
                      }
                    },
                    "colorscale": {
                      "diverging": [
                        [
                          0,
                          "#8e0152"
                        ],
                        [
                          0.1,
                          "#c51b7d"
                        ],
                        [
                          0.2,
                          "#de77ae"
                        ],
                        [
                          0.3,
                          "#f1b6da"
                        ],
                        [
                          0.4,
                          "#fde0ef"
                        ],
                        [
                          0.5,
                          "#f7f7f7"
                        ],
                        [
                          0.6,
                          "#e6f5d0"
                        ],
                        [
                          0.7,
                          "#b8e186"
                        ],
                        [
                          0.8,
                          "#7fbc41"
                        ],
                        [
                          0.9,
                          "#4d9221"
                        ],
                        [
                          1,
                          "#276419"
                        ]
                      ],
                      "sequential": [
                        [
                          0,
                          "#0d0887"
                        ],
                        [
                          0.1111111111111111,
                          "#46039f"
                        ],
                        [
                          0.2222222222222222,
                          "#7201a8"
                        ],
                        [
                          0.3333333333333333,
                          "#9c179e"
                        ],
                        [
                          0.4444444444444444,
                          "#bd3786"
                        ],
                        [
                          0.5555555555555556,
                          "#d8576b"
                        ],
                        [
                          0.6666666666666666,
                          "#ed7953"
                        ],
                        [
                          0.7777777777777778,
                          "#fb9f3a"
                        ],
                        [
                          0.8888888888888888,
                          "#fdca26"
                        ],
                        [
                          1,
                          "#f0f921"
                        ]
                      ],
                      "sequentialminus": [
                        [
                          0,
                          "#0d0887"
                        ],
                        [
                          0.1111111111111111,
                          "#46039f"
                        ],
                        [
                          0.2222222222222222,
                          "#7201a8"
                        ],
                        [
                          0.3333333333333333,
                          "#9c179e"
                        ],
                        [
                          0.4444444444444444,
                          "#bd3786"
                        ],
                        [
                          0.5555555555555556,
                          "#d8576b"
                        ],
                        [
                          0.6666666666666666,
                          "#ed7953"
                        ],
                        [
                          0.7777777777777778,
                          "#fb9f3a"
                        ],
                        [
                          0.8888888888888888,
                          "#fdca26"
                        ],
                        [
                          1,
                          "#f0f921"
                        ]
                      ]
                    },
                    "colorway": [
                      "#636efa",
                      "#EF553B",
                      "#00cc96",
                      "#ab63fa",
                      "#FFA15A",
                      "#19d3f3",
                      "#FF6692",
                      "#B6E880",
                      "#FF97FF",
                      "#FECB52"
                    ],
                    "font": {
                      "color": "#2a3f5f"
                    },
                    "geo": {
                      "bgcolor": "white",
                      "lakecolor": "white",
                      "landcolor": "white",
                      "showlakes": true,
                      "showland": true,
                      "subunitcolor": "#C8D4E3"
                    },
                    "hoverlabel": {
                      "align": "left"
                    },
                    "hovermode": "closest",
                    "mapbox": {
                      "style": "light"
                    },
                    "paper_bgcolor": "white",
                    "plot_bgcolor": "white",
                    "polar": {
                      "angularaxis": {
                        "gridcolor": "#EBF0F8",
                        "linecolor": "#EBF0F8",
                        "ticks": ""
                      },
                      "bgcolor": "white",
                      "radialaxis": {
                        "gridcolor": "#EBF0F8",
                        "linecolor": "#EBF0F8",
                        "ticks": ""
                      }
                    },
                    "scene": {
                      "xaxis": {
                        "backgroundcolor": "white",
                        "gridcolor": "#DFE8F3",
                        "gridwidth": 2,
                        "linecolor": "#EBF0F8",
                        "showbackground": true,
                        "ticks": "",
                        "zerolinecolor": "#EBF0F8"
                      },
                      "yaxis": {
                        "backgroundcolor": "white",
                        "gridcolor": "#DFE8F3",
                        "gridwidth": 2,
                        "linecolor": "#EBF0F8",
                        "showbackground": true,
                        "ticks": "",
                        "zerolinecolor": "#EBF0F8"
                      },
                      "zaxis": {
                        "backgroundcolor": "white",
                        "gridcolor": "#DFE8F3",
                        "gridwidth": 2,
                        "linecolor": "#EBF0F8",
                        "showbackground": true,
                        "ticks": "",
                        "zerolinecolor": "#EBF0F8"
                      }
                    },
                    "shapedefaults": {
                      "line": {
                        "color": "#2a3f5f"
                      }
                    },
                    "ternary": {
                      "aaxis": {
                        "gridcolor": "#DFE8F3",
                        "linecolor": "#A2B1C6",
                        "ticks": ""
                      },
                      "baxis": {
                        "gridcolor": "#DFE8F3",
                        "linecolor": "#A2B1C6",
                        "ticks": ""
                      },
                      "bgcolor": "white",
                      "caxis": {
                        "gridcolor": "#DFE8F3",
                        "linecolor": "#A2B1C6",
                        "ticks": ""
                      }
                    },
                    "title": {
                      "x": 0.05
                    },
                    "xaxis": {
                      "automargin": true,
                      "gridcolor": "#EBF0F8",
                      "linecolor": "#EBF0F8",
                      "ticks": "",
                      "title": {
                        "standoff": 15
                      },
                      "zerolinecolor": "#EBF0F8",
                      "zerolinewidth": 2
                    },
                    "yaxis": {
                      "automargin": true,
                      "gridcolor": "#EBF0F8",
                      "linecolor": "#EBF0F8",
                      "ticks": "",
                      "title": {
                        "standoff": 15
                      },
                      "zerolinecolor": "#EBF0F8",
                      "zerolinewidth": 2
                    }
                  }
                },
                "title": {
                  "text": "Trendlines"
                },
                "width": 1000,
                "xaxis": {
                  "rangeslider": {
                    "visible": false
                  },
                  "title": {
                    "text": "Date"
                  }
                },
                "yaxis": {
                  "title": {
                    "text": "Prix"
                  }
                }
              }
            }
          },
          "metadata": {},
          "output_type": "display_data"
        }
      ],
      "source": [
        "fig = plot_candles(df, trendlines=[\n",
        "    {\n",
        "        'slope': support_1_coefs[0],\n",
        "        'intercept': support_1_coefs[1],\n",
        "        'start_time': df.index[0],\n",
        "        'end_time': df.index[-1],\n",
        "        'name': 'Support',\n",
        "        'color': 'blue'\n",
        "    },\n",
        "        {\n",
        "        'slope': resistance_1_coefs[0],\n",
        "        'intercept': resistance_1_coefs[1],\n",
        "        'start_time': df.index[0],\n",
        "        'end_time': df.index[-1],\n",
        "        'name': 'resistance',\n",
        "        'color': 'red'\n",
        "    },\n",
        "])"
      ]
    },
    {
      "cell_type": "markdown",
      "metadata": {},
      "source": [
        "### Is these good trendlines ?\n",
        "\n",
        "🕯️ candles_close_to_trendline(...)\n",
        "This function checks how many candles (price points) are close to a trendline.\n",
        "\n",
        "🔍 How it works:\n",
        "- Calculates the distance between each price and the trendline\n",
        "- If the distance is smaller than the typical candle size (median_candle_width), it counts it as \"close\"\n",
        "\n",
        "Works differently for:\n",
        "- Support lines → prices should be above the line\n",
        "- Resistance lines → prices should be below the line"
      ]
    },
    {
      "cell_type": "code",
      "execution_count": 18,
      "metadata": {},
      "outputs": [],
      "source": [
        "percentile = 50"
      ]
    },
    {
      "cell_type": "code",
      "execution_count": 19,
      "metadata": {
        "id": "68NvaiBZ73H9"
      },
      "outputs": [
        {
          "name": "stdout",
          "output_type": "stream",
          "text": [
            "the median size of a candle : 201.77000000000407\n"
          ]
        }
      ],
      "source": [
        "median_candle_width = np.nanpercentile(np.abs(df['open'] - df['close']), percentile)\n",
        "print('the median size of a candle :',median_candle_width)"
      ]
    },
    {
      "cell_type": "code",
      "execution_count": 20,
      "metadata": {
        "colab": {
          "base_uri": "https://localhost:8080/"
        },
        "id": "EsdnEJXF9z4O",
        "outputId": "739378a1-a6ca-48b2-bf83-db0dcfbbe3c4"
      },
      "outputs": [
        {
          "name": "stdout",
          "output_type": "stream",
          "text": [
            "number of candles close to the support : 4 | number of candles close to the resist : 3\n"
          ]
        }
      ],
      "source": [
        "print('number of candles close to the support :',candles_close_to_trendline_numba(y_numpy, support_1_coefs[0], support_1_coefs[1], median_candle_width, support=True), '| number of candles close to the resist :', candles_close_to_trendline_numba(y_numpy, resistance_1_coefs[0], resistance_1_coefs[1], median_candle_width, support=False))"
      ]
    },
    {
      "cell_type": "markdown",
      "metadata": {},
      "source": [
        "📏 dist_from_trendline(...)\n",
        "This function measures how far the prices are from the trendline.\n",
        "\n",
        "🔍 What it does:\n",
        "- Calculates the distance between each price and the trendline.\n",
        "- Then returns the 50 percentile of those distances.\n",
        "\n",
        "This gives a sense of the worst-case gap — how far most prices are from the line.\n",
        "\n",
        "⚙️ Why it matters:\n",
        "- A lower distance means the trendline follows prices closely (better fit).\n",
        "- Helps filter out lines that are too far from actual price action.\n",
        "\n",
        "✅ Used to compare and score trendlines based on how well they \"hug\" the price."
      ]
    },
    {
      "cell_type": "code",
      "execution_count": 21,
      "metadata": {
        "colab": {
          "base_uri": "https://localhost:8080/"
        },
        "id": "Ou0bAHZBGdnP",
        "outputId": "486c9a51-15b1-45a6-fd57-5146516f2f4d"
      },
      "outputs": [
        {
          "data": {
            "text/plain": [
              "(2272.8318428242783, 1204.7753070966282)"
            ]
          },
          "execution_count": 21,
          "metadata": {},
          "output_type": "execute_result"
        }
      ],
      "source": [
        "dist_from_trendline_numba(y_numpy, support_1_coefs[0], support_1_coefs[1], percentile, support=True), dist_from_trendline_numba(y_numpy, resistance_1_coefs[0], resistance_1_coefs[1], percentile, support=False)"
      ]
    },
    {
      "cell_type": "markdown",
      "metadata": {},
      "source": [
        "---"
      ]
    },
    {
      "cell_type": "markdown",
      "metadata": {},
      "source": [
        "## 3: Repeat the process over all possible windows to find the best overall trendlines"
      ]
    },
    {
      "cell_type": "markdown",
      "metadata": {},
      "source": [
        "### STEP 1 :🔁 Scanning All Windows for the Best Trendlines\n",
        "\n",
        "To find the most reliable support and resistance lines, we apply the detection process on all possible time windows in the dataset.\n",
        "\n",
        "🧮 compute_trendline_scores(...)\n",
        "This function slides across the dataset, testing every possible sub-window (of at least min_window candles), and for each one:\n",
        "\n",
        "- Computes the best support and resistance trendlines\n",
        "- Evaluates how many candles are close to each line\n",
        "- Measures how well the line fits (distance from price)\n",
        "- Records the slope, intercept, and stats in a score table\n",
        "\n",
        "Each window becomes a candidate, and we can later sort and filter them to find the most accurate trendlines."
      ]
    },
    {
      "cell_type": "code",
      "execution_count": 22,
      "metadata": {},
      "outputs": [
        {
          "name": "stderr",
          "output_type": "stream",
          "text": [
            "Analyse en parallèle: 100%|██████████| 2850/2850 [00:13<00:00, 204.81it/s]\n"
          ]
        }
      ],
      "source": [
        "df_score = compute_trendline_scores_parallel(df, percentile)"
      ]
    },
    {
      "cell_type": "code",
      "execution_count": 23,
      "metadata": {},
      "outputs": [
        {
          "data": {
            "text/html": [
              "<div>\n",
              "<style scoped>\n",
              "    .dataframe tbody tr th:only-of-type {\n",
              "        vertical-align: middle;\n",
              "    }\n",
              "\n",
              "    .dataframe tbody tr th {\n",
              "        vertical-align: top;\n",
              "    }\n",
              "\n",
              "    .dataframe thead th {\n",
              "        text-align: right;\n",
              "    }\n",
              "</style>\n",
              "<table border=\"1\" class=\"dataframe\">\n",
              "  <thead>\n",
              "    <tr style=\"text-align: right;\">\n",
              "      <th></th>\n",
              "      <th>support_line</th>\n",
              "      <th>resistance_line</th>\n",
              "      <th>candles_close_to_trendline</th>\n",
              "      <th>dist_from_trendline</th>\n",
              "      <th>range</th>\n",
              "      <th>candles_number</th>\n",
              "    </tr>\n",
              "  </thead>\n",
              "  <tbody>\n",
              "    <tr>\n",
              "      <th>0</th>\n",
              "      <td>{'slope': -121.55521627054588, 'intercept': 95...</td>\n",
              "      <td>{'slope': -41.0771464347012, 'intercept': 9672...</td>\n",
              "      <td>{'support': 7, 'resistance': 2}</td>\n",
              "      <td>{'support': 452.64175594180415, 'resistance': ...</td>\n",
              "      <td>{'start': 2025-02-18 01:00:00, 'end': 2025-02-...</td>\n",
              "      <td>21</td>\n",
              "    </tr>\n",
              "    <tr>\n",
              "      <th>1</th>\n",
              "      <td>{'slope': -121.55771811469693, 'intercept': 95...</td>\n",
              "      <td>{'slope': -46.42723599244885, 'intercept': 967...</td>\n",
              "      <td>{'support': 7, 'resistance': 2}</td>\n",
              "      <td>{'support': 452.6042282795388, 'resistance': 6...</td>\n",
              "      <td>{'start': 2025-02-18 01:00:00, 'end': 2025-02-...</td>\n",
              "      <td>22</td>\n",
              "    </tr>\n",
              "    <tr>\n",
              "      <th>2</th>\n",
              "      <td>{'slope': -121.55856505141442, 'intercept': 95...</td>\n",
              "      <td>{'slope': -55.83556769450186, 'intercept': 969...</td>\n",
              "      <td>{'support': 7, 'resistance': 3}</td>\n",
              "      <td>{'support': 472.83286989716, 'resistance': 701...</td>\n",
              "      <td>{'start': 2025-02-18 01:00:00, 'end': 2025-02-...</td>\n",
              "      <td>23</td>\n",
              "    </tr>\n",
              "    <tr>\n",
              "      <th>3</th>\n",
              "      <td>{'slope': -121.55803281789603, 'intercept': 95...</td>\n",
              "      <td>{'slope': -55.83348157888219, 'intercept': 969...</td>\n",
              "      <td>{'support': 7, 'resistance': 3}</td>\n",
              "      <td>{'support': 472.8339343642001, 'resistance': 6...</td>\n",
              "      <td>{'start': 2025-02-18 01:00:00, 'end': 2025-02-...</td>\n",
              "      <td>24</td>\n",
              "    </tr>\n",
              "    <tr>\n",
              "      <th>4</th>\n",
              "      <td>{'slope': -121.55199338191123, 'intercept': 95...</td>\n",
              "      <td>{'slope': -52.22349230769229, 'intercept': 968...</td>\n",
              "      <td>{'support': 7, 'resistance': 4}</td>\n",
              "      <td>{'support': 515.0939867638372, 'resistance': 6...</td>\n",
              "      <td>{'start': 2025-02-18 01:00:00, 'end': 2025-02-...</td>\n",
              "      <td>25</td>\n",
              "    </tr>\n",
              "  </tbody>\n",
              "</table>\n",
              "</div>"
            ],
            "text/plain": [
              "                                        support_line  \\\n",
              "0  {'slope': -121.55521627054588, 'intercept': 95...   \n",
              "1  {'slope': -121.55771811469693, 'intercept': 95...   \n",
              "2  {'slope': -121.55856505141442, 'intercept': 95...   \n",
              "3  {'slope': -121.55803281789603, 'intercept': 95...   \n",
              "4  {'slope': -121.55199338191123, 'intercept': 95...   \n",
              "\n",
              "                                     resistance_line  \\\n",
              "0  {'slope': -41.0771464347012, 'intercept': 9672...   \n",
              "1  {'slope': -46.42723599244885, 'intercept': 967...   \n",
              "2  {'slope': -55.83556769450186, 'intercept': 969...   \n",
              "3  {'slope': -55.83348157888219, 'intercept': 969...   \n",
              "4  {'slope': -52.22349230769229, 'intercept': 968...   \n",
              "\n",
              "        candles_close_to_trendline  \\\n",
              "0  {'support': 7, 'resistance': 2}   \n",
              "1  {'support': 7, 'resistance': 2}   \n",
              "2  {'support': 7, 'resistance': 3}   \n",
              "3  {'support': 7, 'resistance': 3}   \n",
              "4  {'support': 7, 'resistance': 4}   \n",
              "\n",
              "                                 dist_from_trendline  \\\n",
              "0  {'support': 452.64175594180415, 'resistance': ...   \n",
              "1  {'support': 452.6042282795388, 'resistance': 6...   \n",
              "2  {'support': 472.83286989716, 'resistance': 701...   \n",
              "3  {'support': 472.8339343642001, 'resistance': 6...   \n",
              "4  {'support': 515.0939867638372, 'resistance': 6...   \n",
              "\n",
              "                                               range  candles_number  \n",
              "0  {'start': 2025-02-18 01:00:00, 'end': 2025-02-...              21  \n",
              "1  {'start': 2025-02-18 01:00:00, 'end': 2025-02-...              22  \n",
              "2  {'start': 2025-02-18 01:00:00, 'end': 2025-02-...              23  \n",
              "3  {'start': 2025-02-18 01:00:00, 'end': 2025-02-...              24  \n",
              "4  {'start': 2025-02-18 01:00:00, 'end': 2025-02-...              25  "
            ]
          },
          "execution_count": 23,
          "metadata": {},
          "output_type": "execute_result"
        }
      ],
      "source": [
        "df_score.head()"
      ]
    },
    {
      "cell_type": "markdown",
      "metadata": {},
      "source": [
        "### STEP 2 : Find the last best trendlines"
      ]
    },
    {
      "cell_type": "markdown",
      "metadata": {},
      "source": [
        "🧮 Canal Scoring Function\n",
        "We use a custom score to evaluate how \"good\" a price channel is (a pair of support + resistance lines). The goal is to favor channels that are:\n",
        "\n",
        "- Well aligned with price (small distance to the lines)\n",
        "- Respected by price action (many candles touch the lines)\n",
        "- Spread over time (longer duration = more meaningful)\n",
        "\n",
        "⚙️ compute_canal_score(...)\n",
        "This function calculates a score based on:\n",
        "\n",
        "- 🧲 Proximity → how close prices are to the trendlines\n",
        "- 🔁 Touches → number of candles near each line\n",
        "- ⏳ Duration → how long the trend lasted (in hours)"
      ]
    },
    {
      "cell_type": "markdown",
      "metadata": {},
      "source": [
        "score = (\n",
        "    w_proximity * avg_proximity +\n",
        "    w_bougies * touch_score +\n",
        "    w_duration * duration\n",
        ")\n",
        "\n",
        "🔸 w_proximity, w_bougies, and w_duration are weights you can adjust depending on what matters most to you."
      ]
    },
    {
      "cell_type": "code",
      "execution_count": 24,
      "metadata": {},
      "outputs": [
        {
          "data": {
            "text/plain": [
              "{'support_line': {'slope': 66.2106460107908, 'intercept': 92864.65966382735},\n",
              " 'resistance_line': {'slope': 34.7313434587859,\n",
              "  'intercept': 96165.26865654122},\n",
              " 'range': {'start': Timestamp('2025-02-18 02:00:00'),\n",
              "  'end': Timestamp('2025-02-21 12:00:00')},\n",
              " 'canal_score': 5.711166077858318}"
            ]
          },
          "execution_count": 24,
          "metadata": {},
          "output_type": "execute_result"
        }
      ],
      "source": [
        "df_score['canal_score'] = df_score.apply(\n",
        "    lambda row: compute_canal_score(row, w_duration=0.03, w_proximity=1, w_bougies=0.5),\n",
        "    axis=1\n",
        ")\n",
        "\n",
        "# Trier et récupérer la meilleure ligne\n",
        "best_row = df_score.sort_values(by='canal_score', ascending=False).iloc[0]\n",
        "best_row[['support_line', 'resistance_line', 'range', 'canal_score']].to_dict()\n"
      ]
    },
    {
      "cell_type": "code",
      "execution_count": 25,
      "metadata": {},
      "outputs": [
        {
          "data": {
            "application/vnd.plotly.v1+json": {
              "config": {
                "plotlyServerURL": "https://plot.ly"
              },
              "data": [
                {
                  "close": {
                    "bdata": "cT0K16OA90BSuB6FB3T3QAAAAACAfPdAXI/C9Wx090BxPQrXl1f3QAAAAABsSfdAFK5H4Q5O90DXo3A9bkD3QDMzMzP/YfdAAAAAAOhf90AK16NwhVn3QAAAAAAgfPdAAAAAAGB+90B7FK5HDVP3QOF6FK6nU/dA4XoUrv8a90D2KFyPYvn2QK5H4XpA7vZA16NwPYL59kAfhetRQP/2QMP1KFyXNfdAFK5H4YZE90BxPQrXe1v3QGZmZmYiRvdAcT0K139P90CPwvUofGX3QI/C9SjkXfdAmpmZmd0+90B7FK5HlUP3QFyPwvUEWPdAw/UoXHtc90BxPQrX31j3QGZmZmYWbPdA7FG4HqWE90CamZmZaYr3QKRwPQpnevdAPQrXo1iB90B7FK5HZWH3QHE9Ctd7bPdAAAAAAMCC90DsUbgeWYj3QD0K16NoW/dAPQrXo+h890BSuB6FS3v3QNejcD26g/dAmpmZmb2R90C4HoXrRZj3QOF6FK5fpfdAhetRuPqf90AfhetR6Lb3QAAAAAD0sfdAw/UoXIe890BxPQrX36j3QHE9Cte/qPdAhetRuD6m90CPwvUo4Lf3QEjhehQKuvdA4XoUrt/F90CF61G4frv3QClcj8JFyfdApHA9CqPR90D2KFyPbqz3QB+F61F8qPdA4XoUruvQ90AzMzMzL+r3QHsUrkdx//dAzczMzGwH+EApXI/CWQn4QMP1KFyX8vdAMzMzM2/190AAAAAAEAD4QOxRuB7F+/dAAAAAAIAA+EC4HoXr8fP3QHE9Ctff9fdAj8L1KMD590B7FK5H2QH4QHE9CtefBvhAj8L1KDz490D2KFyPVvr3QDMzMzMbAvhAAAAAAEAT+EDNzMzMVBT4QAAAAACAJfhAFK5H4W5A+EAfhetRnB34QD0K16OA8/dAXI/C9Xz690BmZmZmvqz3QB+F61H4kfdAKVyPwlFD90AAAAAApDX3QK5H4XowSvdArkfhevhk90DhehSuX3v3QA==",
                    "dtype": "f8"
                  },
                  "decreasing": {
                    "line": {
                      "color": "red"
                    }
                  },
                  "high": {
                    "bdata": "AAAAAMCC90BSuB6FL4T3QAAAAAAggvdA4XoUrsuC90BI4XoU6nb3QD0K16OcWfdApHA9ChNe90ApXI/C4VX3QAAAAABIYvdAhetRuAJo90CamZmZYWL3QM3MzMyQgfdA9ihcjy6O90D2KFyPHp/3QB+F61EsX/dAZmZmZhJZ90BxPQrX6yn3QLgehevtCPdASOF6FD4M90BmZmZmpg/3QGZmZmZ2R/dAAAAAAORS90AAAAAAUFz3QFyPwvWQZvdAAAAAAIBP90A9CtejmG33QOxRuB7dZfdAMzMzM49h90DNzMzMwEb3QAAAAABAWvdAZmZmZmJm90AAAAAAoGf3QAAAAACEcfdAcT0K10+N90B7FK5HcYr3QAAAAADwjvdAmpmZmRmO90AAAAAAwJv3QDMzMzNXifdA16NwPXaH90AAAAAAAI73QFK4HoXrifdAzczMzCx/90BxPQrX/433QLgeheuljvdAKVyPwt2W90BxPQrXP6j3QHE9CtdfpfdAAAAAAICu90A9CtejuL/3QHsUrkctxfdAKVyPwrHD90DD9Shch7z3QM3MzMx0rvdAuB6F6w2090BxPQrX27r3QAAAAABAwPdAAAAAAODF90CuR+F6gMb3QEjhehTe0PdAj8L1KOTR90BmZmZm4vD3QOxRuB7hwvdAAAAAAADr90BxPQrX/+z3QAAAAABACPhAAAAAAGAN+EApXI/CdRn4QBSuR+EmDPhA9ihcjzoE+EDXo3A97gz4QAAAAACQDPhAAAAAAOAC+EBSuB6FWwT4QI/C9Sik//dAZmZmZvL990Bcj8L1VAX4QJqZmZlVB/hAhetRuCIT+ED2KFyPXv33QFyPwvUMJfhAexSuR30X+EApXI/CESH4QBSuR+HeKPhAAAAAADBJ+ECF61G4QkP4QArXo3BVQPhAAAAAAFAc+EB7FK5H6Qf4QGZmZmZ2vPdAAAAAANCj90BmZmZmflv3QAAAAACAT/dAmpmZmalr90AUrkfhqnz3QA==",
                    "dtype": "f8"
                  },
                  "increasing": {
                    "line": {
                      "color": "green"
                    }
                  },
                  "low": {
                    "bdata": "w/UoXGdX90AAAAAA8HD3QAAAAAAAcPdAmpmZmQFu90DXo3A9MlP3QLgehethQfdAXI/C9SBE90AAAAAAoDT3QD0K16PQOvdAzczMzCBZ90AK16Nw7VT3QIXrUbgCV/dAH4XrUbx290C4HoXr8Uj3QAAAAAAAPvdAMzMzM5cZ90BmZmZmYvn2QAAAAAAA2vZACtejcMHM9kBSuB6FK+L2QM3MzMxs+vZAhetRuHoo90BmZmZmkkH3QKRwPQr/QvdAAAAAAPA090CuR+F6IE73QOxRuB7ZVPdAmpmZmd0+90BxPQrXXzP3QGZmZmYaQfdAAAAAAEBW90CamZmZCVj3QDMzMzPbWPdA16NwPRZs90BmZmZm1nz3QGZmZmamePdApHA9Cmd690AAAAAAwFz3QClcj8IFU/dAPQrXo6hr90AAAAAAoHf3QK5H4XqAWfdA9ihcj/ZK90DXo3A9Xnb3QEjhehSmc/dAmpmZmRWD90DNzMzMqJD3QArXo3DxifdACtejcDGX90DhehSuN573QD0K16M0rfdACtejcKmw90BSuB6Ft6f3QOxRuB7ZoPdAAAAAAECi90ApXI/CGaL3QAAAAADgt/dAAAAAAHy090CkcD0KQ7j3QIXrUbh+u/dAj8L1KEi/90CPwvUo2Kb3QIXrUbj2ofdAAAAAAICn90BmZmZmVtD3QArXo3B16fdAcT0K1x/890DhehSumwD4QAAAAAAA7fdAexSuR+Hw90AAAAAAMPT3QFyPwvVA8vdAMzMzMxP090ApXI/C8fP3QGZmZmZS8vdA4XoUrlv090CkcD0Kz/b3QEjhehRK//dAAAAAAMD390AAAAAAYPb3QClcj8Lx8/dASOF6FAr890DsUbgeqQv4QD0K16M0DvhAAAAAAAAf+ECkcD0KmwL4QFyPwvWUufdAhetRuN7a90CPwvUoAKT3QHE9Ctc3kPdAZmZmZvJA90AzMzMzfyn3QEjhehTiMfdAcT0K19dA90BI4XoULlv3QA==",
                    "dtype": "f8"
                  },
                  "name": "Candles",
                  "open": {
                    "bdata": "FK5H4V5Z90BxPQrXo4D3QFK4HoUHdPdAAAAAAIB890Bcj8L1bHT3QAAAAACYV/dAcT0K12tJ90CF61G4Dk73QNejcD1uQPdApHA9Cv9h90AAAAAA6F/3QJqZmZmFWfdAAAAAACB890AAAAAAYH73QHsUrkcNU/dAcT0K16dT90DhehSu/xr3QPYoXI9i+fZArkfhekDu9kBmZmZmgvn2QB+F61FM//ZAw/UoXJc190CF61G4hkT3QHE9Ctd7W/dAZmZmZiJG90AAAAAAgE/3QI/C9Sh8ZfdAAAAAAORd90AK16Nw3T73QArXo3CVQ/dAXI/C9QRY90DD9Shce1z3QHE9CtffWPdAZmZmZhZs90Bcj8L1pIT3QJqZmZlpivdAMzMzM2d690A9CtejWIH3QHsUrkdlYfdAcT0K13ts90AAAAAAwIL3QOxRuB5ZiPdArkfhemhb90A9Ctej6Hz3QFK4HoVLe/dAZmZmZrqD90AK16NwvZH3QLgehetFmPdA4XoUrl+l90CF61G4+p/3QB+F61HotvdAcT0K1/Ox90DD9Shch7z3QHE9CtffqPdAAAAAAMCo90CF61G4Pqb3QI/C9Sjgt/dASOF6FAq690DhehSu38X3QBSuR+F+u/dAuB6F60XJ90AzMzMzo9H3QIXrUbhurPdAj8L1KHyo90DhehSu69D3QDMzMzMv6vdACtejcHH/90DNzMzMbAf4QClcj8JZCfhAMzMzM5fy90AzMzMzb/X3QI/C9SgQAPhA7FG4HsX790AAAAAAgAD4QEjhehTy8/dAcT0K19/190AfhetRwPn3QArXo3DZAfhAAAAAAKAG+EAfhetRPPj3QPYoXI9W+vdAMzMzMxsC+EAAAAAAQBP4QFyPwvVUFPhAcT0K138l+ECF61G4bkD4QK5H4XqcHfhAPQrXo4Dz90Bcj8L1fPr3QPYoXI++rPdAH4XrUfiR90ApXI/CUUP3QHE9CtejNfdArkfhejBK90CuR+F6+GT3QA==",
                    "dtype": "f8"
                  },
                  "type": "candlestick",
                  "x": [
                    "2025-02-18T01:00:00",
                    "2025-02-18T02:00:00",
                    "2025-02-18T03:00:00",
                    "2025-02-18T04:00:00",
                    "2025-02-18T05:00:00",
                    "2025-02-18T06:00:00",
                    "2025-02-18T07:00:00",
                    "2025-02-18T08:00:00",
                    "2025-02-18T09:00:00",
                    "2025-02-18T10:00:00",
                    "2025-02-18T11:00:00",
                    "2025-02-18T12:00:00",
                    "2025-02-18T13:00:00",
                    "2025-02-18T14:00:00",
                    "2025-02-18T15:00:00",
                    "2025-02-18T16:00:00",
                    "2025-02-18T17:00:00",
                    "2025-02-18T18:00:00",
                    "2025-02-18T19:00:00",
                    "2025-02-18T20:00:00",
                    "2025-02-18T21:00:00",
                    "2025-02-18T22:00:00",
                    "2025-02-18T23:00:00",
                    "2025-02-19T00:00:00",
                    "2025-02-19T01:00:00",
                    "2025-02-19T02:00:00",
                    "2025-02-19T03:00:00",
                    "2025-02-19T04:00:00",
                    "2025-02-19T05:00:00",
                    "2025-02-19T06:00:00",
                    "2025-02-19T07:00:00",
                    "2025-02-19T08:00:00",
                    "2025-02-19T09:00:00",
                    "2025-02-19T10:00:00",
                    "2025-02-19T11:00:00",
                    "2025-02-19T12:00:00",
                    "2025-02-19T13:00:00",
                    "2025-02-19T14:00:00",
                    "2025-02-19T15:00:00",
                    "2025-02-19T16:00:00",
                    "2025-02-19T17:00:00",
                    "2025-02-19T18:00:00",
                    "2025-02-19T19:00:00",
                    "2025-02-19T20:00:00",
                    "2025-02-19T21:00:00",
                    "2025-02-19T22:00:00",
                    "2025-02-19T23:00:00",
                    "2025-02-20T00:00:00",
                    "2025-02-20T01:00:00",
                    "2025-02-20T02:00:00",
                    "2025-02-20T03:00:00",
                    "2025-02-20T04:00:00",
                    "2025-02-20T05:00:00",
                    "2025-02-20T06:00:00",
                    "2025-02-20T07:00:00",
                    "2025-02-20T08:00:00",
                    "2025-02-20T09:00:00",
                    "2025-02-20T10:00:00",
                    "2025-02-20T11:00:00",
                    "2025-02-20T12:00:00",
                    "2025-02-20T13:00:00",
                    "2025-02-20T14:00:00",
                    "2025-02-20T15:00:00",
                    "2025-02-20T16:00:00",
                    "2025-02-20T17:00:00",
                    "2025-02-20T18:00:00",
                    "2025-02-20T19:00:00",
                    "2025-02-20T20:00:00",
                    "2025-02-20T21:00:00",
                    "2025-02-20T22:00:00",
                    "2025-02-20T23:00:00",
                    "2025-02-21T00:00:00",
                    "2025-02-21T01:00:00",
                    "2025-02-21T02:00:00",
                    "2025-02-21T03:00:00",
                    "2025-02-21T04:00:00",
                    "2025-02-21T05:00:00",
                    "2025-02-21T06:00:00",
                    "2025-02-21T07:00:00",
                    "2025-02-21T08:00:00",
                    "2025-02-21T09:00:00",
                    "2025-02-21T10:00:00",
                    "2025-02-21T11:00:00",
                    "2025-02-21T12:00:00",
                    "2025-02-21T13:00:00",
                    "2025-02-21T14:00:00",
                    "2025-02-21T15:00:00",
                    "2025-02-21T16:00:00",
                    "2025-02-21T17:00:00",
                    "2025-02-21T18:00:00",
                    "2025-02-21T19:00:00",
                    "2025-02-21T20:00:00",
                    "2025-02-21T21:00:00",
                    "2025-02-21T22:00:00",
                    "2025-02-21T23:00:00"
                  ]
                },
                {
                  "line": {
                    "color": "blue",
                    "dash": "dash",
                    "width": 2
                  },
                  "mode": "lines",
                  "name": "Support",
                  "type": "scatter",
                  "x": [
                    "2025-02-18T01:00:00",
                    "2025-02-18T02:00:00",
                    "2025-02-18T03:00:00",
                    "2025-02-18T04:00:00",
                    "2025-02-18T05:00:00",
                    "2025-02-18T06:00:00",
                    "2025-02-18T07:00:00",
                    "2025-02-18T08:00:00",
                    "2025-02-18T09:00:00",
                    "2025-02-18T10:00:00",
                    "2025-02-18T11:00:00",
                    "2025-02-18T12:00:00",
                    "2025-02-18T13:00:00",
                    "2025-02-18T14:00:00",
                    "2025-02-18T15:00:00",
                    "2025-02-18T16:00:00",
                    "2025-02-18T17:00:00",
                    "2025-02-18T18:00:00",
                    "2025-02-18T19:00:00",
                    "2025-02-18T20:00:00",
                    "2025-02-18T21:00:00",
                    "2025-02-18T22:00:00",
                    "2025-02-18T23:00:00",
                    "2025-02-19T00:00:00",
                    "2025-02-19T01:00:00",
                    "2025-02-19T02:00:00",
                    "2025-02-19T03:00:00",
                    "2025-02-19T04:00:00",
                    "2025-02-19T05:00:00",
                    "2025-02-19T06:00:00",
                    "2025-02-19T07:00:00",
                    "2025-02-19T08:00:00",
                    "2025-02-19T09:00:00",
                    "2025-02-19T10:00:00",
                    "2025-02-19T11:00:00",
                    "2025-02-19T12:00:00",
                    "2025-02-19T13:00:00",
                    "2025-02-19T14:00:00",
                    "2025-02-19T15:00:00",
                    "2025-02-19T16:00:00",
                    "2025-02-19T17:00:00",
                    "2025-02-19T18:00:00",
                    "2025-02-19T19:00:00",
                    "2025-02-19T20:00:00",
                    "2025-02-19T21:00:00",
                    "2025-02-19T22:00:00",
                    "2025-02-19T23:00:00",
                    "2025-02-20T00:00:00",
                    "2025-02-20T01:00:00",
                    "2025-02-20T02:00:00",
                    "2025-02-20T03:00:00",
                    "2025-02-20T04:00:00",
                    "2025-02-20T05:00:00",
                    "2025-02-20T06:00:00",
                    "2025-02-20T07:00:00",
                    "2025-02-20T08:00:00",
                    "2025-02-20T09:00:00",
                    "2025-02-20T10:00:00",
                    "2025-02-20T11:00:00",
                    "2025-02-20T12:00:00",
                    "2025-02-20T13:00:00",
                    "2025-02-20T14:00:00",
                    "2025-02-20T15:00:00",
                    "2025-02-20T16:00:00",
                    "2025-02-20T17:00:00",
                    "2025-02-20T18:00:00",
                    "2025-02-20T19:00:00",
                    "2025-02-20T20:00:00",
                    "2025-02-20T21:00:00",
                    "2025-02-20T22:00:00",
                    "2025-02-20T23:00:00",
                    "2025-02-21T00:00:00",
                    "2025-02-21T01:00:00",
                    "2025-02-21T02:00:00",
                    "2025-02-21T03:00:00",
                    "2025-02-21T04:00:00",
                    "2025-02-21T05:00:00",
                    "2025-02-21T06:00:00",
                    "2025-02-21T07:00:00",
                    "2025-02-21T08:00:00",
                    "2025-02-21T09:00:00",
                    "2025-02-21T10:00:00",
                    "2025-02-21T11:00:00",
                    "2025-02-21T12:00:00",
                    "2025-02-21T13:00:00",
                    "2025-02-21T14:00:00",
                    "2025-02-21T15:00:00",
                    "2025-02-21T16:00:00",
                    "2025-02-21T17:00:00",
                    "2025-02-21T18:00:00",
                    "2025-02-21T19:00:00",
                    "2025-02-21T20:00:00",
                    "2025-02-21T21:00:00",
                    "2025-02-21T22:00:00",
                    "2025-02-21T23:00:00"
                  ],
                  "y": {
                    "bdata": "AAAAAAAA+H9NqPuNCqz2QEMCyuwtsPZAOVyYS1G09kAvtmaqdLj2QCUQNQmYvPZAG2oDaLvA9kARxNHG3sT2QAceoCUCyfZA/nduhCXN9kD00TzjSNH2QOorC0Js1fZA4IXZoI/Z9kDW36f/st32QMw5dl7W4fZAwpNEvfnl9kC47RIcHer2QK5H4XpA7vZApKGv2WPy9kCa+304h/b2QJBVTJeq+vZAhq8a9s3+9kB8CelU8QL3QHNjt7MUB/dAab2FEjgL90BfF1RxWw/3QFVxItB+E/dAS8vwLqIX90BBJb+NxRv3QDd/jezoH/dALdlbSwwk90AjMyqqLyj3QBmN+AhTLPdAD+fGZ3Yw90AFQZXGmTT3QPuaYyW9OPdA8fQxhOA890DoTgDjA0H3QN6ozkEnRfdA1AKdoEpJ90DKXGv/bU33QMC2OV6RUfdAthAIvbRV90CsatYb2Fn3QKLEpHr7XfdAmB5z2R5i90COeEE4Qmb3QITSD5dlavdAeize9Yhu90BwhqxUrHL3QGbgerPPdvdAXDpJEvN690BTlBdxFn/3QEnu5c85g/dAP0i0Ll2H90A1ooKNgIv3QCv8UOyjj/dAIVYfS8eT90AXsO2p6pf3QA0KvAgOnPdAA2SKZzGg90D5vVjGVKT3QO8XJyV4qPdA5XH1g5us90Dby8PivrD3QNElkkHitPdAyH9goAW590C+2S7/KL33QLQz/V1MwfdAqo3LvG/F90Cg55kbk8n3QJZBaHq2zfdAjJs22dnR90CC9QQ4/dX3QHhP05Yg2vdAbqmh9UPe90BkA3BUZ+L3QFpdPrOK5vdAULcMEq7q90BGEdtw0e73QDxrqc/08vdAM8V3Lhj390ApH0aNO/v3QB95FOxe//dAAAAAAAAA+H8AAAAAAAD4fwAAAAAAAPh/AAAAAAAA+H8AAAAAAAD4fwAAAAAAAPh/AAAAAAAA+H8AAAAAAAD4fwAAAAAAAPh/AAAAAAAA+H8AAAAAAAD4fw==",
                    "dtype": "f8"
                  }
                },
                {
                  "line": {
                    "color": "red",
                    "dash": "dash",
                    "width": 2
                  },
                  "mode": "lines",
                  "name": "resistance",
                  "type": "scatter",
                  "x": [
                    "2025-02-18T01:00:00",
                    "2025-02-18T02:00:00",
                    "2025-02-18T03:00:00",
                    "2025-02-18T04:00:00",
                    "2025-02-18T05:00:00",
                    "2025-02-18T06:00:00",
                    "2025-02-18T07:00:00",
                    "2025-02-18T08:00:00",
                    "2025-02-18T09:00:00",
                    "2025-02-18T10:00:00",
                    "2025-02-18T11:00:00",
                    "2025-02-18T12:00:00",
                    "2025-02-18T13:00:00",
                    "2025-02-18T14:00:00",
                    "2025-02-18T15:00:00",
                    "2025-02-18T16:00:00",
                    "2025-02-18T17:00:00",
                    "2025-02-18T18:00:00",
                    "2025-02-18T19:00:00",
                    "2025-02-18T20:00:00",
                    "2025-02-18T21:00:00",
                    "2025-02-18T22:00:00",
                    "2025-02-18T23:00:00",
                    "2025-02-19T00:00:00",
                    "2025-02-19T01:00:00",
                    "2025-02-19T02:00:00",
                    "2025-02-19T03:00:00",
                    "2025-02-19T04:00:00",
                    "2025-02-19T05:00:00",
                    "2025-02-19T06:00:00",
                    "2025-02-19T07:00:00",
                    "2025-02-19T08:00:00",
                    "2025-02-19T09:00:00",
                    "2025-02-19T10:00:00",
                    "2025-02-19T11:00:00",
                    "2025-02-19T12:00:00",
                    "2025-02-19T13:00:00",
                    "2025-02-19T14:00:00",
                    "2025-02-19T15:00:00",
                    "2025-02-19T16:00:00",
                    "2025-02-19T17:00:00",
                    "2025-02-19T18:00:00",
                    "2025-02-19T19:00:00",
                    "2025-02-19T20:00:00",
                    "2025-02-19T21:00:00",
                    "2025-02-19T22:00:00",
                    "2025-02-19T23:00:00",
                    "2025-02-20T00:00:00",
                    "2025-02-20T01:00:00",
                    "2025-02-20T02:00:00",
                    "2025-02-20T03:00:00",
                    "2025-02-20T04:00:00",
                    "2025-02-20T05:00:00",
                    "2025-02-20T06:00:00",
                    "2025-02-20T07:00:00",
                    "2025-02-20T08:00:00",
                    "2025-02-20T09:00:00",
                    "2025-02-20T10:00:00",
                    "2025-02-20T11:00:00",
                    "2025-02-20T12:00:00",
                    "2025-02-20T13:00:00",
                    "2025-02-20T14:00:00",
                    "2025-02-20T15:00:00",
                    "2025-02-20T16:00:00",
                    "2025-02-20T17:00:00",
                    "2025-02-20T18:00:00",
                    "2025-02-20T19:00:00",
                    "2025-02-20T20:00:00",
                    "2025-02-20T21:00:00",
                    "2025-02-20T22:00:00",
                    "2025-02-20T23:00:00",
                    "2025-02-21T00:00:00",
                    "2025-02-21T01:00:00",
                    "2025-02-21T02:00:00",
                    "2025-02-21T03:00:00",
                    "2025-02-21T04:00:00",
                    "2025-02-21T05:00:00",
                    "2025-02-21T06:00:00",
                    "2025-02-21T07:00:00",
                    "2025-02-21T08:00:00",
                    "2025-02-21T09:00:00",
                    "2025-02-21T10:00:00",
                    "2025-02-21T11:00:00",
                    "2025-02-21T12:00:00",
                    "2025-02-21T13:00:00",
                    "2025-02-21T14:00:00",
                    "2025-02-21T15:00:00",
                    "2025-02-21T16:00:00",
                    "2025-02-21T17:00:00",
                    "2025-02-21T18:00:00",
                    "2025-02-21T19:00:00",
                    "2025-02-21T20:00:00",
                    "2025-02-21T21:00:00",
                    "2025-02-21T22:00:00",
                    "2025-02-21T23:00:00"
                  ],
                  "y": {
                    "bdata": "AAAAAAAA+H8mzWpMVHr3QAAAAACAfPdA2jKVs6t+90C0ZSpn14D3QI6YvxoDg/dAaMtUzi6F90BC/umBWof3QBwxfzWGifdA92MU6bGL90DRlqmc3Y33QKvJPlAJkPdAhfzTAzWS90BfL2m3YJT3QDli/mqMlvdAE5WTHriY90DtxyjS45r3QMf6vYUPnfdAoS1TOTuf90B7YOjsZqH3QFWTfaCSo/dAL8YSVL6l90AJ+acH6qf3QOMrPbsVqvdAvV7SbkGs90CYkWciba73QHLE/NWYsPdATPeRicSy90AmKic98LT3QABdvPAbt/dA2o9RpEe590C0wuZXc7v3QI71ewufvfdAaCgRv8q/90BCW6Zy9sH3QByOOyYixPdA9sDQ2U3G90DQ82WNecj3QKom+0ClyvdAhFmQ9NDM90BejCWo/M73QDm/ulso0fdAE/JPD1TT90DtJOXCf9X3QMdXenar1/dAoYoPKtfZ90B7vaTdAtz3QFXwOZEu3vdALyPPRFrg90AJVmT4heL3QOOI+aux5PdAvbuOX93m90CX7iMTCen3QHEhucY06/dAS1ROemDt90Alh+MtjO/3QP+5eOG38fdA2uwNlePz90C0H6NID/b3QI5SOPw6+PdAaIXNr2b690BCuGJjkvz3QBzr9xa+/vdA9h2NyukA+EDQUCJ+FQP4QKqDtzFBBfhAhLZM5WwH+EBe6eGYmAn4QDgcd0zEC/hAEk8MAPAN+EDsgaGzGxD4QMa0NmdHEvhAoOfLGnMU+EB7GmHOnhb4QFVN9oHKGPhAL4CLNfYa+EAJsyDpIR34QOPltZxNH/hAvRhLUHkh+ECXS+ADpSP4QHF+dbfQJfhAS7EKa/wn+EAl5J8eKCr4QP8WNdJTLPhAAAAAAAAA+H8AAAAAAAD4fwAAAAAAAPh/AAAAAAAA+H8AAAAAAAD4fwAAAAAAAPh/AAAAAAAA+H8AAAAAAAD4fwAAAAAAAPh/AAAAAAAA+H8AAAAAAAD4fw==",
                    "dtype": "f8"
                  }
                }
              ],
              "layout": {
                "height": 600,
                "template": {
                  "data": {
                    "bar": [
                      {
                        "error_x": {
                          "color": "#2a3f5f"
                        },
                        "error_y": {
                          "color": "#2a3f5f"
                        },
                        "marker": {
                          "line": {
                            "color": "white",
                            "width": 0.5
                          },
                          "pattern": {
                            "fillmode": "overlay",
                            "size": 10,
                            "solidity": 0.2
                          }
                        },
                        "type": "bar"
                      }
                    ],
                    "barpolar": [
                      {
                        "marker": {
                          "line": {
                            "color": "white",
                            "width": 0.5
                          },
                          "pattern": {
                            "fillmode": "overlay",
                            "size": 10,
                            "solidity": 0.2
                          }
                        },
                        "type": "barpolar"
                      }
                    ],
                    "carpet": [
                      {
                        "aaxis": {
                          "endlinecolor": "#2a3f5f",
                          "gridcolor": "#C8D4E3",
                          "linecolor": "#C8D4E3",
                          "minorgridcolor": "#C8D4E3",
                          "startlinecolor": "#2a3f5f"
                        },
                        "baxis": {
                          "endlinecolor": "#2a3f5f",
                          "gridcolor": "#C8D4E3",
                          "linecolor": "#C8D4E3",
                          "minorgridcolor": "#C8D4E3",
                          "startlinecolor": "#2a3f5f"
                        },
                        "type": "carpet"
                      }
                    ],
                    "choropleth": [
                      {
                        "colorbar": {
                          "outlinewidth": 0,
                          "ticks": ""
                        },
                        "type": "choropleth"
                      }
                    ],
                    "contour": [
                      {
                        "colorbar": {
                          "outlinewidth": 0,
                          "ticks": ""
                        },
                        "colorscale": [
                          [
                            0,
                            "#0d0887"
                          ],
                          [
                            0.1111111111111111,
                            "#46039f"
                          ],
                          [
                            0.2222222222222222,
                            "#7201a8"
                          ],
                          [
                            0.3333333333333333,
                            "#9c179e"
                          ],
                          [
                            0.4444444444444444,
                            "#bd3786"
                          ],
                          [
                            0.5555555555555556,
                            "#d8576b"
                          ],
                          [
                            0.6666666666666666,
                            "#ed7953"
                          ],
                          [
                            0.7777777777777778,
                            "#fb9f3a"
                          ],
                          [
                            0.8888888888888888,
                            "#fdca26"
                          ],
                          [
                            1,
                            "#f0f921"
                          ]
                        ],
                        "type": "contour"
                      }
                    ],
                    "contourcarpet": [
                      {
                        "colorbar": {
                          "outlinewidth": 0,
                          "ticks": ""
                        },
                        "type": "contourcarpet"
                      }
                    ],
                    "heatmap": [
                      {
                        "colorbar": {
                          "outlinewidth": 0,
                          "ticks": ""
                        },
                        "colorscale": [
                          [
                            0,
                            "#0d0887"
                          ],
                          [
                            0.1111111111111111,
                            "#46039f"
                          ],
                          [
                            0.2222222222222222,
                            "#7201a8"
                          ],
                          [
                            0.3333333333333333,
                            "#9c179e"
                          ],
                          [
                            0.4444444444444444,
                            "#bd3786"
                          ],
                          [
                            0.5555555555555556,
                            "#d8576b"
                          ],
                          [
                            0.6666666666666666,
                            "#ed7953"
                          ],
                          [
                            0.7777777777777778,
                            "#fb9f3a"
                          ],
                          [
                            0.8888888888888888,
                            "#fdca26"
                          ],
                          [
                            1,
                            "#f0f921"
                          ]
                        ],
                        "type": "heatmap"
                      }
                    ],
                    "histogram": [
                      {
                        "marker": {
                          "pattern": {
                            "fillmode": "overlay",
                            "size": 10,
                            "solidity": 0.2
                          }
                        },
                        "type": "histogram"
                      }
                    ],
                    "histogram2d": [
                      {
                        "colorbar": {
                          "outlinewidth": 0,
                          "ticks": ""
                        },
                        "colorscale": [
                          [
                            0,
                            "#0d0887"
                          ],
                          [
                            0.1111111111111111,
                            "#46039f"
                          ],
                          [
                            0.2222222222222222,
                            "#7201a8"
                          ],
                          [
                            0.3333333333333333,
                            "#9c179e"
                          ],
                          [
                            0.4444444444444444,
                            "#bd3786"
                          ],
                          [
                            0.5555555555555556,
                            "#d8576b"
                          ],
                          [
                            0.6666666666666666,
                            "#ed7953"
                          ],
                          [
                            0.7777777777777778,
                            "#fb9f3a"
                          ],
                          [
                            0.8888888888888888,
                            "#fdca26"
                          ],
                          [
                            1,
                            "#f0f921"
                          ]
                        ],
                        "type": "histogram2d"
                      }
                    ],
                    "histogram2dcontour": [
                      {
                        "colorbar": {
                          "outlinewidth": 0,
                          "ticks": ""
                        },
                        "colorscale": [
                          [
                            0,
                            "#0d0887"
                          ],
                          [
                            0.1111111111111111,
                            "#46039f"
                          ],
                          [
                            0.2222222222222222,
                            "#7201a8"
                          ],
                          [
                            0.3333333333333333,
                            "#9c179e"
                          ],
                          [
                            0.4444444444444444,
                            "#bd3786"
                          ],
                          [
                            0.5555555555555556,
                            "#d8576b"
                          ],
                          [
                            0.6666666666666666,
                            "#ed7953"
                          ],
                          [
                            0.7777777777777778,
                            "#fb9f3a"
                          ],
                          [
                            0.8888888888888888,
                            "#fdca26"
                          ],
                          [
                            1,
                            "#f0f921"
                          ]
                        ],
                        "type": "histogram2dcontour"
                      }
                    ],
                    "mesh3d": [
                      {
                        "colorbar": {
                          "outlinewidth": 0,
                          "ticks": ""
                        },
                        "type": "mesh3d"
                      }
                    ],
                    "parcoords": [
                      {
                        "line": {
                          "colorbar": {
                            "outlinewidth": 0,
                            "ticks": ""
                          }
                        },
                        "type": "parcoords"
                      }
                    ],
                    "pie": [
                      {
                        "automargin": true,
                        "type": "pie"
                      }
                    ],
                    "scatter": [
                      {
                        "fillpattern": {
                          "fillmode": "overlay",
                          "size": 10,
                          "solidity": 0.2
                        },
                        "type": "scatter"
                      }
                    ],
                    "scatter3d": [
                      {
                        "line": {
                          "colorbar": {
                            "outlinewidth": 0,
                            "ticks": ""
                          }
                        },
                        "marker": {
                          "colorbar": {
                            "outlinewidth": 0,
                            "ticks": ""
                          }
                        },
                        "type": "scatter3d"
                      }
                    ],
                    "scattercarpet": [
                      {
                        "marker": {
                          "colorbar": {
                            "outlinewidth": 0,
                            "ticks": ""
                          }
                        },
                        "type": "scattercarpet"
                      }
                    ],
                    "scattergeo": [
                      {
                        "marker": {
                          "colorbar": {
                            "outlinewidth": 0,
                            "ticks": ""
                          }
                        },
                        "type": "scattergeo"
                      }
                    ],
                    "scattergl": [
                      {
                        "marker": {
                          "colorbar": {
                            "outlinewidth": 0,
                            "ticks": ""
                          }
                        },
                        "type": "scattergl"
                      }
                    ],
                    "scattermap": [
                      {
                        "marker": {
                          "colorbar": {
                            "outlinewidth": 0,
                            "ticks": ""
                          }
                        },
                        "type": "scattermap"
                      }
                    ],
                    "scattermapbox": [
                      {
                        "marker": {
                          "colorbar": {
                            "outlinewidth": 0,
                            "ticks": ""
                          }
                        },
                        "type": "scattermapbox"
                      }
                    ],
                    "scatterpolar": [
                      {
                        "marker": {
                          "colorbar": {
                            "outlinewidth": 0,
                            "ticks": ""
                          }
                        },
                        "type": "scatterpolar"
                      }
                    ],
                    "scatterpolargl": [
                      {
                        "marker": {
                          "colorbar": {
                            "outlinewidth": 0,
                            "ticks": ""
                          }
                        },
                        "type": "scatterpolargl"
                      }
                    ],
                    "scatterternary": [
                      {
                        "marker": {
                          "colorbar": {
                            "outlinewidth": 0,
                            "ticks": ""
                          }
                        },
                        "type": "scatterternary"
                      }
                    ],
                    "surface": [
                      {
                        "colorbar": {
                          "outlinewidth": 0,
                          "ticks": ""
                        },
                        "colorscale": [
                          [
                            0,
                            "#0d0887"
                          ],
                          [
                            0.1111111111111111,
                            "#46039f"
                          ],
                          [
                            0.2222222222222222,
                            "#7201a8"
                          ],
                          [
                            0.3333333333333333,
                            "#9c179e"
                          ],
                          [
                            0.4444444444444444,
                            "#bd3786"
                          ],
                          [
                            0.5555555555555556,
                            "#d8576b"
                          ],
                          [
                            0.6666666666666666,
                            "#ed7953"
                          ],
                          [
                            0.7777777777777778,
                            "#fb9f3a"
                          ],
                          [
                            0.8888888888888888,
                            "#fdca26"
                          ],
                          [
                            1,
                            "#f0f921"
                          ]
                        ],
                        "type": "surface"
                      }
                    ],
                    "table": [
                      {
                        "cells": {
                          "fill": {
                            "color": "#EBF0F8"
                          },
                          "line": {
                            "color": "white"
                          }
                        },
                        "header": {
                          "fill": {
                            "color": "#C8D4E3"
                          },
                          "line": {
                            "color": "white"
                          }
                        },
                        "type": "table"
                      }
                    ]
                  },
                  "layout": {
                    "annotationdefaults": {
                      "arrowcolor": "#2a3f5f",
                      "arrowhead": 0,
                      "arrowwidth": 1
                    },
                    "autotypenumbers": "strict",
                    "coloraxis": {
                      "colorbar": {
                        "outlinewidth": 0,
                        "ticks": ""
                      }
                    },
                    "colorscale": {
                      "diverging": [
                        [
                          0,
                          "#8e0152"
                        ],
                        [
                          0.1,
                          "#c51b7d"
                        ],
                        [
                          0.2,
                          "#de77ae"
                        ],
                        [
                          0.3,
                          "#f1b6da"
                        ],
                        [
                          0.4,
                          "#fde0ef"
                        ],
                        [
                          0.5,
                          "#f7f7f7"
                        ],
                        [
                          0.6,
                          "#e6f5d0"
                        ],
                        [
                          0.7,
                          "#b8e186"
                        ],
                        [
                          0.8,
                          "#7fbc41"
                        ],
                        [
                          0.9,
                          "#4d9221"
                        ],
                        [
                          1,
                          "#276419"
                        ]
                      ],
                      "sequential": [
                        [
                          0,
                          "#0d0887"
                        ],
                        [
                          0.1111111111111111,
                          "#46039f"
                        ],
                        [
                          0.2222222222222222,
                          "#7201a8"
                        ],
                        [
                          0.3333333333333333,
                          "#9c179e"
                        ],
                        [
                          0.4444444444444444,
                          "#bd3786"
                        ],
                        [
                          0.5555555555555556,
                          "#d8576b"
                        ],
                        [
                          0.6666666666666666,
                          "#ed7953"
                        ],
                        [
                          0.7777777777777778,
                          "#fb9f3a"
                        ],
                        [
                          0.8888888888888888,
                          "#fdca26"
                        ],
                        [
                          1,
                          "#f0f921"
                        ]
                      ],
                      "sequentialminus": [
                        [
                          0,
                          "#0d0887"
                        ],
                        [
                          0.1111111111111111,
                          "#46039f"
                        ],
                        [
                          0.2222222222222222,
                          "#7201a8"
                        ],
                        [
                          0.3333333333333333,
                          "#9c179e"
                        ],
                        [
                          0.4444444444444444,
                          "#bd3786"
                        ],
                        [
                          0.5555555555555556,
                          "#d8576b"
                        ],
                        [
                          0.6666666666666666,
                          "#ed7953"
                        ],
                        [
                          0.7777777777777778,
                          "#fb9f3a"
                        ],
                        [
                          0.8888888888888888,
                          "#fdca26"
                        ],
                        [
                          1,
                          "#f0f921"
                        ]
                      ]
                    },
                    "colorway": [
                      "#636efa",
                      "#EF553B",
                      "#00cc96",
                      "#ab63fa",
                      "#FFA15A",
                      "#19d3f3",
                      "#FF6692",
                      "#B6E880",
                      "#FF97FF",
                      "#FECB52"
                    ],
                    "font": {
                      "color": "#2a3f5f"
                    },
                    "geo": {
                      "bgcolor": "white",
                      "lakecolor": "white",
                      "landcolor": "white",
                      "showlakes": true,
                      "showland": true,
                      "subunitcolor": "#C8D4E3"
                    },
                    "hoverlabel": {
                      "align": "left"
                    },
                    "hovermode": "closest",
                    "mapbox": {
                      "style": "light"
                    },
                    "paper_bgcolor": "white",
                    "plot_bgcolor": "white",
                    "polar": {
                      "angularaxis": {
                        "gridcolor": "#EBF0F8",
                        "linecolor": "#EBF0F8",
                        "ticks": ""
                      },
                      "bgcolor": "white",
                      "radialaxis": {
                        "gridcolor": "#EBF0F8",
                        "linecolor": "#EBF0F8",
                        "ticks": ""
                      }
                    },
                    "scene": {
                      "xaxis": {
                        "backgroundcolor": "white",
                        "gridcolor": "#DFE8F3",
                        "gridwidth": 2,
                        "linecolor": "#EBF0F8",
                        "showbackground": true,
                        "ticks": "",
                        "zerolinecolor": "#EBF0F8"
                      },
                      "yaxis": {
                        "backgroundcolor": "white",
                        "gridcolor": "#DFE8F3",
                        "gridwidth": 2,
                        "linecolor": "#EBF0F8",
                        "showbackground": true,
                        "ticks": "",
                        "zerolinecolor": "#EBF0F8"
                      },
                      "zaxis": {
                        "backgroundcolor": "white",
                        "gridcolor": "#DFE8F3",
                        "gridwidth": 2,
                        "linecolor": "#EBF0F8",
                        "showbackground": true,
                        "ticks": "",
                        "zerolinecolor": "#EBF0F8"
                      }
                    },
                    "shapedefaults": {
                      "line": {
                        "color": "#2a3f5f"
                      }
                    },
                    "ternary": {
                      "aaxis": {
                        "gridcolor": "#DFE8F3",
                        "linecolor": "#A2B1C6",
                        "ticks": ""
                      },
                      "baxis": {
                        "gridcolor": "#DFE8F3",
                        "linecolor": "#A2B1C6",
                        "ticks": ""
                      },
                      "bgcolor": "white",
                      "caxis": {
                        "gridcolor": "#DFE8F3",
                        "linecolor": "#A2B1C6",
                        "ticks": ""
                      }
                    },
                    "title": {
                      "x": 0.05
                    },
                    "xaxis": {
                      "automargin": true,
                      "gridcolor": "#EBF0F8",
                      "linecolor": "#EBF0F8",
                      "ticks": "",
                      "title": {
                        "standoff": 15
                      },
                      "zerolinecolor": "#EBF0F8",
                      "zerolinewidth": 2
                    },
                    "yaxis": {
                      "automargin": true,
                      "gridcolor": "#EBF0F8",
                      "linecolor": "#EBF0F8",
                      "ticks": "",
                      "title": {
                        "standoff": 15
                      },
                      "zerolinecolor": "#EBF0F8",
                      "zerolinewidth": 2
                    }
                  }
                },
                "title": {
                  "text": "Trendlines"
                },
                "width": 1000,
                "xaxis": {
                  "rangeslider": {
                    "visible": false
                  },
                  "title": {
                    "text": "Date"
                  }
                },
                "yaxis": {
                  "title": {
                    "text": "Prix"
                  }
                }
              }
            }
          },
          "metadata": {},
          "output_type": "display_data"
        }
      ],
      "source": [
        "fig_ = plot_candles(df, trendlines=[\n",
        "    {\n",
        "        'slope': best_row['support_line']['slope'],\n",
        "        'intercept': best_row['support_line']['intercept'],\n",
        "        'start_time': best_row['range']['start'],\n",
        "        'end_time': best_row['range']['end'],\n",
        "        'name': 'Support',\n",
        "        'color': 'blue'\n",
        "    },\n",
        "        {\n",
        "        'slope': best_row['resistance_line']['slope'],\n",
        "        'intercept': best_row['resistance_line']['intercept'],\n",
        "        'start_time': best_row['range']['start'],\n",
        "        'end_time': best_row['range']['end'],\n",
        "        'name': 'resistance',\n",
        "        'color': 'red'\n",
        "    },\n",
        "])"
      ]
    },
    {
      "cell_type": "code",
      "execution_count": 26,
      "metadata": {},
      "outputs": [
        {
          "data": {
            "text/plain": [
              "True"
            ]
          },
          "execution_count": 26,
          "metadata": {},
          "output_type": "execute_result"
        }
      ],
      "source": [
        "is_wedge(\n",
        "    support_line={'slope': best_row['support_line']['slope'], 'intercept': best_row['support_line']['intercept']},\n",
        "    resistance_line={'slope': best_row['resistance_line']['slope'], 'intercept': best_row['resistance_line']['intercept']},\n",
        "    range_window={'start': best_row['range']['start'], 'end': best_row['range']['end']}\n",
        ")\n"
      ]
    },
    {
      "cell_type": "markdown",
      "metadata": {},
      "source": [
        "## The two trends form a rising channel that’s tightening, known as a rising (ascending) wedge. More in-depth analysis can be carried out to test a trading strategy based on these signals…"
      ]
    }
  ],
  "metadata": {
    "colab": {
      "provenance": []
    },
    "kernelspec": {
      "display_name": "Python 3",
      "name": "python3"
    },
    "language_info": {
      "codemirror_mode": {
        "name": "ipython",
        "version": 3
      },
      "file_extension": ".py",
      "mimetype": "text/x-python",
      "name": "python",
      "nbconvert_exporter": "python",
      "pygments_lexer": "ipython3",
      "version": "3.13.1"
    }
  },
  "nbformat": 4,
  "nbformat_minor": 0
}
